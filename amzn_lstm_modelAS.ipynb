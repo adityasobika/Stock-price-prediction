{
  "nbformat": 4,
  "nbformat_minor": 0,
  "metadata": {
    "colab": {
      "name": "amzn_lstm_modelAS.ipynb",
      "provenance": [],
      "collapsed_sections": []
    },
    "kernelspec": {
      "display_name": "Python 3",
      "name": "python3"
    },
    "language_info": {
      "name": "python"
    }
  },
  "cells": [
    {
      "cell_type": "markdown",
      "metadata": {
        "id": "4KHXDg8YL5dQ"
      },
      "source": [
        "# Importing libraries"
      ]
    },
    {
      "cell_type": "code",
      "metadata": {
        "id": "bJK_rLwaL28U"
      },
      "source": [
        "import math\n",
        "import numpy as np\n",
        "import pandas as pd\n",
        "from sklearn.preprocessing import MinMaxScaler\n",
        "from keras.models import Sequential \n",
        "from keras.layers import Dense, LSTM, Dropout\n",
        "import matplotlib.pyplot as plt\n",
        "%matplotlib inline\n",
        "plt.style.use('seaborn')\n",
        "import pandas_datareader.data as web\n",
        "import plotly.express as px\n",
        "import plotly.graph_objects as go"
      ],
      "execution_count": 2,
      "outputs": []
    },
    {
      "cell_type": "markdown",
      "metadata": {
        "id": "JXnLzmM4M-0v"
      },
      "source": [
        "# Dataset uploading"
      ]
    },
    {
      "cell_type": "code",
      "metadata": {
        "colab": {
          "resources": {
            "http://localhost:8080/nbextensions/google.colab/files.js": {
              "data": "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",
              "ok": true,
              "headers": [
                [
                  "content-type",
                  "application/javascript"
                ]
              ],
              "status": 200,
              "status_text": ""
            }
          },
          "base_uri": "https://localhost:8080/",
          "height": 73
        },
        "id": "YpHyNiuvM91w",
        "outputId": "e46b98d2-867c-45a4-c49a-a44f40034631"
      },
      "source": [
        "from google.colab import files\n",
        "uploaded= files.upload()"
      ],
      "execution_count": 3,
      "outputs": [
        {
          "output_type": "display_data",
          "data": {
            "text/html": [
              "\n",
              "     <input type=\"file\" id=\"files-00d0c5b3-05f9-4117-83b0-674c5ee052ad\" name=\"files[]\" multiple disabled\n",
              "        style=\"border:none\" />\n",
              "     <output id=\"result-00d0c5b3-05f9-4117-83b0-674c5ee052ad\">\n",
              "      Upload widget is only available when the cell has been executed in the\n",
              "      current browser session. Please rerun this cell to enable.\n",
              "      </output>\n",
              "      <script src=\"/nbextensions/google.colab/files.js\"></script> "
            ],
            "text/plain": [
              "<IPython.core.display.HTML object>"
            ]
          },
          "metadata": {
            "tags": []
          }
        },
        {
          "output_type": "stream",
          "text": [
            "Saving amazondata.csv to amazondata.csv\n"
          ],
          "name": "stdout"
        }
      ]
    },
    {
      "cell_type": "code",
      "metadata": {
        "colab": {
          "base_uri": "https://localhost:8080/",
          "height": 195
        },
        "id": "Rr3V3BJNNb01",
        "outputId": "88d537d8-2f5b-4381-fa1c-3d34f847b529"
      },
      "source": [
        "amzn_data= pd.read_csv('amazondata.csv')\n",
        "amzn_data.head()"
      ],
      "execution_count": 4,
      "outputs": [
        {
          "output_type": "execute_result",
          "data": {
            "text/html": [
              "<div>\n",
              "<style scoped>\n",
              "    .dataframe tbody tr th:only-of-type {\n",
              "        vertical-align: middle;\n",
              "    }\n",
              "\n",
              "    .dataframe tbody tr th {\n",
              "        vertical-align: top;\n",
              "    }\n",
              "\n",
              "    .dataframe thead th {\n",
              "        text-align: right;\n",
              "    }\n",
              "</style>\n",
              "<table border=\"1\" class=\"dataframe\">\n",
              "  <thead>\n",
              "    <tr style=\"text-align: right;\">\n",
              "      <th></th>\n",
              "      <th>Date</th>\n",
              "      <th>Close</th>\n",
              "      <th>Volume</th>\n",
              "      <th>Open</th>\n",
              "      <th>High</th>\n",
              "      <th>Low</th>\n",
              "    </tr>\n",
              "  </thead>\n",
              "  <tbody>\n",
              "    <tr>\n",
              "      <th>0</th>\n",
              "      <td>06-09-2021</td>\n",
              "      <td>$3281.15</td>\n",
              "      <td>2455530</td>\n",
              "      <td>$3272.87</td>\n",
              "      <td>$3297.58</td>\n",
              "      <td>$3270.7</td>\n",
              "    </tr>\n",
              "    <tr>\n",
              "      <th>1</th>\n",
              "      <td>06-08-2021</td>\n",
              "      <td>$3264.11</td>\n",
              "      <td>3416730</td>\n",
              "      <td>$3222.61</td>\n",
              "      <td>$3279.5321</td>\n",
              "      <td>$3218.01</td>\n",
              "    </tr>\n",
              "    <tr>\n",
              "      <th>2</th>\n",
              "      <td>06-07-2021</td>\n",
              "      <td>$3198.01</td>\n",
              "      <td>2215756</td>\n",
              "      <td>$3197.33</td>\n",
              "      <td>$3208</td>\n",
              "      <td>$3172.2</td>\n",
              "    </tr>\n",
              "    <tr>\n",
              "      <th>3</th>\n",
              "      <td>06-04-2021</td>\n",
              "      <td>$3206.22</td>\n",
              "      <td>2249749</td>\n",
              "      <td>$3212</td>\n",
              "      <td>$3221</td>\n",
              "      <td>$3198.81</td>\n",
              "    </tr>\n",
              "    <tr>\n",
              "      <th>4</th>\n",
              "      <td>06-03-2021</td>\n",
              "      <td>$3187.01</td>\n",
              "      <td>2398293</td>\n",
              "      <td>$3204.23</td>\n",
              "      <td>$3214.435</td>\n",
              "      <td>$3184.03</td>\n",
              "    </tr>\n",
              "  </tbody>\n",
              "</table>\n",
              "</div>"
            ],
            "text/plain": [
              "         Date     Close   Volume      Open        High       Low\n",
              "0  06-09-2021  $3281.15  2455530  $3272.87    $3297.58   $3270.7\n",
              "1  06-08-2021  $3264.11  3416730  $3222.61  $3279.5321  $3218.01\n",
              "2  06-07-2021  $3198.01  2215756  $3197.33       $3208   $3172.2\n",
              "3  06-04-2021  $3206.22  2249749     $3212       $3221  $3198.81\n",
              "4  06-03-2021  $3187.01  2398293  $3204.23   $3214.435  $3184.03"
            ]
          },
          "metadata": {
            "tags": []
          },
          "execution_count": 4
        }
      ]
    },
    {
      "cell_type": "markdown",
      "metadata": {
        "id": "LJWI6CLRNd-T"
      },
      "source": [
        "# Date parsing"
      ]
    },
    {
      "cell_type": "code",
      "metadata": {
        "colab": {
          "base_uri": "https://localhost:8080/"
        },
        "id": "pYJkUTBaNb6m",
        "outputId": "b15fbbd1-1f0a-4a20-90bf-1e13bc03f0bc"
      },
      "source": [
        "amzn_data['Date']= pd.to_datetime(amzn_data['Date'])\n",
        "amzn_data['Date']= pd.to_datetime(amzn_data['Date'].dt.strftime(\"%m/%d/%Y\"))\n",
        "print(amzn_data)"
      ],
      "execution_count": 5,
      "outputs": [
        {
          "output_type": "stream",
          "text": [
            "           Date     Close   Volume      Open        High       Low\n",
            "0    2021-06-09  $3281.15  2455530  $3272.87    $3297.58   $3270.7\n",
            "1    2021-06-08  $3264.11  3416730  $3222.61  $3279.5321  $3218.01\n",
            "2    2021-06-07  $3198.01  2215756  $3197.33       $3208   $3172.2\n",
            "3    2021-06-04  $3206.22  2249749     $3212       $3221  $3198.81\n",
            "4    2021-06-03  $3187.01  2398293  $3204.23   $3214.435  $3184.03\n",
            "...         ...       ...      ...       ...         ...       ...\n",
            "2511 2011-06-16   $183.65  6025431   $185.74        $187   $181.59\n",
            "2512 2011-06-15   $185.98  6310918   $188.04     $192.45    $185.3\n",
            "2513 2011-06-14   $189.96  3952911   $188.99     $190.72   $187.07\n",
            "2514 2011-06-13   $186.29  3867735   $186.81     $189.31   $184.86\n",
            "2515 2011-06-10   $186.53  3753267   $189.25     $190.77   $186.28\n",
            "\n",
            "[2516 rows x 6 columns]\n"
          ],
          "name": "stdout"
        }
      ]
    },
    {
      "cell_type": "markdown",
      "metadata": {
        "id": "_SFZjdPbNqSn"
      },
      "source": [
        "# removing $"
      ]
    },
    {
      "cell_type": "code",
      "metadata": {
        "colab": {
          "base_uri": "https://localhost:8080/"
        },
        "id": "7-BAcoFwNwD9",
        "outputId": "f82cba71-3384-40c4-c78b-fea107cd4411"
      },
      "source": [
        "amzn_data['Close']= amzn_data['Close'].str.replace('$','')\n",
        "amzn_data['Open']= amzn_data['Open'].str.replace('$','')\n",
        "amzn_data['High']= amzn_data['High'].str.replace('$','')\n",
        "amzn_data['Low']= amzn_data['Low'].str.replace('$','')\n",
        "print(amzn_data)"
      ],
      "execution_count": 6,
      "outputs": [
        {
          "output_type": "stream",
          "text": [
            "           Date    Close   Volume     Open       High      Low\n",
            "0    2021-06-09  3281.15  2455530  3272.87    3297.58   3270.7\n",
            "1    2021-06-08  3264.11  3416730  3222.61  3279.5321  3218.01\n",
            "2    2021-06-07  3198.01  2215756  3197.33       3208   3172.2\n",
            "3    2021-06-04  3206.22  2249749     3212       3221  3198.81\n",
            "4    2021-06-03  3187.01  2398293  3204.23   3214.435  3184.03\n",
            "...         ...      ...      ...      ...        ...      ...\n",
            "2511 2011-06-16   183.65  6025431   185.74        187   181.59\n",
            "2512 2011-06-15   185.98  6310918   188.04     192.45    185.3\n",
            "2513 2011-06-14   189.96  3952911   188.99     190.72   187.07\n",
            "2514 2011-06-13   186.29  3867735   186.81     189.31   184.86\n",
            "2515 2011-06-10   186.53  3753267   189.25     190.77   186.28\n",
            "\n",
            "[2516 rows x 6 columns]\n"
          ],
          "name": "stdout"
        }
      ]
    },
    {
      "cell_type": "markdown",
      "metadata": {
        "id": "9UBLlUdeN6mz"
      },
      "source": [
        "# finding outlier"
      ]
    },
    {
      "cell_type": "code",
      "metadata": {
        "colab": {
          "base_uri": "https://localhost:8080/"
        },
        "id": "A57GpJZjOU3E",
        "outputId": "45a44921-d20d-4b41-f6fb-a7b8a564431a"
      },
      "source": [
        "amzn_data[['Close','Open','High','Low']] =amzn_data[['Close','Open','High','Low']].apply(pd.to_numeric)\n",
        "amzn_data.dtypes"
      ],
      "execution_count": 7,
      "outputs": [
        {
          "output_type": "execute_result",
          "data": {
            "text/plain": [
              "Date      datetime64[ns]\n",
              "Close            float64\n",
              "Volume             int64\n",
              "Open             float64\n",
              "High             float64\n",
              "Low              float64\n",
              "dtype: object"
            ]
          },
          "metadata": {
            "tags": []
          },
          "execution_count": 7
        }
      ]
    },
    {
      "cell_type": "code",
      "metadata": {
        "colab": {
          "base_uri": "https://localhost:8080/",
          "height": 347
        },
        "id": "p61fsWlpN4oE",
        "outputId": "58cca67f-1fd8-4e85-d8aa-ab6bc16c5b3b"
      },
      "source": [
        "amzn_data.boxplot(column=['Close','Open','Low','High'])\n",
        "plt.show()"
      ],
      "execution_count": null,
      "outputs": [
        {
          "output_type": "display_data",
          "data": {
            "image/png": "[encoded data removed]",
            "text/plain": [
              "<Figure size 576x396 with 1 Axes>"
            ]
          },
          "metadata": {
            "tags": []
          }
        }
      ]
    },
    {
      "cell_type": "markdown",
      "metadata": {
        "id": "EjNpkVVtObp4"
      },
      "source": [
        "By the above graph it is unterstood that there are no outliers in all the variables adopted in historical data.\n"
      ]
    },
    {
      "cell_type": "markdown",
      "metadata": {
        "id": "ogwFyjoeO81y"
      },
      "source": [
        "# Visualization"
      ]
    },
    {
      "cell_type": "code",
      "metadata": {
        "colab": {
          "base_uri": "https://localhost:8080/",
          "height": 622
        },
        "id": "wQq8CjhbOpPZ",
        "outputId": "40048853-2a40-4b91-bf39-760ecc7720a5"
      },
      "source": [
        "plt.figure(figsize = (18,9))\n",
        "plt.plot(range(amzn_data.shape[0]),(amzn_data['Low']+amzn_data['High'])/2.0)\n",
        "plt.xticks(range(0,amzn_data.shape[0],500),amzn_data['Date'].loc[::500],rotation=45)\n",
        "plt.xlabel('Date',fontsize=18)\n",
        "plt.ylabel('Mid Price',fontsize=18)\n",
        "plt.show()"
      ],
      "execution_count": null,
      "outputs": [
        {
          "output_type": "display_data",
          "data": {
            "image/png": "[encoded data removed]",
            "text/plain": [
              "<Figure size 1296x648 with 1 Axes>"
            ]
          },
          "metadata": {
            "tags": []
          }
        }
      ]
    },
    {
      "cell_type": "code",
      "metadata": {
        "id": "6aqPW1NiQwJT"
      },
      "source": [
        "import seaborn as sns"
      ],
      "execution_count": null,
      "outputs": []
    },
    {
      "cell_type": "code",
      "metadata": {
        "colab": {
          "base_uri": "https://localhost:8080/",
          "height": 386
        },
        "id": "8dQbpg5RP2rS",
        "outputId": "43baf50d-9f8e-493e-fa85-9967d7bbca09"
      },
      "source": [
        "plt.figure(figsize=(10,5))\n",
        "sns.displot(amzn_data['Close'], color ='orange')\n",
        "plt.show()"
      ],
      "execution_count": null,
      "outputs": [
        {
          "output_type": "display_data",
          "data": {
            "text/plain": [
              "<Figure size 720x360 with 0 Axes>"
            ]
          },
          "metadata": {
            "tags": []
          }
        },
        {
          "output_type": "display_data",
          "data": {
            "image/png": "[encoded data removed]",
            "text/plain": [
              "<Figure size 360x360 with 1 Axes>"
            ]
          },
          "metadata": {
            "tags": []
          }
        }
      ]
    },
    {
      "cell_type": "code",
      "metadata": {
        "colab": {
          "base_uri": "https://localhost:8080/",
          "height": 920
        },
        "id": "VfvvzGR3Q8jy",
        "outputId": "0dbdac9e-e9b6-47a5-bf73-c409e265800b"
      },
      "source": [
        "sns.pairplot(amzn_data)"
      ],
      "execution_count": null,
      "outputs": [
        {
          "output_type": "execute_result",
          "data": {
            "text/plain": [
              "<seaborn.axisgrid.PairGrid at 0x7f09e3141810>"
            ]
          },
          "metadata": {
            "tags": []
          },
          "execution_count": 12
        },
        {
          "output_type": "display_data",
          "data": {
            "image/png": "[encoded data removed]",
            "text/plain": [
              "<Figure size 900x900 with 30 Axes>"
            ]
          },
          "metadata": {
            "tags": []
          }
        }
      ]
    },
    {
      "cell_type": "code",
      "metadata": {
        "colab": {
          "resources": {
            "http://localhost:8080/nbextensions/google.colab/files.js": {
              "data": "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",
              "ok": true,
              "headers": [
                [
                  "content-type",
                  "application/javascript"
                ]
              ],
              "status": 200,
              "status_text": ""
            }
          },
          "base_uri": "https://localhost:8080/",
          "height": 274
        },
        "id": "N2Bd_mAQPOQy",
        "outputId": "6c803701-ac34-45ed-a799-fcb7fb05c8fd"
      },
      "source": [
        "from google.colab import files\n",
        "uploaded= files.upload()\n"
      ],
      "execution_count": 8,
      "outputs": [
        {
          "output_type": "display_data",
          "data": {
            "text/html": [
              "\n",
              "     <input type=\"file\" id=\"files-4b49159a-20bc-4cfe-9055-bf6e5d2d6c46\" name=\"files[]\" multiple disabled\n",
              "        style=\"border:none\" />\n",
              "     <output id=\"result-4b49159a-20bc-4cfe-9055-bf6e5d2d6c46\">\n",
              "      Upload widget is only available when the cell has been executed in the\n",
              "      current browser session. Please rerun this cell to enable.\n",
              "      </output>\n",
              "      <script src=\"/nbextensions/google.colab/files.js\"></script> "
            ],
            "text/plain": [
              "<IPython.core.display.HTML object>"
            ]
          },
          "metadata": {
            "tags": []
          }
        },
        {
          "output_type": "stream",
          "text": [
            "Saving 2015.csv to 2015.csv\n",
            "Saving 2016.csv to 2016.csv\n",
            "Saving 2017.csv to 2017.csv\n",
            "Saving 2018.csv to 2018.csv\n",
            "Saving 2019.csv to 2019.csv\n",
            "Saving 2020.csv to 2020.csv\n",
            "Saving 2021.csv to 2021.csv\n"
          ],
          "name": "stdout"
        }
      ]
    },
    {
      "cell_type": "code",
      "metadata": {
        "id": "bnHy7VAERVCn"
      },
      "source": [
        "import io\n",
        "df2015=pd.read_csv(io.BytesIO(uploaded['2015.csv']))\n",
        "df2016=pd.read_csv(io.BytesIO(uploaded['2016.csv']))\n",
        "df2017=pd.read_csv(io.BytesIO(uploaded['2017.csv']))\n",
        "df2018=pd.read_csv(io.BytesIO(uploaded['2018.csv']))\n",
        "df2019=pd.read_csv(io.BytesIO(uploaded['2019.csv']))\n",
        "df2020=pd.read_csv(io.BytesIO(uploaded['2020.csv']))\n",
        "df2021=pd.read_csv(io.BytesIO(uploaded['2021.csv']))"
      ],
      "execution_count": 11,
      "outputs": []
    },
    {
      "cell_type": "code",
      "metadata": {
        "id": "BDxzk3ATSyCr"
      },
      "source": [
        "amzn_his_data= pd.concat([df2015, df2016, df2017, df2018, df2019, df2020, df2021])"
      ],
      "execution_count": 12,
      "outputs": []
    },
    {
      "cell_type": "code",
      "metadata": {
        "colab": {
          "base_uri": "https://localhost:8080/",
          "height": 402
        },
        "id": "GO7P72NyUp9h",
        "outputId": "ae5d8dea-f79a-4e2a-8081-56c4d15aede1"
      },
      "source": [
        "amzn_his_data"
      ],
      "execution_count": 13,
      "outputs": [
        {
          "output_type": "execute_result",
          "data": {
            "text/html": [
              "<div>\n",
              "<style scoped>\n",
              "    .dataframe tbody tr th:only-of-type {\n",
              "        vertical-align: middle;\n",
              "    }\n",
              "\n",
              "    .dataframe tbody tr th {\n",
              "        vertical-align: top;\n",
              "    }\n",
              "\n",
              "    .dataframe thead th {\n",
              "        text-align: right;\n",
              "    }\n",
              "</style>\n",
              "<table border=\"1\" class=\"dataframe\">\n",
              "  <thead>\n",
              "    <tr style=\"text-align: right;\">\n",
              "      <th></th>\n",
              "      <th>Date</th>\n",
              "      <th>Headlines</th>\n",
              "    </tr>\n",
              "  </thead>\n",
              "  <tbody>\n",
              "    <tr>\n",
              "      <th>0</th>\n",
              "      <td>2015-01-01</td>\n",
              "      <td>What Can We Expect From Apple Inc. In 2015? 1 ...</td>\n",
              "    </tr>\n",
              "    <tr>\n",
              "      <th>1</th>\n",
              "      <td>2015-01-02</td>\n",
              "      <td>What to expect from Apple in 2015 beyond its s...</td>\n",
              "    </tr>\n",
              "    <tr>\n",
              "      <th>2</th>\n",
              "      <td>2015-01-03</td>\n",
              "      <td>Mountie: An inexpensive and innovative way to ...</td>\n",
              "    </tr>\n",
              "    <tr>\n",
              "      <th>3</th>\n",
              "      <td>2015-01-04</td>\n",
              "      <td>Donald Yacktman on the Sources of Moats, His C...</td>\n",
              "    </tr>\n",
              "    <tr>\n",
              "      <th>4</th>\n",
              "      <td>2015-01-05</td>\n",
              "      <td>SIM-free iPhone 6, 6 Plus reportedly debuting ...</td>\n",
              "    </tr>\n",
              "    <tr>\n",
              "      <th>...</th>\n",
              "      <td>...</td>\n",
              "      <td>...</td>\n",
              "    </tr>\n",
              "    <tr>\n",
              "      <th>169</th>\n",
              "      <td>2021-06-19</td>\n",
              "      <td>Best pre-Prime Day smartwatch deals on Apple W...</td>\n",
              "    </tr>\n",
              "    <tr>\n",
              "      <th>170</th>\n",
              "      <td>2021-06-20</td>\n",
              "      <td>iPhone 13 rumors: As Apple's fall event gets c...</td>\n",
              "    </tr>\n",
              "    <tr>\n",
              "      <th>171</th>\n",
              "      <td>2021-06-21</td>\n",
              "      <td>Apple is shortening new free TV Plus trials fr...</td>\n",
              "    </tr>\n",
              "    <tr>\n",
              "      <th>172</th>\n",
              "      <td>2021-06-22</td>\n",
              "      <td>Google likely to soon face antitrust claims ov...</td>\n",
              "    </tr>\n",
              "    <tr>\n",
              "      <th>173</th>\n",
              "      <td>2021-06-23</td>\n",
              "      <td>French court sets date in Apple case over App ...</td>\n",
              "    </tr>\n",
              "  </tbody>\n",
              "</table>\n",
              "<p>2365 rows × 2 columns</p>\n",
              "</div>"
            ],
            "text/plain": [
              "           Date                                          Headlines\n",
              "0    2015-01-01  What Can We Expect From Apple Inc. In 2015? 1 ...\n",
              "1    2015-01-02  What to expect from Apple in 2015 beyond its s...\n",
              "2    2015-01-03  Mountie: An inexpensive and innovative way to ...\n",
              "3    2015-01-04  Donald Yacktman on the Sources of Moats, His C...\n",
              "4    2015-01-05  SIM-free iPhone 6, 6 Plus reportedly debuting ...\n",
              "..          ...                                                ...\n",
              "169  2021-06-19  Best pre-Prime Day smartwatch deals on Apple W...\n",
              "170  2021-06-20  iPhone 13 rumors: As Apple's fall event gets c...\n",
              "171  2021-06-21  Apple is shortening new free TV Plus trials fr...\n",
              "172  2021-06-22  Google likely to soon face antitrust claims ov...\n",
              "173  2021-06-23  French court sets date in Apple case over App ...\n",
              "\n",
              "[2365 rows x 2 columns]"
            ]
          },
          "metadata": {
            "tags": []
          },
          "execution_count": 13
        }
      ]
    },
    {
      "cell_type": "code",
      "metadata": {
        "id": "-HXYDi4EXydQ"
      },
      "source": [
        "amzn_his_data['Date']=pd.to_datetime(amzn_his_data['Date'])"
      ],
      "execution_count": 14,
      "outputs": []
    },
    {
      "cell_type": "code",
      "metadata": {
        "colab": {
          "base_uri": "https://localhost:8080/"
        },
        "id": "rRKQho1DX2sP",
        "outputId": "b331b088-5462-44dd-9bc9-3f21ae8da0a9"
      },
      "source": [
        "amzn_his_data.dtypes"
      ],
      "execution_count": 15,
      "outputs": [
        {
          "output_type": "execute_result",
          "data": {
            "text/plain": [
              "Date         datetime64[ns]\n",
              "Headlines            object\n",
              "dtype: object"
            ]
          },
          "metadata": {
            "tags": []
          },
          "execution_count": 15
        }
      ]
    },
    {
      "cell_type": "code",
      "metadata": {
        "colab": {
          "base_uri": "https://localhost:8080/"
        },
        "id": "B-SeuvcIsOKD",
        "outputId": "2f03ff61-c465-46ac-9417-35401e29b355"
      },
      "source": [
        "amzn_his_data.isnull().sum()"
      ],
      "execution_count": 16,
      "outputs": [
        {
          "output_type": "execute_result",
          "data": {
            "text/plain": [
              "Date         0\n",
              "Headlines    0\n",
              "dtype: int64"
            ]
          },
          "metadata": {
            "tags": []
          },
          "execution_count": 16
        }
      ]
    },
    {
      "cell_type": "markdown",
      "metadata": {
        "id": "aJ7JK9NWsY4Z"
      },
      "source": [
        "# Preprocessing headings"
      ]
    },
    {
      "cell_type": "code",
      "metadata": {
        "colab": {
          "base_uri": "https://localhost:8080/"
        },
        "id": "8Xf7KvY4sT1i",
        "outputId": "8cce5f92-841a-440e-c9ca-97addaad5736"
      },
      "source": [
        "import re\n",
        "import nltk\n",
        "nltk.download('stopwords')\n",
        "from nltk.corpus import stopwords"
      ],
      "execution_count": 17,
      "outputs": [
        {
          "output_type": "stream",
          "text": [
            "[nltk_data] Downloading package stopwords to /root/nltk_data...\n",
            "[nltk_data]   Unzipping corpora/stopwords.zip.\n"
          ],
          "name": "stdout"
        }
      ]
    },
    {
      "cell_type": "code",
      "metadata": {
        "id": "_2tLV-sJsrlR"
      },
      "source": [
        "amzn_his_data['Headlines']= amzn_his_data['Headlines'].astype(str)\n",
        "amzn_his_data['Headlines']= amzn_his_data['Headlines'].apply(lambda x: x.lower())"
      ],
      "execution_count": 18,
      "outputs": []
    },
    {
      "cell_type": "code",
      "metadata": {
        "id": "sV_TfAP1srom"
      },
      "source": [
        "import string\n",
        "def char_rmvl (text):\n",
        "  amzn_his_data=[char for char in text if char not in string.punctuation]\n",
        "  amzn_his_data_str=''.join(new)\n",
        "  amzn_his_data.clear()\n",
        "  return amzn_his_data_str\n",
        "  amzn_his_data['Headlines']= amzn_his_data['Headlines'].astype(str)\n",
        "  amzn_his_data['Headlines']= amzn_his_data['Headlines'].apply(char_rmvl)"
      ],
      "execution_count": 19,
      "outputs": []
    },
    {
      "cell_type": "code",
      "metadata": {
        "colab": {
          "base_uri": "https://localhost:8080/",
          "height": 402
        },
        "id": "4acGrP0RuvCA",
        "outputId": "bbb644b1-20c2-47a7-b141-1add0adc3505"
      },
      "source": [
        "stop = stopwords.words('english')\n",
        "amzn_his_data['Headlines'] = amzn_his_data['Headlines'].apply(lambda x: ' '.join([word for word in x.split() if word not in (stop)]))\n",
        "amzn_his_data"
      ],
      "execution_count": 29,
      "outputs": [
        {
          "output_type": "execute_result",
          "data": {
            "text/html": [
              "<div>\n",
              "<style scoped>\n",
              "    .dataframe tbody tr th:only-of-type {\n",
              "        vertical-align: middle;\n",
              "    }\n",
              "\n",
              "    .dataframe tbody tr th {\n",
              "        vertical-align: top;\n",
              "    }\n",
              "\n",
              "    .dataframe thead th {\n",
              "        text-align: right;\n",
              "    }\n",
              "</style>\n",
              "<table border=\"1\" class=\"dataframe\">\n",
              "  <thead>\n",
              "    <tr style=\"text-align: right;\">\n",
              "      <th></th>\n",
              "      <th>Date</th>\n",
              "      <th>Headlines</th>\n",
              "    </tr>\n",
              "  </thead>\n",
              "  <tbody>\n",
              "    <tr>\n",
              "      <th>0</th>\n",
              "      <td>2015-01-01</td>\n",
              "      <td>expect apple inc. 2015? 1 reason might wrong a...</td>\n",
              "    </tr>\n",
              "    <tr>\n",
              "      <th>1</th>\n",
              "      <td>2015-01-02</td>\n",
              "      <td>expect apple 2015 beyond smartwatch amazon&amp;quo...</td>\n",
              "    </tr>\n",
              "    <tr>\n",
              "      <th>2</th>\n",
              "      <td>2015-01-03</td>\n",
              "      <td>mountie: inexpensive innovative way attach iph...</td>\n",
              "    </tr>\n",
              "    <tr>\n",
              "      <th>3</th>\n",
              "      <td>2015-01-04</td>\n",
              "      <td>donald yacktman sources moats, concern apple&amp;q...</td>\n",
              "    </tr>\n",
              "    <tr>\n",
              "      <th>4</th>\n",
              "      <td>2015-01-05</td>\n",
              "      <td>sim-free iphone 6, 6 plus reportedly debuting ...</td>\n",
              "    </tr>\n",
              "    <tr>\n",
              "      <th>...</th>\n",
              "      <td>...</td>\n",
              "      <td>...</td>\n",
              "    </tr>\n",
              "    <tr>\n",
              "      <th>169</th>\n",
              "      <td>2021-06-19</td>\n",
              "      <td>best pre-prime day smartwatch deals apple watc...</td>\n",
              "    </tr>\n",
              "    <tr>\n",
              "      <th>170</th>\n",
              "      <td>2021-06-20</td>\n",
              "      <td>iphone 13 rumors: apple's fall event gets clos...</td>\n",
              "    </tr>\n",
              "    <tr>\n",
              "      <th>171</th>\n",
              "      <td>2021-06-21</td>\n",
              "      <td>apple shortening new free tv plus trials year ...</td>\n",
              "    </tr>\n",
              "    <tr>\n",
              "      <th>172</th>\n",
              "      <td>2021-06-22</td>\n",
              "      <td>google likely soon face antitrust claims play ...</td>\n",
              "    </tr>\n",
              "    <tr>\n",
              "      <th>173</th>\n",
              "      <td>2021-06-23</td>\n",
              "      <td>french court sets date apple case app store de...</td>\n",
              "    </tr>\n",
              "  </tbody>\n",
              "</table>\n",
              "<p>2365 rows × 2 columns</p>\n",
              "</div>"
            ],
            "text/plain": [
              "          Date                                          Headlines\n",
              "0   2015-01-01  expect apple inc. 2015? 1 reason might wrong a...\n",
              "1   2015-01-02  expect apple 2015 beyond smartwatch amazon&quo...\n",
              "2   2015-01-03  mountie: inexpensive innovative way attach iph...\n",
              "3   2015-01-04  donald yacktman sources moats, concern apple&q...\n",
              "4   2015-01-05  sim-free iphone 6, 6 plus reportedly debuting ...\n",
              "..         ...                                                ...\n",
              "169 2021-06-19  best pre-prime day smartwatch deals apple watc...\n",
              "170 2021-06-20  iphone 13 rumors: apple's fall event gets clos...\n",
              "171 2021-06-21  apple shortening new free tv plus trials year ...\n",
              "172 2021-06-22  google likely soon face antitrust claims play ...\n",
              "173 2021-06-23  french court sets date apple case app store de...\n",
              "\n",
              "[2365 rows x 2 columns]"
            ]
          },
          "metadata": {
            "tags": []
          },
          "execution_count": 29
        }
      ]
    },
    {
      "cell_type": "markdown",
      "metadata": {
        "id": "91gPrewNXdSj"
      },
      "source": [
        "# merging files"
      ]
    },
    {
      "cell_type": "code",
      "metadata": {
        "colab": {
          "base_uri": "https://localhost:8080/",
          "height": 402
        },
        "id": "ybAIMumHXflR",
        "outputId": "8ad42baf-3104-4bbc-8573-be05ac8f4ddd"
      },
      "source": [
        "amzn_eda= pd.merge(amzn_data,amzn_his_data, on=['Date'], how= 'outer')\n",
        "amzn_eda\n",
        "\n"
      ],
      "execution_count": 30,
      "outputs": [
        {
          "output_type": "execute_result",
          "data": {
            "text/html": [
              "<div>\n",
              "<style scoped>\n",
              "    .dataframe tbody tr th:only-of-type {\n",
              "        vertical-align: middle;\n",
              "    }\n",
              "\n",
              "    .dataframe tbody tr th {\n",
              "        vertical-align: top;\n",
              "    }\n",
              "\n",
              "    .dataframe thead th {\n",
              "        text-align: right;\n",
              "    }\n",
              "</style>\n",
              "<table border=\"1\" class=\"dataframe\">\n",
              "  <thead>\n",
              "    <tr style=\"text-align: right;\">\n",
              "      <th></th>\n",
              "      <th>Date</th>\n",
              "      <th>Close</th>\n",
              "      <th>Volume</th>\n",
              "      <th>Open</th>\n",
              "      <th>High</th>\n",
              "      <th>Low</th>\n",
              "      <th>Headlines</th>\n",
              "    </tr>\n",
              "  </thead>\n",
              "  <tbody>\n",
              "    <tr>\n",
              "      <th>0</th>\n",
              "      <td>2021-06-09</td>\n",
              "      <td>3281.15</td>\n",
              "      <td>2455530.0</td>\n",
              "      <td>3272.87</td>\n",
              "      <td>3297.5800</td>\n",
              "      <td>3270.70</td>\n",
              "      <td>athenahealth set support ios 15 feature allows...</td>\n",
              "    </tr>\n",
              "    <tr>\n",
              "      <th>1</th>\n",
              "      <td>2021-06-08</td>\n",
              "      <td>3264.11</td>\n",
              "      <td>3416730.0</td>\n",
              "      <td>3222.61</td>\n",
              "      <td>3279.5321</td>\n",
              "      <td>3218.01</td>\n",
              "      <td>apple, chinese manufacturers talks us car batt...</td>\n",
              "    </tr>\n",
              "    <tr>\n",
              "      <th>2</th>\n",
              "      <td>2021-06-07</td>\n",
              "      <td>3198.01</td>\n",
              "      <td>2215756.0</td>\n",
              "      <td>3197.33</td>\n",
              "      <td>3208.0000</td>\n",
              "      <td>3172.20</td>\n",
              "      <td>apple&amp;quot;s new &amp;quot;private relay&amp;quot; fea...</td>\n",
              "    </tr>\n",
              "    <tr>\n",
              "      <th>3</th>\n",
              "      <td>2021-06-04</td>\n",
              "      <td>3206.22</td>\n",
              "      <td>2249749.0</td>\n",
              "      <td>3212.00</td>\n",
              "      <td>3221.0000</td>\n",
              "      <td>3198.81</td>\n",
              "      <td>global equities nearly grasp all-time record, ...</td>\n",
              "    </tr>\n",
              "    <tr>\n",
              "      <th>4</th>\n",
              "      <td>2021-06-03</td>\n",
              "      <td>3187.01</td>\n",
              "      <td>2398293.0</td>\n",
              "      <td>3204.23</td>\n",
              "      <td>3214.4350</td>\n",
              "      <td>3184.03</td>\n",
              "      <td>buy rh stock dip q1 earnings growth? wwdc 2021...</td>\n",
              "    </tr>\n",
              "    <tr>\n",
              "      <th>...</th>\n",
              "      <td>...</td>\n",
              "      <td>...</td>\n",
              "      <td>...</td>\n",
              "      <td>...</td>\n",
              "      <td>...</td>\n",
              "      <td>...</td>\n",
              "      <td>...</td>\n",
              "    </tr>\n",
              "    <tr>\n",
              "      <th>3279</th>\n",
              "      <td>2021-06-19</td>\n",
              "      <td>NaN</td>\n",
              "      <td>NaN</td>\n",
              "      <td>NaN</td>\n",
              "      <td>NaN</td>\n",
              "      <td>NaN</td>\n",
              "      <td>best pre-prime day smartwatch deals apple watc...</td>\n",
              "    </tr>\n",
              "    <tr>\n",
              "      <th>3280</th>\n",
              "      <td>2021-06-20</td>\n",
              "      <td>NaN</td>\n",
              "      <td>NaN</td>\n",
              "      <td>NaN</td>\n",
              "      <td>NaN</td>\n",
              "      <td>NaN</td>\n",
              "      <td>iphone 13 rumors: apple's fall event gets clos...</td>\n",
              "    </tr>\n",
              "    <tr>\n",
              "      <th>3281</th>\n",
              "      <td>2021-06-21</td>\n",
              "      <td>NaN</td>\n",
              "      <td>NaN</td>\n",
              "      <td>NaN</td>\n",
              "      <td>NaN</td>\n",
              "      <td>NaN</td>\n",
              "      <td>apple shortening new free tv plus trials year ...</td>\n",
              "    </tr>\n",
              "    <tr>\n",
              "      <th>3282</th>\n",
              "      <td>2021-06-22</td>\n",
              "      <td>NaN</td>\n",
              "      <td>NaN</td>\n",
              "      <td>NaN</td>\n",
              "      <td>NaN</td>\n",
              "      <td>NaN</td>\n",
              "      <td>google likely soon face antitrust claims play ...</td>\n",
              "    </tr>\n",
              "    <tr>\n",
              "      <th>3283</th>\n",
              "      <td>2021-06-23</td>\n",
              "      <td>NaN</td>\n",
              "      <td>NaN</td>\n",
              "      <td>NaN</td>\n",
              "      <td>NaN</td>\n",
              "      <td>NaN</td>\n",
              "      <td>french court sets date apple case app store de...</td>\n",
              "    </tr>\n",
              "  </tbody>\n",
              "</table>\n",
              "<p>3284 rows × 7 columns</p>\n",
              "</div>"
            ],
            "text/plain": [
              "           Date  ...                                          Headlines\n",
              "0    2021-06-09  ...  athenahealth set support ios 15 feature allows...\n",
              "1    2021-06-08  ...  apple, chinese manufacturers talks us car batt...\n",
              "2    2021-06-07  ...  apple&quot;s new &quot;private relay&quot; fea...\n",
              "3    2021-06-04  ...  global equities nearly grasp all-time record, ...\n",
              "4    2021-06-03  ...  buy rh stock dip q1 earnings growth? wwdc 2021...\n",
              "...         ...  ...                                                ...\n",
              "3279 2021-06-19  ...  best pre-prime day smartwatch deals apple watc...\n",
              "3280 2021-06-20  ...  iphone 13 rumors: apple's fall event gets clos...\n",
              "3281 2021-06-21  ...  apple shortening new free tv plus trials year ...\n",
              "3282 2021-06-22  ...  google likely soon face antitrust claims play ...\n",
              "3283 2021-06-23  ...  french court sets date apple case app store de...\n",
              "\n",
              "[3284 rows x 7 columns]"
            ]
          },
          "metadata": {
            "tags": []
          },
          "execution_count": 30
        }
      ]
    },
    {
      "cell_type": "markdown",
      "metadata": {
        "id": "AXYhty2LYOEw"
      },
      "source": [
        "# Filling missing values"
      ]
    },
    {
      "cell_type": "code",
      "metadata": {
        "colab": {
          "base_uri": "https://localhost:8080/"
        },
        "id": "lUrp0qmtZCSP",
        "outputId": "1c79a5da-7740-4bcd-b77a-d5bc6f06ebbb"
      },
      "source": [
        "amzn_eda.isnull().sum()"
      ],
      "execution_count": 31,
      "outputs": [
        {
          "output_type": "execute_result",
          "data": {
            "text/plain": [
              "Date           0\n",
              "Close        748\n",
              "Volume       748\n",
              "Open         748\n",
              "High         748\n",
              "Low          748\n",
              "Headlines    919\n",
              "dtype: int64"
            ]
          },
          "metadata": {
            "tags": []
          },
          "execution_count": 31
        }
      ]
    },
    {
      "cell_type": "code",
      "metadata": {
        "colab": {
          "base_uri": "https://localhost:8080/"
        },
        "id": "w7mYwA-zYMdX",
        "outputId": "7bbdffac-83e0-48fc-dbc9-0d6b2ef304f2"
      },
      "source": [
        "amzn_eda.info()"
      ],
      "execution_count": 32,
      "outputs": [
        {
          "output_type": "stream",
          "text": [
            "<class 'pandas.core.frame.DataFrame'>\n",
            "Int64Index: 3284 entries, 0 to 3283\n",
            "Data columns (total 7 columns):\n",
            " #   Column     Non-Null Count  Dtype         \n",
            "---  ------     --------------  -----         \n",
            " 0   Date       3284 non-null   datetime64[ns]\n",
            " 1   Close      2536 non-null   float64       \n",
            " 2   Volume     2536 non-null   float64       \n",
            " 3   Open       2536 non-null   float64       \n",
            " 4   High       2536 non-null   float64       \n",
            " 5   Low        2536 non-null   float64       \n",
            " 6   Headlines  2365 non-null   object        \n",
            "dtypes: datetime64[ns](1), float64(5), object(1)\n",
            "memory usage: 205.2+ KB\n"
          ],
          "name": "stdout"
        }
      ]
    },
    {
      "cell_type": "code",
      "metadata": {
        "colab": {
          "base_uri": "https://localhost:8080/",
          "height": 402
        },
        "id": "XjxXnyeSI8gP",
        "outputId": "fd5dbf3d-58b1-461d-f565-02ea22586002"
      },
      "source": [
        "amzn_mod= amzn_eda.dropna()\n",
        "amzn_mod"
      ],
      "execution_count": 33,
      "outputs": [
        {
          "output_type": "execute_result",
          "data": {
            "text/html": [
              "<div>\n",
              "<style scoped>\n",
              "    .dataframe tbody tr th:only-of-type {\n",
              "        vertical-align: middle;\n",
              "    }\n",
              "\n",
              "    .dataframe tbody tr th {\n",
              "        vertical-align: top;\n",
              "    }\n",
              "\n",
              "    .dataframe thead th {\n",
              "        text-align: right;\n",
              "    }\n",
              "</style>\n",
              "<table border=\"1\" class=\"dataframe\">\n",
              "  <thead>\n",
              "    <tr style=\"text-align: right;\">\n",
              "      <th></th>\n",
              "      <th>Date</th>\n",
              "      <th>Close</th>\n",
              "      <th>Volume</th>\n",
              "      <th>Open</th>\n",
              "      <th>High</th>\n",
              "      <th>Low</th>\n",
              "      <th>Headlines</th>\n",
              "    </tr>\n",
              "  </thead>\n",
              "  <tbody>\n",
              "    <tr>\n",
              "      <th>0</th>\n",
              "      <td>2021-06-09</td>\n",
              "      <td>3281.15</td>\n",
              "      <td>2455530.0</td>\n",
              "      <td>3272.87</td>\n",
              "      <td>3297.5800</td>\n",
              "      <td>3270.7000</td>\n",
              "      <td>athenahealth set support ios 15 feature allows...</td>\n",
              "    </tr>\n",
              "    <tr>\n",
              "      <th>1</th>\n",
              "      <td>2021-06-08</td>\n",
              "      <td>3264.11</td>\n",
              "      <td>3416730.0</td>\n",
              "      <td>3222.61</td>\n",
              "      <td>3279.5321</td>\n",
              "      <td>3218.0100</td>\n",
              "      <td>apple, chinese manufacturers talks us car batt...</td>\n",
              "    </tr>\n",
              "    <tr>\n",
              "      <th>2</th>\n",
              "      <td>2021-06-07</td>\n",
              "      <td>3198.01</td>\n",
              "      <td>2215756.0</td>\n",
              "      <td>3197.33</td>\n",
              "      <td>3208.0000</td>\n",
              "      <td>3172.2000</td>\n",
              "      <td>apple&amp;quot;s new &amp;quot;private relay&amp;quot; fea...</td>\n",
              "    </tr>\n",
              "    <tr>\n",
              "      <th>3</th>\n",
              "      <td>2021-06-04</td>\n",
              "      <td>3206.22</td>\n",
              "      <td>2249749.0</td>\n",
              "      <td>3212.00</td>\n",
              "      <td>3221.0000</td>\n",
              "      <td>3198.8100</td>\n",
              "      <td>global equities nearly grasp all-time record, ...</td>\n",
              "    </tr>\n",
              "    <tr>\n",
              "      <th>4</th>\n",
              "      <td>2021-06-03</td>\n",
              "      <td>3187.01</td>\n",
              "      <td>2398293.0</td>\n",
              "      <td>3204.23</td>\n",
              "      <td>3214.4350</td>\n",
              "      <td>3184.0300</td>\n",
              "      <td>buy rh stock dip q1 earnings growth? wwdc 2021...</td>\n",
              "    </tr>\n",
              "    <tr>\n",
              "      <th>...</th>\n",
              "      <td>...</td>\n",
              "      <td>...</td>\n",
              "      <td>...</td>\n",
              "      <td>...</td>\n",
              "      <td>...</td>\n",
              "      <td>...</td>\n",
              "      <td>...</td>\n",
              "    </tr>\n",
              "    <tr>\n",
              "      <th>1635</th>\n",
              "      <td>2015-01-08</td>\n",
              "      <td>300.46</td>\n",
              "      <td>3087475.0</td>\n",
              "      <td>300.32</td>\n",
              "      <td>303.1400</td>\n",
              "      <td>296.1100</td>\n",
              "      <td>apple company recalls 2014 shipments link list...</td>\n",
              "    </tr>\n",
              "    <tr>\n",
              "      <th>1636</th>\n",
              "      <td>2015-01-07</td>\n",
              "      <td>298.42</td>\n",
              "      <td>2630671.0</td>\n",
              "      <td>297.50</td>\n",
              "      <td>301.2800</td>\n",
              "      <td>295.3300</td>\n",
              "      <td>apple issues fourth developer beta os x 10.10....</td>\n",
              "    </tr>\n",
              "    <tr>\n",
              "      <th>1637</th>\n",
              "      <td>2015-01-06</td>\n",
              "      <td>295.29</td>\n",
              "      <td>3511003.0</td>\n",
              "      <td>302.24</td>\n",
              "      <td>303.0000</td>\n",
              "      <td>292.3800</td>\n",
              "      <td>technology transforming cars \"phones wheels\" a...</td>\n",
              "    </tr>\n",
              "    <tr>\n",
              "      <th>1638</th>\n",
              "      <td>2015-01-05</td>\n",
              "      <td>302.19</td>\n",
              "      <td>2768215.0</td>\n",
              "      <td>307.01</td>\n",
              "      <td>308.3800</td>\n",
              "      <td>300.8500</td>\n",
              "      <td>sim-free iphone 6, 6 plus reportedly debuting ...</td>\n",
              "    </tr>\n",
              "    <tr>\n",
              "      <th>1639</th>\n",
              "      <td>2015-01-02</td>\n",
              "      <td>308.52</td>\n",
              "      <td>2785167.0</td>\n",
              "      <td>312.58</td>\n",
              "      <td>314.7500</td>\n",
              "      <td>306.9601</td>\n",
              "      <td>expect apple 2015 beyond smartwatch amazon&amp;quo...</td>\n",
              "    </tr>\n",
              "  </tbody>\n",
              "</table>\n",
              "<p>1617 rows × 7 columns</p>\n",
              "</div>"
            ],
            "text/plain": [
              "           Date  ...                                          Headlines\n",
              "0    2021-06-09  ...  athenahealth set support ios 15 feature allows...\n",
              "1    2021-06-08  ...  apple, chinese manufacturers talks us car batt...\n",
              "2    2021-06-07  ...  apple&quot;s new &quot;private relay&quot; fea...\n",
              "3    2021-06-04  ...  global equities nearly grasp all-time record, ...\n",
              "4    2021-06-03  ...  buy rh stock dip q1 earnings growth? wwdc 2021...\n",
              "...         ...  ...                                                ...\n",
              "1635 2015-01-08  ...  apple company recalls 2014 shipments link list...\n",
              "1636 2015-01-07  ...  apple issues fourth developer beta os x 10.10....\n",
              "1637 2015-01-06  ...  technology transforming cars \"phones wheels\" a...\n",
              "1638 2015-01-05  ...  sim-free iphone 6, 6 plus reportedly debuting ...\n",
              "1639 2015-01-02  ...  expect apple 2015 beyond smartwatch amazon&quo...\n",
              "\n",
              "[1617 rows x 7 columns]"
            ]
          },
          "metadata": {
            "tags": []
          },
          "execution_count": 33
        }
      ]
    },
    {
      "cell_type": "code",
      "metadata": {
        "colab": {
          "base_uri": "https://localhost:8080/"
        },
        "id": "RCkO2Wk8YrI2",
        "outputId": "8c4a2aa0-fe37-4aa6-ef27-131606f29165"
      },
      "source": [
        "amzn_mod.shape"
      ],
      "execution_count": 34,
      "outputs": [
        {
          "output_type": "execute_result",
          "data": {
            "text/plain": [
              "(1617, 7)"
            ]
          },
          "metadata": {
            "tags": []
          },
          "execution_count": 34
        }
      ]
    },
    {
      "cell_type": "code",
      "metadata": {
        "colab": {
          "base_uri": "https://localhost:8080/",
          "height": 431
        },
        "id": "GJUBFwMkKjHb",
        "outputId": "5535fa82-3f17-4607-84f6-282009f692e4"
      },
      "source": [
        "amzn_mod.set_index('Date', inplace= True)\n",
        "amzn_mod"
      ],
      "execution_count": 35,
      "outputs": [
        {
          "output_type": "execute_result",
          "data": {
            "text/html": [
              "<div>\n",
              "<style scoped>\n",
              "    .dataframe tbody tr th:only-of-type {\n",
              "        vertical-align: middle;\n",
              "    }\n",
              "\n",
              "    .dataframe tbody tr th {\n",
              "        vertical-align: top;\n",
              "    }\n",
              "\n",
              "    .dataframe thead th {\n",
              "        text-align: right;\n",
              "    }\n",
              "</style>\n",
              "<table border=\"1\" class=\"dataframe\">\n",
              "  <thead>\n",
              "    <tr style=\"text-align: right;\">\n",
              "      <th></th>\n",
              "      <th>Close</th>\n",
              "      <th>Volume</th>\n",
              "      <th>Open</th>\n",
              "      <th>High</th>\n",
              "      <th>Low</th>\n",
              "      <th>Headlines</th>\n",
              "    </tr>\n",
              "    <tr>\n",
              "      <th>Date</th>\n",
              "      <th></th>\n",
              "      <th></th>\n",
              "      <th></th>\n",
              "      <th></th>\n",
              "      <th></th>\n",
              "      <th></th>\n",
              "    </tr>\n",
              "  </thead>\n",
              "  <tbody>\n",
              "    <tr>\n",
              "      <th>2021-06-09</th>\n",
              "      <td>3281.15</td>\n",
              "      <td>2455530.0</td>\n",
              "      <td>3272.87</td>\n",
              "      <td>3297.5800</td>\n",
              "      <td>3270.7000</td>\n",
              "      <td>athenahealth set support ios 15 feature allows...</td>\n",
              "    </tr>\n",
              "    <tr>\n",
              "      <th>2021-06-08</th>\n",
              "      <td>3264.11</td>\n",
              "      <td>3416730.0</td>\n",
              "      <td>3222.61</td>\n",
              "      <td>3279.5321</td>\n",
              "      <td>3218.0100</td>\n",
              "      <td>apple, chinese manufacturers talks us car batt...</td>\n",
              "    </tr>\n",
              "    <tr>\n",
              "      <th>2021-06-07</th>\n",
              "      <td>3198.01</td>\n",
              "      <td>2215756.0</td>\n",
              "      <td>3197.33</td>\n",
              "      <td>3208.0000</td>\n",
              "      <td>3172.2000</td>\n",
              "      <td>apple&amp;quot;s new &amp;quot;private relay&amp;quot; fea...</td>\n",
              "    </tr>\n",
              "    <tr>\n",
              "      <th>2021-06-04</th>\n",
              "      <td>3206.22</td>\n",
              "      <td>2249749.0</td>\n",
              "      <td>3212.00</td>\n",
              "      <td>3221.0000</td>\n",
              "      <td>3198.8100</td>\n",
              "      <td>global equities nearly grasp all-time record, ...</td>\n",
              "    </tr>\n",
              "    <tr>\n",
              "      <th>2021-06-03</th>\n",
              "      <td>3187.01</td>\n",
              "      <td>2398293.0</td>\n",
              "      <td>3204.23</td>\n",
              "      <td>3214.4350</td>\n",
              "      <td>3184.0300</td>\n",
              "      <td>buy rh stock dip q1 earnings growth? wwdc 2021...</td>\n",
              "    </tr>\n",
              "    <tr>\n",
              "      <th>...</th>\n",
              "      <td>...</td>\n",
              "      <td>...</td>\n",
              "      <td>...</td>\n",
              "      <td>...</td>\n",
              "      <td>...</td>\n",
              "      <td>...</td>\n",
              "    </tr>\n",
              "    <tr>\n",
              "      <th>2015-01-08</th>\n",
              "      <td>300.46</td>\n",
              "      <td>3087475.0</td>\n",
              "      <td>300.32</td>\n",
              "      <td>303.1400</td>\n",
              "      <td>296.1100</td>\n",
              "      <td>apple company recalls 2014 shipments link list...</td>\n",
              "    </tr>\n",
              "    <tr>\n",
              "      <th>2015-01-07</th>\n",
              "      <td>298.42</td>\n",
              "      <td>2630671.0</td>\n",
              "      <td>297.50</td>\n",
              "      <td>301.2800</td>\n",
              "      <td>295.3300</td>\n",
              "      <td>apple issues fourth developer beta os x 10.10....</td>\n",
              "    </tr>\n",
              "    <tr>\n",
              "      <th>2015-01-06</th>\n",
              "      <td>295.29</td>\n",
              "      <td>3511003.0</td>\n",
              "      <td>302.24</td>\n",
              "      <td>303.0000</td>\n",
              "      <td>292.3800</td>\n",
              "      <td>technology transforming cars \"phones wheels\" a...</td>\n",
              "    </tr>\n",
              "    <tr>\n",
              "      <th>2015-01-05</th>\n",
              "      <td>302.19</td>\n",
              "      <td>2768215.0</td>\n",
              "      <td>307.01</td>\n",
              "      <td>308.3800</td>\n",
              "      <td>300.8500</td>\n",
              "      <td>sim-free iphone 6, 6 plus reportedly debuting ...</td>\n",
              "    </tr>\n",
              "    <tr>\n",
              "      <th>2015-01-02</th>\n",
              "      <td>308.52</td>\n",
              "      <td>2785167.0</td>\n",
              "      <td>312.58</td>\n",
              "      <td>314.7500</td>\n",
              "      <td>306.9601</td>\n",
              "      <td>expect apple 2015 beyond smartwatch amazon&amp;quo...</td>\n",
              "    </tr>\n",
              "  </tbody>\n",
              "</table>\n",
              "<p>1617 rows × 6 columns</p>\n",
              "</div>"
            ],
            "text/plain": [
              "              Close  ...                                          Headlines\n",
              "Date                 ...                                                   \n",
              "2021-06-09  3281.15  ...  athenahealth set support ios 15 feature allows...\n",
              "2021-06-08  3264.11  ...  apple, chinese manufacturers talks us car batt...\n",
              "2021-06-07  3198.01  ...  apple&quot;s new &quot;private relay&quot; fea...\n",
              "2021-06-04  3206.22  ...  global equities nearly grasp all-time record, ...\n",
              "2021-06-03  3187.01  ...  buy rh stock dip q1 earnings growth? wwdc 2021...\n",
              "...             ...  ...                                                ...\n",
              "2015-01-08   300.46  ...  apple company recalls 2014 shipments link list...\n",
              "2015-01-07   298.42  ...  apple issues fourth developer beta os x 10.10....\n",
              "2015-01-06   295.29  ...  technology transforming cars \"phones wheels\" a...\n",
              "2015-01-05   302.19  ...  sim-free iphone 6, 6 plus reportedly debuting ...\n",
              "2015-01-02   308.52  ...  expect apple 2015 beyond smartwatch amazon&quo...\n",
              "\n",
              "[1617 rows x 6 columns]"
            ]
          },
          "metadata": {
            "tags": []
          },
          "execution_count": 35
        }
      ]
    },
    {
      "cell_type": "code",
      "metadata": {
        "id": "xZeDgZq1KjUN",
        "colab": {
          "base_uri": "https://localhost:8080/",
          "height": 549
        },
        "outputId": "d1ebaad0-758f-4f94-d5b5-97bc6c60d56a"
      },
      "source": [
        "amzn_mod.sort_index(ascending=True, inplace=True)\n",
        "amzn_mod"
      ],
      "execution_count": 36,
      "outputs": [
        {
          "output_type": "stream",
          "text": [
            "/usr/local/lib/python3.7/dist-packages/ipykernel_launcher.py:1: SettingWithCopyWarning:\n",
            "\n",
            "\n",
            "A value is trying to be set on a copy of a slice from a DataFrame\n",
            "\n",
            "See the caveats in the documentation: https://pandas.pydata.org/pandas-docs/stable/user_guide/indexing.html#returning-a-view-versus-a-copy\n",
            "\n"
          ],
          "name": "stderr"
        },
        {
          "output_type": "execute_result",
          "data": {
            "text/html": [
              "<div>\n",
              "<style scoped>\n",
              "    .dataframe tbody tr th:only-of-type {\n",
              "        vertical-align: middle;\n",
              "    }\n",
              "\n",
              "    .dataframe tbody tr th {\n",
              "        vertical-align: top;\n",
              "    }\n",
              "\n",
              "    .dataframe thead th {\n",
              "        text-align: right;\n",
              "    }\n",
              "</style>\n",
              "<table border=\"1\" class=\"dataframe\">\n",
              "  <thead>\n",
              "    <tr style=\"text-align: right;\">\n",
              "      <th></th>\n",
              "      <th>Close</th>\n",
              "      <th>Volume</th>\n",
              "      <th>Open</th>\n",
              "      <th>High</th>\n",
              "      <th>Low</th>\n",
              "      <th>Headlines</th>\n",
              "    </tr>\n",
              "    <tr>\n",
              "      <th>Date</th>\n",
              "      <th></th>\n",
              "      <th></th>\n",
              "      <th></th>\n",
              "      <th></th>\n",
              "      <th></th>\n",
              "      <th></th>\n",
              "    </tr>\n",
              "  </thead>\n",
              "  <tbody>\n",
              "    <tr>\n",
              "      <th>2015-01-02</th>\n",
              "      <td>308.52</td>\n",
              "      <td>2785167.0</td>\n",
              "      <td>312.58</td>\n",
              "      <td>314.7500</td>\n",
              "      <td>306.9601</td>\n",
              "      <td>expect apple 2015 beyond smartwatch amazon&amp;quo...</td>\n",
              "    </tr>\n",
              "    <tr>\n",
              "      <th>2015-01-05</th>\n",
              "      <td>302.19</td>\n",
              "      <td>2768215.0</td>\n",
              "      <td>307.01</td>\n",
              "      <td>308.3800</td>\n",
              "      <td>300.8500</td>\n",
              "      <td>sim-free iphone 6, 6 plus reportedly debuting ...</td>\n",
              "    </tr>\n",
              "    <tr>\n",
              "      <th>2015-01-06</th>\n",
              "      <td>295.29</td>\n",
              "      <td>3511003.0</td>\n",
              "      <td>302.24</td>\n",
              "      <td>303.0000</td>\n",
              "      <td>292.3800</td>\n",
              "      <td>technology transforming cars \"phones wheels\" a...</td>\n",
              "    </tr>\n",
              "    <tr>\n",
              "      <th>2015-01-07</th>\n",
              "      <td>298.42</td>\n",
              "      <td>2630671.0</td>\n",
              "      <td>297.50</td>\n",
              "      <td>301.2800</td>\n",
              "      <td>295.3300</td>\n",
              "      <td>apple issues fourth developer beta os x 10.10....</td>\n",
              "    </tr>\n",
              "    <tr>\n",
              "      <th>2015-01-08</th>\n",
              "      <td>300.46</td>\n",
              "      <td>3087475.0</td>\n",
              "      <td>300.32</td>\n",
              "      <td>303.1400</td>\n",
              "      <td>296.1100</td>\n",
              "      <td>apple company recalls 2014 shipments link list...</td>\n",
              "    </tr>\n",
              "    <tr>\n",
              "      <th>...</th>\n",
              "      <td>...</td>\n",
              "      <td>...</td>\n",
              "      <td>...</td>\n",
              "      <td>...</td>\n",
              "      <td>...</td>\n",
              "      <td>...</td>\n",
              "    </tr>\n",
              "    <tr>\n",
              "      <th>2021-06-03</th>\n",
              "      <td>3187.01</td>\n",
              "      <td>2398293.0</td>\n",
              "      <td>3204.23</td>\n",
              "      <td>3214.4350</td>\n",
              "      <td>3184.0300</td>\n",
              "      <td>buy rh stock dip q1 earnings growth? wwdc 2021...</td>\n",
              "    </tr>\n",
              "    <tr>\n",
              "      <th>2021-06-04</th>\n",
              "      <td>3206.22</td>\n",
              "      <td>2249749.0</td>\n",
              "      <td>3212.00</td>\n",
              "      <td>3221.0000</td>\n",
              "      <td>3198.8100</td>\n",
              "      <td>global equities nearly grasp all-time record, ...</td>\n",
              "    </tr>\n",
              "    <tr>\n",
              "      <th>2021-06-07</th>\n",
              "      <td>3198.01</td>\n",
              "      <td>2215756.0</td>\n",
              "      <td>3197.33</td>\n",
              "      <td>3208.0000</td>\n",
              "      <td>3172.2000</td>\n",
              "      <td>apple&amp;quot;s new &amp;quot;private relay&amp;quot; fea...</td>\n",
              "    </tr>\n",
              "    <tr>\n",
              "      <th>2021-06-08</th>\n",
              "      <td>3264.11</td>\n",
              "      <td>3416730.0</td>\n",
              "      <td>3222.61</td>\n",
              "      <td>3279.5321</td>\n",
              "      <td>3218.0100</td>\n",
              "      <td>apple, chinese manufacturers talks us car batt...</td>\n",
              "    </tr>\n",
              "    <tr>\n",
              "      <th>2021-06-09</th>\n",
              "      <td>3281.15</td>\n",
              "      <td>2455530.0</td>\n",
              "      <td>3272.87</td>\n",
              "      <td>3297.5800</td>\n",
              "      <td>3270.7000</td>\n",
              "      <td>athenahealth set support ios 15 feature allows...</td>\n",
              "    </tr>\n",
              "  </tbody>\n",
              "</table>\n",
              "<p>1617 rows × 6 columns</p>\n",
              "</div>"
            ],
            "text/plain": [
              "              Close  ...                                          Headlines\n",
              "Date                 ...                                                   \n",
              "2015-01-02   308.52  ...  expect apple 2015 beyond smartwatch amazon&quo...\n",
              "2015-01-05   302.19  ...  sim-free iphone 6, 6 plus reportedly debuting ...\n",
              "2015-01-06   295.29  ...  technology transforming cars \"phones wheels\" a...\n",
              "2015-01-07   298.42  ...  apple issues fourth developer beta os x 10.10....\n",
              "2015-01-08   300.46  ...  apple company recalls 2014 shipments link list...\n",
              "...             ...  ...                                                ...\n",
              "2021-06-03  3187.01  ...  buy rh stock dip q1 earnings growth? wwdc 2021...\n",
              "2021-06-04  3206.22  ...  global equities nearly grasp all-time record, ...\n",
              "2021-06-07  3198.01  ...  apple&quot;s new &quot;private relay&quot; fea...\n",
              "2021-06-08  3264.11  ...  apple, chinese manufacturers talks us car batt...\n",
              "2021-06-09  3281.15  ...  athenahealth set support ios 15 feature allows...\n",
              "\n",
              "[1617 rows x 6 columns]"
            ]
          },
          "metadata": {
            "tags": []
          },
          "execution_count": 36
        }
      ]
    },
    {
      "cell_type": "markdown",
      "metadata": {
        "id": "RVNcxVlMaKFw"
      },
      "source": [
        "# Sentimental analysis\n",
        "\n"
      ]
    },
    {
      "cell_type": "code",
      "metadata": {
        "id": "1EZZcyz-NrSw"
      },
      "source": [
        "import os"
      ],
      "execution_count": 37,
      "outputs": []
    },
    {
      "cell_type": "code",
      "metadata": {
        "colab": {
          "base_uri": "https://localhost:8080/",
          "height": 35
        },
        "id": "O9ahlgc7NtFj",
        "outputId": "46211bd4-e820-47ad-c125-3aef1c18bd76"
      },
      "source": [
        "os.getcwd()"
      ],
      "execution_count": 38,
      "outputs": [
        {
          "output_type": "execute_result",
          "data": {
            "application/vnd.google.colaboratory.intrinsic+json": {
              "type": "string"
            },
            "text/plain": [
              "'/content'"
            ]
          },
          "metadata": {
            "tags": []
          },
          "execution_count": 38
        }
      ]
    },
    {
      "cell_type": "code",
      "metadata": {
        "colab": {
          "base_uri": "https://localhost:8080/",
          "height": 969
        },
        "id": "MCPbmnuwNtQs",
        "outputId": "3d694cb5-7ce3-4c3c-d2a7-5eb678a76b27"
      },
      "source": [
        "amzn_mod['compound']=''\n",
        "amzn_mod['negative']=''\n",
        "amzn_mod['neutral']=''\n",
        "amzn_mod['positive']=''\n",
        "amzn_mod"
      ],
      "execution_count": 39,
      "outputs": [
        {
          "output_type": "stream",
          "text": [
            "/usr/local/lib/python3.7/dist-packages/ipykernel_launcher.py:1: SettingWithCopyWarning:\n",
            "\n",
            "\n",
            "A value is trying to be set on a copy of a slice from a DataFrame.\n",
            "Try using .loc[row_indexer,col_indexer] = value instead\n",
            "\n",
            "See the caveats in the documentation: https://pandas.pydata.org/pandas-docs/stable/user_guide/indexing.html#returning-a-view-versus-a-copy\n",
            "\n",
            "/usr/local/lib/python3.7/dist-packages/ipykernel_launcher.py:2: SettingWithCopyWarning:\n",
            "\n",
            "\n",
            "A value is trying to be set on a copy of a slice from a DataFrame.\n",
            "Try using .loc[row_indexer,col_indexer] = value instead\n",
            "\n",
            "See the caveats in the documentation: https://pandas.pydata.org/pandas-docs/stable/user_guide/indexing.html#returning-a-view-versus-a-copy\n",
            "\n",
            "/usr/local/lib/python3.7/dist-packages/ipykernel_launcher.py:3: SettingWithCopyWarning:\n",
            "\n",
            "\n",
            "A value is trying to be set on a copy of a slice from a DataFrame.\n",
            "Try using .loc[row_indexer,col_indexer] = value instead\n",
            "\n",
            "See the caveats in the documentation: https://pandas.pydata.org/pandas-docs/stable/user_guide/indexing.html#returning-a-view-versus-a-copy\n",
            "\n",
            "/usr/local/lib/python3.7/dist-packages/ipykernel_launcher.py:4: SettingWithCopyWarning:\n",
            "\n",
            "\n",
            "A value is trying to be set on a copy of a slice from a DataFrame.\n",
            "Try using .loc[row_indexer,col_indexer] = value instead\n",
            "\n",
            "See the caveats in the documentation: https://pandas.pydata.org/pandas-docs/stable/user_guide/indexing.html#returning-a-view-versus-a-copy\n",
            "\n"
          ],
          "name": "stderr"
        },
        {
          "output_type": "execute_result",
          "data": {
            "text/html": [
              "<div>\n",
              "<style scoped>\n",
              "    .dataframe tbody tr th:only-of-type {\n",
              "        vertical-align: middle;\n",
              "    }\n",
              "\n",
              "    .dataframe tbody tr th {\n",
              "        vertical-align: top;\n",
              "    }\n",
              "\n",
              "    .dataframe thead th {\n",
              "        text-align: right;\n",
              "    }\n",
              "</style>\n",
              "<table border=\"1\" class=\"dataframe\">\n",
              "  <thead>\n",
              "    <tr style=\"text-align: right;\">\n",
              "      <th></th>\n",
              "      <th>Close</th>\n",
              "      <th>Volume</th>\n",
              "      <th>Open</th>\n",
              "      <th>High</th>\n",
              "      <th>Low</th>\n",
              "      <th>Headlines</th>\n",
              "      <th>compound</th>\n",
              "      <th>negative</th>\n",
              "      <th>neutral</th>\n",
              "      <th>positive</th>\n",
              "    </tr>\n",
              "    <tr>\n",
              "      <th>Date</th>\n",
              "      <th></th>\n",
              "      <th></th>\n",
              "      <th></th>\n",
              "      <th></th>\n",
              "      <th></th>\n",
              "      <th></th>\n",
              "      <th></th>\n",
              "      <th></th>\n",
              "      <th></th>\n",
              "      <th></th>\n",
              "    </tr>\n",
              "  </thead>\n",
              "  <tbody>\n",
              "    <tr>\n",
              "      <th>2015-01-02</th>\n",
              "      <td>308.52</td>\n",
              "      <td>2785167.0</td>\n",
              "      <td>312.58</td>\n",
              "      <td>314.7500</td>\n",
              "      <td>306.9601</td>\n",
              "      <td>expect apple 2015 beyond smartwatch amazon&amp;quo...</td>\n",
              "      <td></td>\n",
              "      <td></td>\n",
              "      <td></td>\n",
              "      <td></td>\n",
              "    </tr>\n",
              "    <tr>\n",
              "      <th>2015-01-05</th>\n",
              "      <td>302.19</td>\n",
              "      <td>2768215.0</td>\n",
              "      <td>307.01</td>\n",
              "      <td>308.3800</td>\n",
              "      <td>300.8500</td>\n",
              "      <td>sim-free iphone 6, 6 plus reportedly debuting ...</td>\n",
              "      <td></td>\n",
              "      <td></td>\n",
              "      <td></td>\n",
              "      <td></td>\n",
              "    </tr>\n",
              "    <tr>\n",
              "      <th>2015-01-06</th>\n",
              "      <td>295.29</td>\n",
              "      <td>3511003.0</td>\n",
              "      <td>302.24</td>\n",
              "      <td>303.0000</td>\n",
              "      <td>292.3800</td>\n",
              "      <td>technology transforming cars \"phones wheels\" a...</td>\n",
              "      <td></td>\n",
              "      <td></td>\n",
              "      <td></td>\n",
              "      <td></td>\n",
              "    </tr>\n",
              "    <tr>\n",
              "      <th>2015-01-07</th>\n",
              "      <td>298.42</td>\n",
              "      <td>2630671.0</td>\n",
              "      <td>297.50</td>\n",
              "      <td>301.2800</td>\n",
              "      <td>295.3300</td>\n",
              "      <td>apple issues fourth developer beta os x 10.10....</td>\n",
              "      <td></td>\n",
              "      <td></td>\n",
              "      <td></td>\n",
              "      <td></td>\n",
              "    </tr>\n",
              "    <tr>\n",
              "      <th>2015-01-08</th>\n",
              "      <td>300.46</td>\n",
              "      <td>3087475.0</td>\n",
              "      <td>300.32</td>\n",
              "      <td>303.1400</td>\n",
              "      <td>296.1100</td>\n",
              "      <td>apple company recalls 2014 shipments link list...</td>\n",
              "      <td></td>\n",
              "      <td></td>\n",
              "      <td></td>\n",
              "      <td></td>\n",
              "    </tr>\n",
              "    <tr>\n",
              "      <th>...</th>\n",
              "      <td>...</td>\n",
              "      <td>...</td>\n",
              "      <td>...</td>\n",
              "      <td>...</td>\n",
              "      <td>...</td>\n",
              "      <td>...</td>\n",
              "      <td>...</td>\n",
              "      <td>...</td>\n",
              "      <td>...</td>\n",
              "      <td>...</td>\n",
              "    </tr>\n",
              "    <tr>\n",
              "      <th>2021-06-03</th>\n",
              "      <td>3187.01</td>\n",
              "      <td>2398293.0</td>\n",
              "      <td>3204.23</td>\n",
              "      <td>3214.4350</td>\n",
              "      <td>3184.0300</td>\n",
              "      <td>buy rh stock dip q1 earnings growth? wwdc 2021...</td>\n",
              "      <td></td>\n",
              "      <td></td>\n",
              "      <td></td>\n",
              "      <td></td>\n",
              "    </tr>\n",
              "    <tr>\n",
              "      <th>2021-06-04</th>\n",
              "      <td>3206.22</td>\n",
              "      <td>2249749.0</td>\n",
              "      <td>3212.00</td>\n",
              "      <td>3221.0000</td>\n",
              "      <td>3198.8100</td>\n",
              "      <td>global equities nearly grasp all-time record, ...</td>\n",
              "      <td></td>\n",
              "      <td></td>\n",
              "      <td></td>\n",
              "      <td></td>\n",
              "    </tr>\n",
              "    <tr>\n",
              "      <th>2021-06-07</th>\n",
              "      <td>3198.01</td>\n",
              "      <td>2215756.0</td>\n",
              "      <td>3197.33</td>\n",
              "      <td>3208.0000</td>\n",
              "      <td>3172.2000</td>\n",
              "      <td>apple&amp;quot;s new &amp;quot;private relay&amp;quot; fea...</td>\n",
              "      <td></td>\n",
              "      <td></td>\n",
              "      <td></td>\n",
              "      <td></td>\n",
              "    </tr>\n",
              "    <tr>\n",
              "      <th>2021-06-08</th>\n",
              "      <td>3264.11</td>\n",
              "      <td>3416730.0</td>\n",
              "      <td>3222.61</td>\n",
              "      <td>3279.5321</td>\n",
              "      <td>3218.0100</td>\n",
              "      <td>apple, chinese manufacturers talks us car batt...</td>\n",
              "      <td></td>\n",
              "      <td></td>\n",
              "      <td></td>\n",
              "      <td></td>\n",
              "    </tr>\n",
              "    <tr>\n",
              "      <th>2021-06-09</th>\n",
              "      <td>3281.15</td>\n",
              "      <td>2455530.0</td>\n",
              "      <td>3272.87</td>\n",
              "      <td>3297.5800</td>\n",
              "      <td>3270.7000</td>\n",
              "      <td>athenahealth set support ios 15 feature allows...</td>\n",
              "      <td></td>\n",
              "      <td></td>\n",
              "      <td></td>\n",
              "      <td></td>\n",
              "    </tr>\n",
              "  </tbody>\n",
              "</table>\n",
              "<p>1617 rows × 10 columns</p>\n",
              "</div>"
            ],
            "text/plain": [
              "              Close     Volume     Open  ...  negative  neutral positive\n",
              "Date                                     ...                            \n",
              "2015-01-02   308.52  2785167.0   312.58  ...                            \n",
              "2015-01-05   302.19  2768215.0   307.01  ...                            \n",
              "2015-01-06   295.29  3511003.0   302.24  ...                            \n",
              "2015-01-07   298.42  2630671.0   297.50  ...                            \n",
              "2015-01-08   300.46  3087475.0   300.32  ...                            \n",
              "...             ...        ...      ...  ...       ...      ...      ...\n",
              "2021-06-03  3187.01  2398293.0  3204.23  ...                            \n",
              "2021-06-04  3206.22  2249749.0  3212.00  ...                            \n",
              "2021-06-07  3198.01  2215756.0  3197.33  ...                            \n",
              "2021-06-08  3264.11  3416730.0  3222.61  ...                            \n",
              "2021-06-09  3281.15  2455530.0  3272.87  ...                            \n",
              "\n",
              "[1617 rows x 10 columns]"
            ]
          },
          "metadata": {
            "tags": []
          },
          "execution_count": 39
        }
      ]
    },
    {
      "cell_type": "code",
      "metadata": {
        "colab": {
          "base_uri": "https://localhost:8080/"
        },
        "id": "UBaYIlsENtYO",
        "outputId": "363abd4c-c5f6-4419-c982-00eb606568cf"
      },
      "source": [
        "import nltk\n",
        "nltk.download('vader_lexicon')"
      ],
      "execution_count": 40,
      "outputs": [
        {
          "output_type": "stream",
          "text": [
            "[nltk_data] Downloading package vader_lexicon to /root/nltk_data...\n"
          ],
          "name": "stdout"
        },
        {
          "output_type": "execute_result",
          "data": {
            "text/plain": [
              "True"
            ]
          },
          "metadata": {
            "tags": []
          },
          "execution_count": 40
        }
      ]
    },
    {
      "cell_type": "code",
      "metadata": {
        "id": "INflhsYCNtjJ",
        "colab": {
          "base_uri": "https://localhost:8080/"
        },
        "outputId": "8ede4c05-0be8-405f-e663-c967ca249376"
      },
      "source": [
        "from nltk.sentiment.vader import SentimentIntensityAnalyzer\n",
        "import unicodedata"
      ],
      "execution_count": 41,
      "outputs": [
        {
          "output_type": "stream",
          "text": [
            "/usr/local/lib/python3.7/dist-packages/nltk/twitter/__init__.py:20: UserWarning:\n",
            "\n",
            "The twython library has not been installed. Some functionality from the twitter package will not be available.\n",
            "\n"
          ],
          "name": "stderr"
        }
      ]
    },
    {
      "cell_type": "code",
      "metadata": {
        "id": "FqpKkJYrNtqC"
      },
      "source": [
        "sd=  SentimentIntensityAnalyzer()"
      ],
      "execution_count": 42,
      "outputs": []
    },
    {
      "cell_type": "code",
      "metadata": {
        "colab": {
          "base_uri": "https://localhost:8080/",
          "height": 969
        },
        "id": "Vjya0EjgOtlI",
        "outputId": "278aa9c2-dabc-4831-ca8f-0304a6e0e25c"
      },
      "source": [
        "amzn_mod['compound']=amzn_mod['Headlines'].apply(lambda x: sd.polarity_scores(x)['compound'])\n",
        "amzn_mod['positive']=amzn_mod['Headlines'].apply(lambda x: sd.polarity_scores(x)['pos'])\n",
        "amzn_mod['negative']=amzn_mod['Headlines'].apply(lambda x: sd.polarity_scores(x)['neg'])\n",
        "amzn_mod['neutral']=amzn_mod['Headlines'].apply(lambda x: sd.polarity_scores(x)['neu'])\n",
        "amzn_mod"
      ],
      "execution_count": 43,
      "outputs": [
        {
          "output_type": "stream",
          "text": [
            "/usr/local/lib/python3.7/dist-packages/ipykernel_launcher.py:1: SettingWithCopyWarning:\n",
            "\n",
            "\n",
            "A value is trying to be set on a copy of a slice from a DataFrame.\n",
            "Try using .loc[row_indexer,col_indexer] = value instead\n",
            "\n",
            "See the caveats in the documentation: https://pandas.pydata.org/pandas-docs/stable/user_guide/indexing.html#returning-a-view-versus-a-copy\n",
            "\n",
            "/usr/local/lib/python3.7/dist-packages/ipykernel_launcher.py:2: SettingWithCopyWarning:\n",
            "\n",
            "\n",
            "A value is trying to be set on a copy of a slice from a DataFrame.\n",
            "Try using .loc[row_indexer,col_indexer] = value instead\n",
            "\n",
            "See the caveats in the documentation: https://pandas.pydata.org/pandas-docs/stable/user_guide/indexing.html#returning-a-view-versus-a-copy\n",
            "\n",
            "/usr/local/lib/python3.7/dist-packages/ipykernel_launcher.py:3: SettingWithCopyWarning:\n",
            "\n",
            "\n",
            "A value is trying to be set on a copy of a slice from a DataFrame.\n",
            "Try using .loc[row_indexer,col_indexer] = value instead\n",
            "\n",
            "See the caveats in the documentation: https://pandas.pydata.org/pandas-docs/stable/user_guide/indexing.html#returning-a-view-versus-a-copy\n",
            "\n",
            "/usr/local/lib/python3.7/dist-packages/ipykernel_launcher.py:4: SettingWithCopyWarning:\n",
            "\n",
            "\n",
            "A value is trying to be set on a copy of a slice from a DataFrame.\n",
            "Try using .loc[row_indexer,col_indexer] = value instead\n",
            "\n",
            "See the caveats in the documentation: https://pandas.pydata.org/pandas-docs/stable/user_guide/indexing.html#returning-a-view-versus-a-copy\n",
            "\n"
          ],
          "name": "stderr"
        },
        {
          "output_type": "execute_result",
          "data": {
            "text/html": [
              "<div>\n",
              "<style scoped>\n",
              "    .dataframe tbody tr th:only-of-type {\n",
              "        vertical-align: middle;\n",
              "    }\n",
              "\n",
              "    .dataframe tbody tr th {\n",
              "        vertical-align: top;\n",
              "    }\n",
              "\n",
              "    .dataframe thead th {\n",
              "        text-align: right;\n",
              "    }\n",
              "</style>\n",
              "<table border=\"1\" class=\"dataframe\">\n",
              "  <thead>\n",
              "    <tr style=\"text-align: right;\">\n",
              "      <th></th>\n",
              "      <th>Close</th>\n",
              "      <th>Volume</th>\n",
              "      <th>Open</th>\n",
              "      <th>High</th>\n",
              "      <th>Low</th>\n",
              "      <th>Headlines</th>\n",
              "      <th>compound</th>\n",
              "      <th>negative</th>\n",
              "      <th>neutral</th>\n",
              "      <th>positive</th>\n",
              "    </tr>\n",
              "    <tr>\n",
              "      <th>Date</th>\n",
              "      <th></th>\n",
              "      <th></th>\n",
              "      <th></th>\n",
              "      <th></th>\n",
              "      <th></th>\n",
              "      <th></th>\n",
              "      <th></th>\n",
              "      <th></th>\n",
              "      <th></th>\n",
              "      <th></th>\n",
              "    </tr>\n",
              "  </thead>\n",
              "  <tbody>\n",
              "    <tr>\n",
              "      <th>2015-01-02</th>\n",
              "      <td>308.52</td>\n",
              "      <td>2785167.0</td>\n",
              "      <td>312.58</td>\n",
              "      <td>314.7500</td>\n",
              "      <td>306.9601</td>\n",
              "      <td>expect apple 2015 beyond smartwatch amazon&amp;quo...</td>\n",
              "      <td>0.9881</td>\n",
              "      <td>0.052</td>\n",
              "      <td>0.809</td>\n",
              "      <td>0.139</td>\n",
              "    </tr>\n",
              "    <tr>\n",
              "      <th>2015-01-05</th>\n",
              "      <td>302.19</td>\n",
              "      <td>2768215.0</td>\n",
              "      <td>307.01</td>\n",
              "      <td>308.3800</td>\n",
              "      <td>300.8500</td>\n",
              "      <td>sim-free iphone 6, 6 plus reportedly debuting ...</td>\n",
              "      <td>0.9949</td>\n",
              "      <td>0.025</td>\n",
              "      <td>0.833</td>\n",
              "      <td>0.142</td>\n",
              "    </tr>\n",
              "    <tr>\n",
              "      <th>2015-01-06</th>\n",
              "      <td>295.29</td>\n",
              "      <td>3511003.0</td>\n",
              "      <td>302.24</td>\n",
              "      <td>303.0000</td>\n",
              "      <td>292.3800</td>\n",
              "      <td>technology transforming cars \"phones wheels\" a...</td>\n",
              "      <td>0.6189</td>\n",
              "      <td>0.059</td>\n",
              "      <td>0.874</td>\n",
              "      <td>0.066</td>\n",
              "    </tr>\n",
              "    <tr>\n",
              "      <th>2015-01-07</th>\n",
              "      <td>298.42</td>\n",
              "      <td>2630671.0</td>\n",
              "      <td>297.50</td>\n",
              "      <td>301.2800</td>\n",
              "      <td>295.3300</td>\n",
              "      <td>apple issues fourth developer beta os x 10.10....</td>\n",
              "      <td>-0.8334</td>\n",
              "      <td>0.090</td>\n",
              "      <td>0.835</td>\n",
              "      <td>0.075</td>\n",
              "    </tr>\n",
              "    <tr>\n",
              "      <th>2015-01-08</th>\n",
              "      <td>300.46</td>\n",
              "      <td>3087475.0</td>\n",
              "      <td>300.32</td>\n",
              "      <td>303.1400</td>\n",
              "      <td>296.1100</td>\n",
              "      <td>apple company recalls 2014 shipments link list...</td>\n",
              "      <td>0.9959</td>\n",
              "      <td>0.047</td>\n",
              "      <td>0.808</td>\n",
              "      <td>0.145</td>\n",
              "    </tr>\n",
              "    <tr>\n",
              "      <th>...</th>\n",
              "      <td>...</td>\n",
              "      <td>...</td>\n",
              "      <td>...</td>\n",
              "      <td>...</td>\n",
              "      <td>...</td>\n",
              "      <td>...</td>\n",
              "      <td>...</td>\n",
              "      <td>...</td>\n",
              "      <td>...</td>\n",
              "      <td>...</td>\n",
              "    </tr>\n",
              "    <tr>\n",
              "      <th>2021-06-03</th>\n",
              "      <td>3187.01</td>\n",
              "      <td>2398293.0</td>\n",
              "      <td>3204.23</td>\n",
              "      <td>3214.4350</td>\n",
              "      <td>3184.0300</td>\n",
              "      <td>buy rh stock dip q1 earnings growth? wwdc 2021...</td>\n",
              "      <td>0.9935</td>\n",
              "      <td>0.054</td>\n",
              "      <td>0.834</td>\n",
              "      <td>0.113</td>\n",
              "    </tr>\n",
              "    <tr>\n",
              "      <th>2021-06-04</th>\n",
              "      <td>3206.22</td>\n",
              "      <td>2249749.0</td>\n",
              "      <td>3212.00</td>\n",
              "      <td>3221.0000</td>\n",
              "      <td>3198.8100</td>\n",
              "      <td>global equities nearly grasp all-time record, ...</td>\n",
              "      <td>0.9943</td>\n",
              "      <td>0.033</td>\n",
              "      <td>0.867</td>\n",
              "      <td>0.101</td>\n",
              "    </tr>\n",
              "    <tr>\n",
              "      <th>2021-06-07</th>\n",
              "      <td>3198.01</td>\n",
              "      <td>2215756.0</td>\n",
              "      <td>3197.33</td>\n",
              "      <td>3208.0000</td>\n",
              "      <td>3172.2000</td>\n",
              "      <td>apple&amp;quot;s new &amp;quot;private relay&amp;quot; fea...</td>\n",
              "      <td>0.9968</td>\n",
              "      <td>0.023</td>\n",
              "      <td>0.873</td>\n",
              "      <td>0.104</td>\n",
              "    </tr>\n",
              "    <tr>\n",
              "      <th>2021-06-08</th>\n",
              "      <td>3264.11</td>\n",
              "      <td>3416730.0</td>\n",
              "      <td>3222.61</td>\n",
              "      <td>3279.5321</td>\n",
              "      <td>3218.0100</td>\n",
              "      <td>apple, chinese manufacturers talks us car batt...</td>\n",
              "      <td>0.9971</td>\n",
              "      <td>0.035</td>\n",
              "      <td>0.834</td>\n",
              "      <td>0.131</td>\n",
              "    </tr>\n",
              "    <tr>\n",
              "      <th>2021-06-09</th>\n",
              "      <td>3281.15</td>\n",
              "      <td>2455530.0</td>\n",
              "      <td>3272.87</td>\n",
              "      <td>3297.5800</td>\n",
              "      <td>3270.7000</td>\n",
              "      <td>athenahealth set support ios 15 feature allows...</td>\n",
              "      <td>0.9890</td>\n",
              "      <td>0.047</td>\n",
              "      <td>0.860</td>\n",
              "      <td>0.093</td>\n",
              "    </tr>\n",
              "  </tbody>\n",
              "</table>\n",
              "<p>1617 rows × 10 columns</p>\n",
              "</div>"
            ],
            "text/plain": [
              "              Close     Volume     Open  ...  negative  neutral positive\n",
              "Date                                     ...                            \n",
              "2015-01-02   308.52  2785167.0   312.58  ...     0.052    0.809    0.139\n",
              "2015-01-05   302.19  2768215.0   307.01  ...     0.025    0.833    0.142\n",
              "2015-01-06   295.29  3511003.0   302.24  ...     0.059    0.874    0.066\n",
              "2015-01-07   298.42  2630671.0   297.50  ...     0.090    0.835    0.075\n",
              "2015-01-08   300.46  3087475.0   300.32  ...     0.047    0.808    0.145\n",
              "...             ...        ...      ...  ...       ...      ...      ...\n",
              "2021-06-03  3187.01  2398293.0  3204.23  ...     0.054    0.834    0.113\n",
              "2021-06-04  3206.22  2249749.0  3212.00  ...     0.033    0.867    0.101\n",
              "2021-06-07  3198.01  2215756.0  3197.33  ...     0.023    0.873    0.104\n",
              "2021-06-08  3264.11  3416730.0  3222.61  ...     0.035    0.834    0.131\n",
              "2021-06-09  3281.15  2455530.0  3272.87  ...     0.047    0.860    0.093\n",
              "\n",
              "[1617 rows x 10 columns]"
            ]
          },
          "metadata": {
            "tags": []
          },
          "execution_count": 43
        }
      ]
    },
    {
      "cell_type": "code",
      "metadata": {
        "colab": {
          "base_uri": "https://localhost:8080/"
        },
        "id": "OsBFoMQaPnXK",
        "outputId": "ede51418-aaab-4159-feb8-7e2d42347d67"
      },
      "source": [
        "amzn_mod.columns"
      ],
      "execution_count": 45,
      "outputs": [
        {
          "output_type": "execute_result",
          "data": {
            "text/plain": [
              "Index(['Close', 'Volume', 'Open', 'High', 'Low', 'Headlines', 'compound',\n",
              "       'negative', 'neutral', 'positive'],\n",
              "      dtype='object')"
            ]
          },
          "metadata": {
            "tags": []
          },
          "execution_count": 45
        }
      ]
    },
    {
      "cell_type": "code",
      "metadata": {
        "colab": {
          "base_uri": "https://localhost:8080/",
          "height": 431
        },
        "id": "ZWW3ug2kPnay",
        "outputId": "2e673d34-4879-4d25-c8c8-4448dd92c54a"
      },
      "source": [
        "amzn_mod= amzn_mod[['Close','compound','negative','neutral','positive','Open','High','Low','Volume']]\n",
        "amzn_mod"
      ],
      "execution_count": 46,
      "outputs": [
        {
          "output_type": "execute_result",
          "data": {
            "text/html": [
              "<div>\n",
              "<style scoped>\n",
              "    .dataframe tbody tr th:only-of-type {\n",
              "        vertical-align: middle;\n",
              "    }\n",
              "\n",
              "    .dataframe tbody tr th {\n",
              "        vertical-align: top;\n",
              "    }\n",
              "\n",
              "    .dataframe thead th {\n",
              "        text-align: right;\n",
              "    }\n",
              "</style>\n",
              "<table border=\"1\" class=\"dataframe\">\n",
              "  <thead>\n",
              "    <tr style=\"text-align: right;\">\n",
              "      <th></th>\n",
              "      <th>Close</th>\n",
              "      <th>compound</th>\n",
              "      <th>negative</th>\n",
              "      <th>neutral</th>\n",
              "      <th>positive</th>\n",
              "      <th>Open</th>\n",
              "      <th>High</th>\n",
              "      <th>Low</th>\n",
              "      <th>Volume</th>\n",
              "    </tr>\n",
              "    <tr>\n",
              "      <th>Date</th>\n",
              "      <th></th>\n",
              "      <th></th>\n",
              "      <th></th>\n",
              "      <th></th>\n",
              "      <th></th>\n",
              "      <th></th>\n",
              "      <th></th>\n",
              "      <th></th>\n",
              "      <th></th>\n",
              "    </tr>\n",
              "  </thead>\n",
              "  <tbody>\n",
              "    <tr>\n",
              "      <th>2015-01-02</th>\n",
              "      <td>308.52</td>\n",
              "      <td>0.9881</td>\n",
              "      <td>0.052</td>\n",
              "      <td>0.809</td>\n",
              "      <td>0.139</td>\n",
              "      <td>312.58</td>\n",
              "      <td>314.7500</td>\n",
              "      <td>306.9601</td>\n",
              "      <td>2785167.0</td>\n",
              "    </tr>\n",
              "    <tr>\n",
              "      <th>2015-01-05</th>\n",
              "      <td>302.19</td>\n",
              "      <td>0.9949</td>\n",
              "      <td>0.025</td>\n",
              "      <td>0.833</td>\n",
              "      <td>0.142</td>\n",
              "      <td>307.01</td>\n",
              "      <td>308.3800</td>\n",
              "      <td>300.8500</td>\n",
              "      <td>2768215.0</td>\n",
              "    </tr>\n",
              "    <tr>\n",
              "      <th>2015-01-06</th>\n",
              "      <td>295.29</td>\n",
              "      <td>0.6189</td>\n",
              "      <td>0.059</td>\n",
              "      <td>0.874</td>\n",
              "      <td>0.066</td>\n",
              "      <td>302.24</td>\n",
              "      <td>303.0000</td>\n",
              "      <td>292.3800</td>\n",
              "      <td>3511003.0</td>\n",
              "    </tr>\n",
              "    <tr>\n",
              "      <th>2015-01-07</th>\n",
              "      <td>298.42</td>\n",
              "      <td>-0.8334</td>\n",
              "      <td>0.090</td>\n",
              "      <td>0.835</td>\n",
              "      <td>0.075</td>\n",
              "      <td>297.50</td>\n",
              "      <td>301.2800</td>\n",
              "      <td>295.3300</td>\n",
              "      <td>2630671.0</td>\n",
              "    </tr>\n",
              "    <tr>\n",
              "      <th>2015-01-08</th>\n",
              "      <td>300.46</td>\n",
              "      <td>0.9959</td>\n",
              "      <td>0.047</td>\n",
              "      <td>0.808</td>\n",
              "      <td>0.145</td>\n",
              "      <td>300.32</td>\n",
              "      <td>303.1400</td>\n",
              "      <td>296.1100</td>\n",
              "      <td>3087475.0</td>\n",
              "    </tr>\n",
              "    <tr>\n",
              "      <th>...</th>\n",
              "      <td>...</td>\n",
              "      <td>...</td>\n",
              "      <td>...</td>\n",
              "      <td>...</td>\n",
              "      <td>...</td>\n",
              "      <td>...</td>\n",
              "      <td>...</td>\n",
              "      <td>...</td>\n",
              "      <td>...</td>\n",
              "    </tr>\n",
              "    <tr>\n",
              "      <th>2021-06-03</th>\n",
              "      <td>3187.01</td>\n",
              "      <td>0.9935</td>\n",
              "      <td>0.054</td>\n",
              "      <td>0.834</td>\n",
              "      <td>0.113</td>\n",
              "      <td>3204.23</td>\n",
              "      <td>3214.4350</td>\n",
              "      <td>3184.0300</td>\n",
              "      <td>2398293.0</td>\n",
              "    </tr>\n",
              "    <tr>\n",
              "      <th>2021-06-04</th>\n",
              "      <td>3206.22</td>\n",
              "      <td>0.9943</td>\n",
              "      <td>0.033</td>\n",
              "      <td>0.867</td>\n",
              "      <td>0.101</td>\n",
              "      <td>3212.00</td>\n",
              "      <td>3221.0000</td>\n",
              "      <td>3198.8100</td>\n",
              "      <td>2249749.0</td>\n",
              "    </tr>\n",
              "    <tr>\n",
              "      <th>2021-06-07</th>\n",
              "      <td>3198.01</td>\n",
              "      <td>0.9968</td>\n",
              "      <td>0.023</td>\n",
              "      <td>0.873</td>\n",
              "      <td>0.104</td>\n",
              "      <td>3197.33</td>\n",
              "      <td>3208.0000</td>\n",
              "      <td>3172.2000</td>\n",
              "      <td>2215756.0</td>\n",
              "    </tr>\n",
              "    <tr>\n",
              "      <th>2021-06-08</th>\n",
              "      <td>3264.11</td>\n",
              "      <td>0.9971</td>\n",
              "      <td>0.035</td>\n",
              "      <td>0.834</td>\n",
              "      <td>0.131</td>\n",
              "      <td>3222.61</td>\n",
              "      <td>3279.5321</td>\n",
              "      <td>3218.0100</td>\n",
              "      <td>3416730.0</td>\n",
              "    </tr>\n",
              "    <tr>\n",
              "      <th>2021-06-09</th>\n",
              "      <td>3281.15</td>\n",
              "      <td>0.9890</td>\n",
              "      <td>0.047</td>\n",
              "      <td>0.860</td>\n",
              "      <td>0.093</td>\n",
              "      <td>3272.87</td>\n",
              "      <td>3297.5800</td>\n",
              "      <td>3270.7000</td>\n",
              "      <td>2455530.0</td>\n",
              "    </tr>\n",
              "  </tbody>\n",
              "</table>\n",
              "<p>1617 rows × 9 columns</p>\n",
              "</div>"
            ],
            "text/plain": [
              "              Close  compound  negative  ...       High        Low     Volume\n",
              "Date                                     ...                                 \n",
              "2015-01-02   308.52    0.9881     0.052  ...   314.7500   306.9601  2785167.0\n",
              "2015-01-05   302.19    0.9949     0.025  ...   308.3800   300.8500  2768215.0\n",
              "2015-01-06   295.29    0.6189     0.059  ...   303.0000   292.3800  3511003.0\n",
              "2015-01-07   298.42   -0.8334     0.090  ...   301.2800   295.3300  2630671.0\n",
              "2015-01-08   300.46    0.9959     0.047  ...   303.1400   296.1100  3087475.0\n",
              "...             ...       ...       ...  ...        ...        ...        ...\n",
              "2021-06-03  3187.01    0.9935     0.054  ...  3214.4350  3184.0300  2398293.0\n",
              "2021-06-04  3206.22    0.9943     0.033  ...  3221.0000  3198.8100  2249749.0\n",
              "2021-06-07  3198.01    0.9968     0.023  ...  3208.0000  3172.2000  2215756.0\n",
              "2021-06-08  3264.11    0.9971     0.035  ...  3279.5321  3218.0100  3416730.0\n",
              "2021-06-09  3281.15    0.9890     0.047  ...  3297.5800  3270.7000  2455530.0\n",
              "\n",
              "[1617 rows x 9 columns]"
            ]
          },
          "metadata": {
            "tags": []
          },
          "execution_count": 46
        }
      ]
    },
    {
      "cell_type": "markdown",
      "metadata": {
        "id": "dFIgKrxNmnfh"
      },
      "source": [
        "# data preparation"
      ]
    },
    {
      "cell_type": "code",
      "metadata": {
        "id": "t1Kd00oXQJV4"
      },
      "source": [
        "amznstockdata= amzn_mod.to_csv('amznstockdata.csv')"
      ],
      "execution_count": 47,
      "outputs": []
    },
    {
      "cell_type": "code",
      "metadata": {
        "colab": {
          "base_uri": "https://localhost:8080/",
          "height": 431
        },
        "id": "hR-jFDmFPnd7",
        "outputId": "1d135d49-95c9-4d7a-eb21-97506e7d0693"
      },
      "source": [
        "amznstockdata= pd.read_csv('amznstockdata.csv', index_col=False)\n",
        "amznstockdata.rename(columns={'Unnamed: 0':'Date'}, inplace=True)\n",
        "amznstockdata.set_index('Date', inplace=True)\n",
        "amznstockdata"
      ],
      "execution_count": 48,
      "outputs": [
        {
          "output_type": "execute_result",
          "data": {
            "text/html": [
              "<div>\n",
              "<style scoped>\n",
              "    .dataframe tbody tr th:only-of-type {\n",
              "        vertical-align: middle;\n",
              "    }\n",
              "\n",
              "    .dataframe tbody tr th {\n",
              "        vertical-align: top;\n",
              "    }\n",
              "\n",
              "    .dataframe thead th {\n",
              "        text-align: right;\n",
              "    }\n",
              "</style>\n",
              "<table border=\"1\" class=\"dataframe\">\n",
              "  <thead>\n",
              "    <tr style=\"text-align: right;\">\n",
              "      <th></th>\n",
              "      <th>Close</th>\n",
              "      <th>compound</th>\n",
              "      <th>negative</th>\n",
              "      <th>neutral</th>\n",
              "      <th>positive</th>\n",
              "      <th>Open</th>\n",
              "      <th>High</th>\n",
              "      <th>Low</th>\n",
              "      <th>Volume</th>\n",
              "    </tr>\n",
              "    <tr>\n",
              "      <th>Date</th>\n",
              "      <th></th>\n",
              "      <th></th>\n",
              "      <th></th>\n",
              "      <th></th>\n",
              "      <th></th>\n",
              "      <th></th>\n",
              "      <th></th>\n",
              "      <th></th>\n",
              "      <th></th>\n",
              "    </tr>\n",
              "  </thead>\n",
              "  <tbody>\n",
              "    <tr>\n",
              "      <th>2015-01-02</th>\n",
              "      <td>308.52</td>\n",
              "      <td>0.9881</td>\n",
              "      <td>0.052</td>\n",
              "      <td>0.809</td>\n",
              "      <td>0.139</td>\n",
              "      <td>312.58</td>\n",
              "      <td>314.7500</td>\n",
              "      <td>306.9601</td>\n",
              "      <td>2785167.0</td>\n",
              "    </tr>\n",
              "    <tr>\n",
              "      <th>2015-01-05</th>\n",
              "      <td>302.19</td>\n",
              "      <td>0.9949</td>\n",
              "      <td>0.025</td>\n",
              "      <td>0.833</td>\n",
              "      <td>0.142</td>\n",
              "      <td>307.01</td>\n",
              "      <td>308.3800</td>\n",
              "      <td>300.8500</td>\n",
              "      <td>2768215.0</td>\n",
              "    </tr>\n",
              "    <tr>\n",
              "      <th>2015-01-06</th>\n",
              "      <td>295.29</td>\n",
              "      <td>0.6189</td>\n",
              "      <td>0.059</td>\n",
              "      <td>0.874</td>\n",
              "      <td>0.066</td>\n",
              "      <td>302.24</td>\n",
              "      <td>303.0000</td>\n",
              "      <td>292.3800</td>\n",
              "      <td>3511003.0</td>\n",
              "    </tr>\n",
              "    <tr>\n",
              "      <th>2015-01-07</th>\n",
              "      <td>298.42</td>\n",
              "      <td>-0.8334</td>\n",
              "      <td>0.090</td>\n",
              "      <td>0.835</td>\n",
              "      <td>0.075</td>\n",
              "      <td>297.50</td>\n",
              "      <td>301.2800</td>\n",
              "      <td>295.3300</td>\n",
              "      <td>2630671.0</td>\n",
              "    </tr>\n",
              "    <tr>\n",
              "      <th>2015-01-08</th>\n",
              "      <td>300.46</td>\n",
              "      <td>0.9959</td>\n",
              "      <td>0.047</td>\n",
              "      <td>0.808</td>\n",
              "      <td>0.145</td>\n",
              "      <td>300.32</td>\n",
              "      <td>303.1400</td>\n",
              "      <td>296.1100</td>\n",
              "      <td>3087475.0</td>\n",
              "    </tr>\n",
              "    <tr>\n",
              "      <th>...</th>\n",
              "      <td>...</td>\n",
              "      <td>...</td>\n",
              "      <td>...</td>\n",
              "      <td>...</td>\n",
              "      <td>...</td>\n",
              "      <td>...</td>\n",
              "      <td>...</td>\n",
              "      <td>...</td>\n",
              "      <td>...</td>\n",
              "    </tr>\n",
              "    <tr>\n",
              "      <th>2021-06-03</th>\n",
              "      <td>3187.01</td>\n",
              "      <td>0.9935</td>\n",
              "      <td>0.054</td>\n",
              "      <td>0.834</td>\n",
              "      <td>0.113</td>\n",
              "      <td>3204.23</td>\n",
              "      <td>3214.4350</td>\n",
              "      <td>3184.0300</td>\n",
              "      <td>2398293.0</td>\n",
              "    </tr>\n",
              "    <tr>\n",
              "      <th>2021-06-04</th>\n",
              "      <td>3206.22</td>\n",
              "      <td>0.9943</td>\n",
              "      <td>0.033</td>\n",
              "      <td>0.867</td>\n",
              "      <td>0.101</td>\n",
              "      <td>3212.00</td>\n",
              "      <td>3221.0000</td>\n",
              "      <td>3198.8100</td>\n",
              "      <td>2249749.0</td>\n",
              "    </tr>\n",
              "    <tr>\n",
              "      <th>2021-06-07</th>\n",
              "      <td>3198.01</td>\n",
              "      <td>0.9968</td>\n",
              "      <td>0.023</td>\n",
              "      <td>0.873</td>\n",
              "      <td>0.104</td>\n",
              "      <td>3197.33</td>\n",
              "      <td>3208.0000</td>\n",
              "      <td>3172.2000</td>\n",
              "      <td>2215756.0</td>\n",
              "    </tr>\n",
              "    <tr>\n",
              "      <th>2021-06-08</th>\n",
              "      <td>3264.11</td>\n",
              "      <td>0.9971</td>\n",
              "      <td>0.035</td>\n",
              "      <td>0.834</td>\n",
              "      <td>0.131</td>\n",
              "      <td>3222.61</td>\n",
              "      <td>3279.5321</td>\n",
              "      <td>3218.0100</td>\n",
              "      <td>3416730.0</td>\n",
              "    </tr>\n",
              "    <tr>\n",
              "      <th>2021-06-09</th>\n",
              "      <td>3281.15</td>\n",
              "      <td>0.9890</td>\n",
              "      <td>0.047</td>\n",
              "      <td>0.860</td>\n",
              "      <td>0.093</td>\n",
              "      <td>3272.87</td>\n",
              "      <td>3297.5800</td>\n",
              "      <td>3270.7000</td>\n",
              "      <td>2455530.0</td>\n",
              "    </tr>\n",
              "  </tbody>\n",
              "</table>\n",
              "<p>1617 rows × 9 columns</p>\n",
              "</div>"
            ],
            "text/plain": [
              "              Close  compound  negative  ...       High        Low     Volume\n",
              "Date                                     ...                                 \n",
              "2015-01-02   308.52    0.9881     0.052  ...   314.7500   306.9601  2785167.0\n",
              "2015-01-05   302.19    0.9949     0.025  ...   308.3800   300.8500  2768215.0\n",
              "2015-01-06   295.29    0.6189     0.059  ...   303.0000   292.3800  3511003.0\n",
              "2015-01-07   298.42   -0.8334     0.090  ...   301.2800   295.3300  2630671.0\n",
              "2015-01-08   300.46    0.9959     0.047  ...   303.1400   296.1100  3087475.0\n",
              "...             ...       ...       ...  ...        ...        ...        ...\n",
              "2021-06-03  3187.01    0.9935     0.054  ...  3214.4350  3184.0300  2398293.0\n",
              "2021-06-04  3206.22    0.9943     0.033  ...  3221.0000  3198.8100  2249749.0\n",
              "2021-06-07  3198.01    0.9968     0.023  ...  3208.0000  3172.2000  2215756.0\n",
              "2021-06-08  3264.11    0.9971     0.035  ...  3279.5321  3218.0100  3416730.0\n",
              "2021-06-09  3281.15    0.9890     0.047  ...  3297.5800  3270.7000  2455530.0\n",
              "\n",
              "[1617 rows x 9 columns]"
            ]
          },
          "metadata": {
            "tags": []
          },
          "execution_count": 48
        }
      ]
    },
    {
      "cell_type": "code",
      "metadata": {
        "colab": {
          "base_uri": "https://localhost:8080/"
        },
        "id": "QMInmo85PnhZ",
        "outputId": "e78494ee-c7fb-4563-d21d-5efd6b5d0302"
      },
      "source": [
        "amznstockdata.shape\n"
      ],
      "execution_count": 49,
      "outputs": [
        {
          "output_type": "execute_result",
          "data": {
            "text/plain": [
              "(1617, 9)"
            ]
          },
          "metadata": {
            "tags": []
          },
          "execution_count": 49
        }
      ]
    },
    {
      "cell_type": "code",
      "metadata": {
        "colab": {
          "base_uri": "https://localhost:8080/"
        },
        "id": "Mga8J1sFPnp2",
        "outputId": "0f8343f0-dbcc-4148-b1b8-f1339f55a94a"
      },
      "source": [
        "amznstockdata.isna().any()"
      ],
      "execution_count": 50,
      "outputs": [
        {
          "output_type": "execute_result",
          "data": {
            "text/plain": [
              "Close       False\n",
              "compound    False\n",
              "negative    False\n",
              "neutral     False\n",
              "positive    False\n",
              "Open        False\n",
              "High        False\n",
              "Low         False\n",
              "Volume      False\n",
              "dtype: bool"
            ]
          },
          "metadata": {
            "tags": []
          },
          "execution_count": 50
        }
      ]
    },
    {
      "cell_type": "code",
      "metadata": {
        "colab": {
          "base_uri": "https://localhost:8080/"
        },
        "id": "fu297Jt2R1_t",
        "outputId": "da0f7108-9d58-4636-d890-9886cee107de"
      },
      "source": [
        "amznstockdata.info()"
      ],
      "execution_count": 51,
      "outputs": [
        {
          "output_type": "stream",
          "text": [
            "<class 'pandas.core.frame.DataFrame'>\n",
            "Index: 1617 entries, 2015-01-02 to 2021-06-09\n",
            "Data columns (total 9 columns):\n",
            " #   Column    Non-Null Count  Dtype  \n",
            "---  ------    --------------  -----  \n",
            " 0   Close     1617 non-null   float64\n",
            " 1   compound  1617 non-null   float64\n",
            " 2   negative  1617 non-null   float64\n",
            " 3   neutral   1617 non-null   float64\n",
            " 4   positive  1617 non-null   float64\n",
            " 5   Open      1617 non-null   float64\n",
            " 6   High      1617 non-null   float64\n",
            " 7   Low       1617 non-null   float64\n",
            " 8   Volume    1617 non-null   float64\n",
            "dtypes: float64(9)\n",
            "memory usage: 126.3+ KB\n"
          ],
          "name": "stdout"
        }
      ]
    },
    {
      "cell_type": "code",
      "metadata": {
        "colab": {
          "base_uri": "https://localhost:8080/",
          "height": 284
        },
        "id": "VMu7o439RrSy",
        "outputId": "77dd907d-fd95-4f86-cac9-9187765331ab"
      },
      "source": [
        "amznstockdata.describe(include='all')"
      ],
      "execution_count": 52,
      "outputs": [
        {
          "output_type": "execute_result",
          "data": {
            "text/html": [
              "<div>\n",
              "<style scoped>\n",
              "    .dataframe tbody tr th:only-of-type {\n",
              "        vertical-align: middle;\n",
              "    }\n",
              "\n",
              "    .dataframe tbody tr th {\n",
              "        vertical-align: top;\n",
              "    }\n",
              "\n",
              "    .dataframe thead th {\n",
              "        text-align: right;\n",
              "    }\n",
              "</style>\n",
              "<table border=\"1\" class=\"dataframe\">\n",
              "  <thead>\n",
              "    <tr style=\"text-align: right;\">\n",
              "      <th></th>\n",
              "      <th>Close</th>\n",
              "      <th>compound</th>\n",
              "      <th>negative</th>\n",
              "      <th>neutral</th>\n",
              "      <th>positive</th>\n",
              "      <th>Open</th>\n",
              "      <th>High</th>\n",
              "      <th>Low</th>\n",
              "      <th>Volume</th>\n",
              "    </tr>\n",
              "  </thead>\n",
              "  <tbody>\n",
              "    <tr>\n",
              "      <th>count</th>\n",
              "      <td>1617.000000</td>\n",
              "      <td>1617.000000</td>\n",
              "      <td>1617.000000</td>\n",
              "      <td>1617.000000</td>\n",
              "      <td>1617.000000</td>\n",
              "      <td>1617.000000</td>\n",
              "      <td>1617.000000</td>\n",
              "      <td>1617.000000</td>\n",
              "      <td>1.617000e+03</td>\n",
              "    </tr>\n",
              "    <tr>\n",
              "      <th>mean</th>\n",
              "      <td>1501.214434</td>\n",
              "      <td>0.719401</td>\n",
              "      <td>0.066596</td>\n",
              "      <td>0.809734</td>\n",
              "      <td>0.123697</td>\n",
              "      <td>1501.972480</td>\n",
              "      <td>1517.418128</td>\n",
              "      <td>1484.268816</td>\n",
              "      <td>4.247663e+06</td>\n",
              "    </tr>\n",
              "    <tr>\n",
              "      <th>std</th>\n",
              "      <td>895.173243</td>\n",
              "      <td>0.601623</td>\n",
              "      <td>0.030848</td>\n",
              "      <td>0.038196</td>\n",
              "      <td>0.033219</td>\n",
              "      <td>896.513386</td>\n",
              "      <td>907.027133</td>\n",
              "      <td>884.037684</td>\n",
              "      <td>2.160229e+06</td>\n",
              "    </tr>\n",
              "    <tr>\n",
              "      <th>min</th>\n",
              "      <td>286.950000</td>\n",
              "      <td>-0.999300</td>\n",
              "      <td>0.000000</td>\n",
              "      <td>0.659000</td>\n",
              "      <td>0.000000</td>\n",
              "      <td>286.280000</td>\n",
              "      <td>290.790000</td>\n",
              "      <td>285.250000</td>\n",
              "      <td>8.813370e+05</td>\n",
              "    </tr>\n",
              "    <tr>\n",
              "      <th>25%</th>\n",
              "      <td>753.670000</td>\n",
              "      <td>0.903500</td>\n",
              "      <td>0.046000</td>\n",
              "      <td>0.787000</td>\n",
              "      <td>0.102000</td>\n",
              "      <td>756.000000</td>\n",
              "      <td>758.890000</td>\n",
              "      <td>747.700000</td>\n",
              "      <td>2.828391e+06</td>\n",
              "    </tr>\n",
              "    <tr>\n",
              "      <th>50%</th>\n",
              "      <td>1470.900000</td>\n",
              "      <td>0.984500</td>\n",
              "      <td>0.061000</td>\n",
              "      <td>0.810000</td>\n",
              "      <td>0.123000</td>\n",
              "      <td>1466.890000</td>\n",
              "      <td>1501.050000</td>\n",
              "      <td>1448.447500</td>\n",
              "      <td>3.673116e+06</td>\n",
              "    </tr>\n",
              "    <tr>\n",
              "      <th>75%</th>\n",
              "      <td>1898.530000</td>\n",
              "      <td>0.994600</td>\n",
              "      <td>0.082000</td>\n",
              "      <td>0.834000</td>\n",
              "      <td>0.143000</td>\n",
              "      <td>1901.640000</td>\n",
              "      <td>1916.210000</td>\n",
              "      <td>1882.290000</td>\n",
              "      <td>4.981311e+06</td>\n",
              "    </tr>\n",
              "    <tr>\n",
              "      <th>max</th>\n",
              "      <td>3531.450000</td>\n",
              "      <td>0.999300</td>\n",
              "      <td>0.245000</td>\n",
              "      <td>0.971000</td>\n",
              "      <td>0.271000</td>\n",
              "      <td>3547.000000</td>\n",
              "      <td>3554.000000</td>\n",
              "      <td>3486.685000</td>\n",
              "      <td>2.384672e+07</td>\n",
              "    </tr>\n",
              "  </tbody>\n",
              "</table>\n",
              "</div>"
            ],
            "text/plain": [
              "             Close     compound  ...          Low        Volume\n",
              "count  1617.000000  1617.000000  ...  1617.000000  1.617000e+03\n",
              "mean   1501.214434     0.719401  ...  1484.268816  4.247663e+06\n",
              "std     895.173243     0.601623  ...   884.037684  2.160229e+06\n",
              "min     286.950000    -0.999300  ...   285.250000  8.813370e+05\n",
              "25%     753.670000     0.903500  ...   747.700000  2.828391e+06\n",
              "50%    1470.900000     0.984500  ...  1448.447500  3.673116e+06\n",
              "75%    1898.530000     0.994600  ...  1882.290000  4.981311e+06\n",
              "max    3531.450000     0.999300  ...  3486.685000  2.384672e+07\n",
              "\n",
              "[8 rows x 9 columns]"
            ]
          },
          "metadata": {
            "tags": []
          },
          "execution_count": 52
        }
      ]
    },
    {
      "cell_type": "code",
      "metadata": {
        "colab": {
          "base_uri": "https://localhost:8080/"
        },
        "id": "NCaJwgVkRrWS",
        "outputId": "13360d0b-eaa5-4dc0-e5e3-6084f8b8719a"
      },
      "source": [
        "#data to be used for each column\n",
        "close_price= amznstockdata.iloc[:,0]\n",
        "#print close price\n",
        "print(\"Close Price\")\n",
        "close_price"
      ],
      "execution_count": 53,
      "outputs": [
        {
          "output_type": "stream",
          "text": [
            "Close Price\n"
          ],
          "name": "stdout"
        },
        {
          "output_type": "execute_result",
          "data": {
            "text/plain": [
              "Date\n",
              "2015-01-02     308.52\n",
              "2015-01-05     302.19\n",
              "2015-01-06     295.29\n",
              "2015-01-07     298.42\n",
              "2015-01-08     300.46\n",
              "               ...   \n",
              "2021-06-03    3187.01\n",
              "2021-06-04    3206.22\n",
              "2021-06-07    3198.01\n",
              "2021-06-08    3264.11\n",
              "2021-06-09    3281.15\n",
              "Name: Close, Length: 1617, dtype: float64"
            ]
          },
          "metadata": {
            "tags": []
          },
          "execution_count": 53
        }
      ]
    },
    {
      "cell_type": "code",
      "metadata": {
        "colab": {
          "base_uri": "https://localhost:8080/",
          "height": 521
        },
        "id": "5sdCvkuIRra4",
        "outputId": "249f478b-7e5d-4119-bcaa-60fcddd0411b"
      },
      "source": [
        "#concatenating the captured train data into a df\n",
        "need_data = pd.concat([close_price], axis=1)\n",
        "#revised stock data column name\n",
        "need_data.columns = ['close_price']\n",
        "need_data.tail(15)"
      ],
      "execution_count": 54,
      "outputs": [
        {
          "output_type": "execute_result",
          "data": {
            "text/html": [
              "<div>\n",
              "<style scoped>\n",
              "    .dataframe tbody tr th:only-of-type {\n",
              "        vertical-align: middle;\n",
              "    }\n",
              "\n",
              "    .dataframe tbody tr th {\n",
              "        vertical-align: top;\n",
              "    }\n",
              "\n",
              "    .dataframe thead th {\n",
              "        text-align: right;\n",
              "    }\n",
              "</style>\n",
              "<table border=\"1\" class=\"dataframe\">\n",
              "  <thead>\n",
              "    <tr style=\"text-align: right;\">\n",
              "      <th></th>\n",
              "      <th>close_price</th>\n",
              "    </tr>\n",
              "    <tr>\n",
              "      <th>Date</th>\n",
              "      <th></th>\n",
              "    </tr>\n",
              "  </thead>\n",
              "  <tbody>\n",
              "    <tr>\n",
              "      <th>2021-05-19</th>\n",
              "      <td>3231.80</td>\n",
              "    </tr>\n",
              "    <tr>\n",
              "      <th>2021-05-20</th>\n",
              "      <td>3247.68</td>\n",
              "    </tr>\n",
              "    <tr>\n",
              "      <th>2021-05-21</th>\n",
              "      <td>3203.08</td>\n",
              "    </tr>\n",
              "    <tr>\n",
              "      <th>2021-05-24</th>\n",
              "      <td>3244.99</td>\n",
              "    </tr>\n",
              "    <tr>\n",
              "      <th>2021-05-25</th>\n",
              "      <td>3259.05</td>\n",
              "    </tr>\n",
              "    <tr>\n",
              "      <th>2021-05-26</th>\n",
              "      <td>3265.16</td>\n",
              "    </tr>\n",
              "    <tr>\n",
              "      <th>2021-05-27</th>\n",
              "      <td>3230.11</td>\n",
              "    </tr>\n",
              "    <tr>\n",
              "      <th>2021-05-28</th>\n",
              "      <td>3223.07</td>\n",
              "    </tr>\n",
              "    <tr>\n",
              "      <th>2021-06-01</th>\n",
              "      <td>3218.65</td>\n",
              "    </tr>\n",
              "    <tr>\n",
              "      <th>2021-06-02</th>\n",
              "      <td>3233.99</td>\n",
              "    </tr>\n",
              "    <tr>\n",
              "      <th>2021-06-03</th>\n",
              "      <td>3187.01</td>\n",
              "    </tr>\n",
              "    <tr>\n",
              "      <th>2021-06-04</th>\n",
              "      <td>3206.22</td>\n",
              "    </tr>\n",
              "    <tr>\n",
              "      <th>2021-06-07</th>\n",
              "      <td>3198.01</td>\n",
              "    </tr>\n",
              "    <tr>\n",
              "      <th>2021-06-08</th>\n",
              "      <td>3264.11</td>\n",
              "    </tr>\n",
              "    <tr>\n",
              "      <th>2021-06-09</th>\n",
              "      <td>3281.15</td>\n",
              "    </tr>\n",
              "  </tbody>\n",
              "</table>\n",
              "</div>"
            ],
            "text/plain": [
              "            close_price\n",
              "Date                   \n",
              "2021-05-19      3231.80\n",
              "2021-05-20      3247.68\n",
              "2021-05-21      3203.08\n",
              "2021-05-24      3244.99\n",
              "2021-05-25      3259.05\n",
              "2021-05-26      3265.16\n",
              "2021-05-27      3230.11\n",
              "2021-05-28      3223.07\n",
              "2021-06-01      3218.65\n",
              "2021-06-02      3233.99\n",
              "2021-06-03      3187.01\n",
              "2021-06-04      3206.22\n",
              "2021-06-07      3198.01\n",
              "2021-06-08      3264.11\n",
              "2021-06-09      3281.15"
            ]
          },
          "metadata": {
            "tags": []
          },
          "execution_count": 54
        }
      ]
    },
    {
      "cell_type": "code",
      "metadata": {
        "id": "Gx-K39msRrdP"
      },
      "source": [
        "#converting a numpy array\n",
        "amzndataset= need_data.values"
      ],
      "execution_count": 55,
      "outputs": []
    },
    {
      "cell_type": "markdown",
      "metadata": {
        "id": "HM9Z_1sbTI9p"
      },
      "source": [
        "# Test & train split "
      ]
    },
    {
      "cell_type": "code",
      "metadata": {
        "colab": {
          "base_uri": "https://localhost:8080/"
        },
        "id": "3Cx0ecAYRrhp",
        "outputId": "7719fea5-e71c-487d-aeed-68756141fb73"
      },
      "source": [
        "#number of rows\n",
        "training_data_len = math.ceil(len(amzndataset)*.8)\n",
        "training_data_len"
      ],
      "execution_count": 56,
      "outputs": [
        {
          "output_type": "execute_result",
          "data": {
            "text/plain": [
              "1294"
            ]
          },
          "metadata": {
            "tags": []
          },
          "execution_count": 56
        }
      ]
    },
    {
      "cell_type": "code",
      "metadata": {
        "colab": {
          "base_uri": "https://localhost:8080/"
        },
        "id": "cSyr-Nu_RrmG",
        "outputId": "fb8cb800-df86-432c-ec2d-2fe2cc92da9a"
      },
      "source": [
        "#scaling the target data and featuring df\n",
        "scaler = MinMaxScaler(feature_range=(0,1))\n",
        "scaler_data = scaler.fit_transform(amzndataset)\n",
        "print(amzndataset)"
      ],
      "execution_count": 57,
      "outputs": [
        {
          "output_type": "stream",
          "text": [
            "[[ 308.52]\n",
            " [ 302.19]\n",
            " [ 295.29]\n",
            " ...\n",
            " [3198.01]\n",
            " [3264.11]\n",
            " [3281.15]]\n"
          ],
          "name": "stdout"
        }
      ]
    },
    {
      "cell_type": "code",
      "metadata": {
        "colab": {
          "base_uri": "https://localhost:8080/"
        },
        "id": "BBlrVvmxRrpy",
        "outputId": "f536549a-5fa8-4360-985d-c8c4e9901d0d"
      },
      "source": [
        "#training data set\n",
        "train_data = scaler_data[0:training_data_len, :]\n",
        "\n",
        "#spliting data into training sets\n",
        "x_train =[]\n",
        "y_train=[]\n",
        "past_days= 15\n",
        "for i in range(past_days, len(train_data)):\n",
        "  x_train.append(train_data[i-past_days:i, :])\n",
        "  y_train.append(train_data[i, 0])\n",
        "  if i<= past_days:\n",
        "    print(x_train)\n",
        "    print(y_train)\n",
        "    print()"
      ],
      "execution_count": 58,
      "outputs": [
        {
          "output_type": "stream",
          "text": [
            "[array([[0.00664817],\n",
            "       [0.00469718],\n",
            "       [0.0025705 ],\n",
            "       [0.00353521],\n",
            "       [0.00416397],\n",
            "       [0.00307597],\n",
            "       [0.00137463],\n",
            "       [0.00240099],\n",
            "       [0.00194791],\n",
            "       [0.        ],\n",
            "       [0.00116813],\n",
            "       [0.00076745],\n",
            "       [0.0031746 ],\n",
            "       [0.00720296],\n",
            "       [0.00784096]])]\n",
            "[0.006999537679149334]\n",
            "\n"
          ],
          "name": "stdout"
        }
      ]
    },
    {
      "cell_type": "code",
      "metadata": {
        "id": "Mn4JV0CnodRw"
      },
      "source": [
        "#coverting train to numpy array\n",
        "x_train, y_train= np.array(x_train), np.array(y_train)"
      ],
      "execution_count": 59,
      "outputs": []
    },
    {
      "cell_type": "code",
      "metadata": {
        "colab": {
          "base_uri": "https://localhost:8080/"
        },
        "id": "5NgzwzgioeVB",
        "outputId": "4e64b343-1e8b-4842-8a27-f78e54ffeda4"
      },
      "source": [
        "#reshape the data to 3 dimension data\n",
        "x_train= np.reshape(x_train, (x_train.shape[0], x_train.shape[1], 1))\n",
        "x_train"
      ],
      "execution_count": 60,
      "outputs": [
        {
          "output_type": "execute_result",
          "data": {
            "text/plain": [
              "array([[[0.00664817],\n",
              "        [0.00469718],\n",
              "        [0.0025705 ],\n",
              "        ...,\n",
              "        [0.0031746 ],\n",
              "        [0.00720296],\n",
              "        [0.00784096]],\n",
              "\n",
              "       [[0.00469718],\n",
              "        [0.0025705 ],\n",
              "        [0.00353521],\n",
              "        ...,\n",
              "        [0.00720296],\n",
              "        [0.00784096],\n",
              "        [0.00699954]],\n",
              "\n",
              "       [[0.0025705 ],\n",
              "        [0.00353521],\n",
              "        [0.00416397],\n",
              "        ...,\n",
              "        [0.00784096],\n",
              "        [0.00699954],\n",
              "        [0.00610264]],\n",
              "\n",
              "       ...,\n",
              "\n",
              "       [[0.52928032],\n",
              "        [0.54329481],\n",
              "        [0.54027431],\n",
              "        ...,\n",
              "        [0.57517337],\n",
              "        [0.55756511],\n",
              "        [0.53084913]],\n",
              "\n",
              "       [[0.54329481],\n",
              "        [0.54027431],\n",
              "        [0.54346741],\n",
              "        ...,\n",
              "        [0.55756511],\n",
              "        [0.53084913],\n",
              "        [0.51958391]],\n",
              "\n",
              "       [[0.54027431],\n",
              "        [0.54346741],\n",
              "        [0.55242102],\n",
              "        ...,\n",
              "        [0.53084913],\n",
              "        [0.51958391],\n",
              "        [0.52169518]]])"
            ]
          },
          "metadata": {
            "tags": []
          },
          "execution_count": 60
        }
      ]
    },
    {
      "cell_type": "code",
      "metadata": {
        "colab": {
          "base_uri": "https://localhost:8080/"
        },
        "id": "3vJHb1fExw4B",
        "outputId": "0663a057-541a-4759-e11e-216085cbf5ba"
      },
      "source": [
        "print(x_train.shape)\n",
        "print(y_train.shape)"
      ],
      "execution_count": 61,
      "outputs": [
        {
          "output_type": "stream",
          "text": [
            "(1279, 15, 1)\n",
            "(1279,)\n"
          ],
          "name": "stdout"
        }
      ]
    },
    {
      "cell_type": "code",
      "metadata": {
        "id": "xBN6myLtoee5"
      },
      "source": [
        "np.random.seed(2000)\n",
        "import keras.models\n",
        "import tensorflow\n",
        "from keras.layers import Dense, LSTM, Dropout\n",
        "from keras.models import Sequential"
      ],
      "execution_count": 62,
      "outputs": []
    },
    {
      "cell_type": "code",
      "metadata": {
        "colab": {
          "base_uri": "https://localhost:8080/"
        },
        "id": "IWg9UIIcsEYa",
        "outputId": "98509aba-0856-471c-9047-a248993a9290"
      },
      "source": [
        "model = Sequential()\n",
        "model.add(LSTM(160, return_sequences=True, activation=\"tanh\", input_shape=(x_train.shape[1],1)))\n",
        "model.add(Dropout(0.2))\n",
        "model.add(LSTM(80, return_sequences=False , activation=\"tanh\"))\n",
        "model.add(Dense(60))\n",
        "model.add(Dense(1))\n",
        "model.summary()"
      ],
      "execution_count": 74,
      "outputs": [
        {
          "output_type": "stream",
          "text": [
            "Model: \"sequential_1\"\n",
            "_________________________________________________________________\n",
            "Layer (type)                 Output Shape              Param #   \n",
            "=================================================================\n",
            "lstm_2 (LSTM)                (None, 15, 160)           103680    \n",
            "_________________________________________________________________\n",
            "dropout_1 (Dropout)          (None, 15, 160)           0         \n",
            "_________________________________________________________________\n",
            "lstm_3 (LSTM)                (None, 80)                77120     \n",
            "_________________________________________________________________\n",
            "dense_2 (Dense)              (None, 60)                4860      \n",
            "_________________________________________________________________\n",
            "dense_3 (Dense)              (None, 1)                 61        \n",
            "=================================================================\n",
            "Total params: 185,721\n",
            "Trainable params: 185,721\n",
            "Non-trainable params: 0\n",
            "_________________________________________________________________\n"
          ],
          "name": "stdout"
        }
      ]
    },
    {
      "cell_type": "code",
      "metadata": {
        "id": "YSmTXhtztfbO"
      },
      "source": [
        "model.compile(optimizer='adam', loss='mean_squared_error')"
      ],
      "execution_count": 75,
      "outputs": []
    },
    {
      "cell_type": "code",
      "metadata": {
        "colab": {
          "base_uri": "https://localhost:8080/"
        },
        "id": "BkG7wTR3tfiH",
        "outputId": "8f3f5d7c-8531-4ab1-a92a-639282f366fd"
      },
      "source": [
        "#train the model\n",
        "from keras.callbacks import EarlyStopping\n",
        "early_stop= EarlyStopping(monitor= 'val_loss', mode= 'min', verbose= 1, patience= 5)\n",
        "history= model.fit(x_train, y_train, batch_size=64, epochs=100, verbose=1, validation_split=0.2, callbacks= [early_stop])"
      ],
      "execution_count": 76,
      "outputs": [
        {
          "output_type": "stream",
          "text": [
            "Epoch 1/100\n",
            "16/16 [==============================] - 6s 121ms/step - loss: 0.0200 - val_loss: 7.1588e-04\n",
            "Epoch 2/100\n",
            "16/16 [==============================] - 1s 53ms/step - loss: 0.0012 - val_loss: 0.0027\n",
            "Epoch 3/100\n",
            "16/16 [==============================] - 1s 58ms/step - loss: 5.2593e-04 - val_loss: 4.7834e-04\n",
            "Epoch 4/100\n",
            "16/16 [==============================] - 1s 55ms/step - loss: 2.5477e-04 - val_loss: 3.7767e-04\n",
            "Epoch 5/100\n",
            "16/16 [==============================] - 1s 58ms/step - loss: 2.0921e-04 - val_loss: 3.7889e-04\n",
            "Epoch 6/100\n",
            "16/16 [==============================] - 1s 57ms/step - loss: 1.9896e-04 - val_loss: 3.8368e-04\n",
            "Epoch 7/100\n",
            "16/16 [==============================] - 1s 58ms/step - loss: 2.1611e-04 - val_loss: 3.3061e-04\n",
            "Epoch 8/100\n",
            "16/16 [==============================] - 1s 58ms/step - loss: 2.2174e-04 - val_loss: 3.2795e-04\n",
            "Epoch 9/100\n",
            "16/16 [==============================] - 1s 58ms/step - loss: 2.3376e-04 - val_loss: 4.0577e-04\n",
            "Epoch 10/100\n",
            "16/16 [==============================] - 1s 57ms/step - loss: 1.9701e-04 - val_loss: 3.2730e-04\n",
            "Epoch 11/100\n",
            "16/16 [==============================] - 1s 54ms/step - loss: 1.9239e-04 - val_loss: 3.8132e-04\n",
            "Epoch 12/100\n",
            "16/16 [==============================] - 1s 57ms/step - loss: 1.7833e-04 - val_loss: 3.1891e-04\n",
            "Epoch 13/100\n",
            "16/16 [==============================] - 1s 59ms/step - loss: 1.9784e-04 - val_loss: 3.8691e-04\n",
            "Epoch 14/100\n",
            "16/16 [==============================] - 1s 57ms/step - loss: 1.9048e-04 - val_loss: 3.2779e-04\n",
            "Epoch 15/100\n",
            "16/16 [==============================] - 1s 56ms/step - loss: 2.0744e-04 - val_loss: 3.0929e-04\n",
            "Epoch 16/100\n",
            "16/16 [==============================] - 1s 57ms/step - loss: 1.8462e-04 - val_loss: 3.6445e-04\n",
            "Epoch 17/100\n",
            "16/16 [==============================] - 1s 57ms/step - loss: 1.7837e-04 - val_loss: 3.2273e-04\n",
            "Epoch 18/100\n",
            "16/16 [==============================] - 1s 55ms/step - loss: 1.8682e-04 - val_loss: 2.9971e-04\n",
            "Epoch 19/100\n",
            "16/16 [==============================] - 1s 55ms/step - loss: 1.7819e-04 - val_loss: 2.9819e-04\n",
            "Epoch 20/100\n",
            "16/16 [==============================] - 1s 54ms/step - loss: 1.7117e-04 - val_loss: 5.1866e-04\n",
            "Epoch 21/100\n",
            "16/16 [==============================] - 1s 55ms/step - loss: 2.4234e-04 - val_loss: 2.9086e-04\n",
            "Epoch 22/100\n",
            "16/16 [==============================] - 1s 57ms/step - loss: 1.9440e-04 - val_loss: 3.0145e-04\n",
            "Epoch 23/100\n",
            "16/16 [==============================] - 1s 58ms/step - loss: 1.7299e-04 - val_loss: 2.8564e-04\n",
            "Epoch 24/100\n",
            "16/16 [==============================] - 1s 58ms/step - loss: 2.1146e-04 - val_loss: 2.9261e-04\n",
            "Epoch 25/100\n",
            "16/16 [==============================] - 1s 58ms/step - loss: 2.2061e-04 - val_loss: 2.8867e-04\n",
            "Epoch 26/100\n",
            "16/16 [==============================] - 1s 57ms/step - loss: 1.8059e-04 - val_loss: 3.0398e-04\n",
            "Epoch 27/100\n",
            "16/16 [==============================] - 1s 57ms/step - loss: 1.6901e-04 - val_loss: 2.7226e-04\n",
            "Epoch 28/100\n",
            "16/16 [==============================] - 1s 60ms/step - loss: 2.0208e-04 - val_loss: 3.8666e-04\n",
            "Epoch 29/100\n",
            "16/16 [==============================] - 1s 56ms/step - loss: 2.2622e-04 - val_loss: 4.7113e-04\n",
            "Epoch 30/100\n",
            "16/16 [==============================] - 1s 58ms/step - loss: 1.9936e-04 - val_loss: 2.9635e-04\n",
            "Epoch 31/100\n",
            "16/16 [==============================] - 1s 56ms/step - loss: 1.7369e-04 - val_loss: 5.8663e-04\n",
            "Epoch 32/100\n",
            "16/16 [==============================] - 1s 55ms/step - loss: 2.1856e-04 - val_loss: 5.0567e-04\n",
            "Epoch 00032: early stopping\n"
          ],
          "name": "stdout"
        }
      ]
    },
    {
      "cell_type": "code",
      "metadata": {
        "colab": {
          "base_uri": "https://localhost:8080/",
          "height": 364
        },
        "id": "ik0MDPsH5eRu",
        "outputId": "fc330d43-1205-45ee-d1e6-470862007ed4"
      },
      "source": [
        "#plotting loss\n",
        "loss= pd.DataFrame(model.history.history)\n",
        "loss.plot()"
      ],
      "execution_count": 77,
      "outputs": [
        {
          "output_type": "execute_result",
          "data": {
            "text/plain": [
              "<matplotlib.axes._subplots.AxesSubplot at 0x7f4f32f34890>"
            ]
          },
          "metadata": {
            "tags": []
          },
          "execution_count": 77
        },
        {
          "output_type": "display_data",
          "data": {
            "image/png": "[encoded data removed]",
            "text/plain": [
              "<Figure size 576x396 with 1 Axes>"
            ]
          },
          "metadata": {
            "tags": []
          }
        }
      ]
    },
    {
      "cell_type": "code",
      "metadata": {
        "id": "MgjgSfRE5erV"
      },
      "source": [
        "#Creating the testing data set\n",
        "test_data = scaler_data[training_data_len - past_days:, :]\n",
        "\n",
        "#creating the datasets\n",
        "x_test=[]\n",
        "y_test= amzndataset[training_data_len:, 0]\n",
        "for i in range (past_days, len(test_data)):\n",
        "  x_test.append(test_data[i- past_days:i, :])"
      ],
      "execution_count": 78,
      "outputs": []
    },
    {
      "cell_type": "code",
      "metadata": {
        "id": "-hinsg7J5e1N"
      },
      "source": [
        "#convert the data to numpy array\n",
        "x_test= np.array(x_test)\n",
        "\n",
        "#reshaping the data\n",
        "x_data= np.reshape(x_test,(x_test.shape[0], x_test.shape[1], 1))\n"
      ],
      "execution_count": 79,
      "outputs": []
    },
    {
      "cell_type": "code",
      "metadata": {
        "colab": {
          "base_uri": "https://localhost:8080/"
        },
        "id": "vRsgFlnk5e_0",
        "outputId": "2ea2390b-058c-4b83-c7cc-955ca76b782a"
      },
      "source": [
        "#get the model predicted price \n",
        "predictions= model.predict(x_test)\n",
        "predictions=scaler.inverse_transform(predictions)\n",
        "predictions"
      ],
      "execution_count": 80,
      "outputs": [
        {
          "output_type": "execute_result",
          "data": {
            "text/plain": [
              "array([[1999.5546],\n",
              "       [1971.0613],\n",
              "       [1948.7059],\n",
              "       [1928.4841],\n",
              "       [1916.2211],\n",
              "       [1905.8881],\n",
              "       [1895.9418],\n",
              "       [1879.6392],\n",
              "       [1867.315 ],\n",
              "       [1853.0546],\n",
              "       [1828.4308],\n",
              "       [1807.5063],\n",
              "       [1783.4355],\n",
              "       [1767.9729],\n",
              "       [1760.3503],\n",
              "       [1762.1011],\n",
              "       [1766.5585],\n",
              "       [1776.1989],\n",
              "       [1791.0856],\n",
              "       [1803.6277],\n",
              "       [1819.107 ],\n",
              "       [1830.8898],\n",
              "       [1844.3866],\n",
              "       [1856.2179],\n",
              "       [1863.5419],\n",
              "       [1868.6061],\n",
              "       [1870.3416],\n",
              "       [1877.1619],\n",
              "       [1886.9469],\n",
              "       [1900.3691],\n",
              "       [1914.8165],\n",
              "       [1938.1327],\n",
              "       [1972.9001],\n",
              "       [2013.5312],\n",
              "       [2061.9543],\n",
              "       [2108.216 ],\n",
              "       [2151.098 ],\n",
              "       [2183.2769],\n",
              "       [2209.284 ],\n",
              "       [2232.1343],\n",
              "       [2251.9507],\n",
              "       [2266.021 ],\n",
              "       [2270.9133],\n",
              "       [2274.5608],\n",
              "       [2284.4946],\n",
              "       [2283.699 ],\n",
              "       [2278.87  ],\n",
              "       [2272.0806],\n",
              "       [2267.3582],\n",
              "       [2265.2686],\n",
              "       [2266.1301],\n",
              "       [2270.7075],\n",
              "       [2273.4731],\n",
              "       [2275.564 ],\n",
              "       [2278.5376],\n",
              "       [2283.3372],\n",
              "       [2290.116 ],\n",
              "       [2299.253 ],\n",
              "       [2312.2947],\n",
              "       [2322.6975],\n",
              "       [2330.7039],\n",
              "       [2334.9905],\n",
              "       [2335.955 ],\n",
              "       [2334.1418],\n",
              "       [2333.917 ],\n",
              "       [2336.733 ],\n",
              "       [2341.209 ],\n",
              "       [2346.9646],\n",
              "       [2351.5588],\n",
              "       [2356.7205],\n",
              "       [2364.742 ],\n",
              "       [2379.3728],\n",
              "       [2400.0251],\n",
              "       [2415.9172],\n",
              "       [2427.0906],\n",
              "       [2436.3967],\n",
              "       [2446.8806],\n",
              "       [2459.0393],\n",
              "       [2472.156 ],\n",
              "       [2486.212 ],\n",
              "       [2502.5188],\n",
              "       [2522.518 ],\n",
              "       [2540.7747],\n",
              "       [2558.0928],\n",
              "       [2568.7578],\n",
              "       [2573.782 ],\n",
              "       [2580.7207],\n",
              "       [2596.9204],\n",
              "       [2618.2383],\n",
              "       [2652.9202],\n",
              "       [2688.004 ],\n",
              "       [2726.4539],\n",
              "       [2770.8413],\n",
              "       [2816.018 ],\n",
              "       [2850.7756],\n",
              "       [2875.1992],\n",
              "       [2885.974 ],\n",
              "       [2887.5493],\n",
              "       [2880.7917],\n",
              "       [2887.2332],\n",
              "       [2896.0105],\n",
              "       [2902.871 ],\n",
              "       [2899.8179],\n",
              "       [2893.3098],\n",
              "       [2888.2886],\n",
              "       [2880.861 ],\n",
              "       [2875.0232],\n",
              "       [2871.8218],\n",
              "       [2878.8167],\n",
              "       [2887.272 ],\n",
              "       [2897.8843],\n",
              "       [2913.6636],\n",
              "       [2932.266 ],\n",
              "       [2946.748 ],\n",
              "       [2955.8354],\n",
              "       [2956.5938],\n",
              "       [2958.4788],\n",
              "       [2960.657 ],\n",
              "       [2961.7305],\n",
              "       [2964.6362],\n",
              "       [2977.9812],\n",
              "       [2992.0322],\n",
              "       [3008.2588],\n",
              "       [3023.1396],\n",
              "       [3037.9358],\n",
              "       [3054.023 ],\n",
              "       [3076.2761],\n",
              "       [3096.9988],\n",
              "       [3115.4976],\n",
              "       [3134.5933],\n",
              "       [3155.8315],\n",
              "       [3178.4958],\n",
              "       [3188.2202],\n",
              "       [3184.8005],\n",
              "       [3163.5332],\n",
              "       [3142.6296],\n",
              "       [3116.7993],\n",
              "       [3086.311 ],\n",
              "       [3055.0178],\n",
              "       [3029.7737],\n",
              "       [3004.357 ],\n",
              "       [2976.1138],\n",
              "       [2945.0188],\n",
              "       [2915.246 ],\n",
              "       [2900.8845],\n",
              "       [2886.875 ],\n",
              "       [2876.1594],\n",
              "       [2873.9314],\n",
              "       [2882.2034],\n",
              "       [2893.7134],\n",
              "       [2906.0215],\n",
              "       [2923.3433],\n",
              "       [2934.7683],\n",
              "       [2947.3577],\n",
              "       [2951.913 ],\n",
              "       [2958.9106],\n",
              "       [2966.0435],\n",
              "       [2979.7407],\n",
              "       [3007.2017],\n",
              "       [3039.7908],\n",
              "       [3067.3647],\n",
              "       [3087.7349],\n",
              "       [3097.2249],\n",
              "       [3094.935 ],\n",
              "       [3087.0405],\n",
              "       [3074.1333],\n",
              "       [3058.8481],\n",
              "       [3045.897 ],\n",
              "       [3035.3032],\n",
              "       [3033.135 ],\n",
              "       [3026.5347],\n",
              "       [3022.0051],\n",
              "       [3005.8894],\n",
              "       [2982.4407],\n",
              "       [2960.0947],\n",
              "       [2954.3254],\n",
              "       [2964.0994],\n",
              "       [2981.3733],\n",
              "       [2989.3787],\n",
              "       [2983.5818],\n",
              "       [2977.8406],\n",
              "       [2970.1787],\n",
              "       [2963.4888],\n",
              "       [2958.13  ],\n",
              "       [2954.2498],\n",
              "       [2949.7222],\n",
              "       [2945.824 ],\n",
              "       [2941.6697],\n",
              "       [2937.4263],\n",
              "       [2934.7874],\n",
              "       [2937.903 ],\n",
              "       [2944.9143],\n",
              "       [2951.7798],\n",
              "       [2962.0984],\n",
              "       [2972.036 ],\n",
              "       [2979.3594],\n",
              "       [2983.0278],\n",
              "       [2983.876 ],\n",
              "       [2984.4417],\n",
              "       [2979.417 ],\n",
              "       [2971.6501],\n",
              "       [2963.9392],\n",
              "       [2959.909 ],\n",
              "       [2958.875 ],\n",
              "       [2965.2178],\n",
              "       [2974.711 ],\n",
              "       [2982.8723],\n",
              "       [2990.009 ],\n",
              "       [2995.745 ],\n",
              "       [2998.7139],\n",
              "       [2998.9404],\n",
              "       [3005.7053],\n",
              "       [3018.1587],\n",
              "       [3030.1863],\n",
              "       [3039.1262],\n",
              "       [3040.286 ],\n",
              "       [3039.2642],\n",
              "       [3031.0295],\n",
              "       [3021.3455],\n",
              "       [3012.9424],\n",
              "       [3001.139 ],\n",
              "       [2989.1226],\n",
              "       [2981.179 ],\n",
              "       [2973.382 ],\n",
              "       [2964.8164],\n",
              "       [2957.7468],\n",
              "       [2962.279 ],\n",
              "       [2976.1462],\n",
              "       [2993.2983],\n",
              "       [3011.0498],\n",
              "       [3029.9639],\n",
              "       [3040.7747],\n",
              "       [3046.7405],\n",
              "       [3046.802 ],\n",
              "       [3053.5032],\n",
              "       [3066.0042],\n",
              "       [3075.8005],\n",
              "       [3084.7327],\n",
              "       [3093.9878],\n",
              "       [3100.4148],\n",
              "       [3103.3755],\n",
              "       [3102.562 ],\n",
              "       [3098.0642],\n",
              "       [3093.1113],\n",
              "       [3087.608 ],\n",
              "       [3085.166 ],\n",
              "       [3086.2588],\n",
              "       [3083.42  ],\n",
              "       [3073.793 ],\n",
              "       [3061.8943],\n",
              "       [3047.2014],\n",
              "       [3024.9365],\n",
              "       [3002.8801],\n",
              "       [2986.5383],\n",
              "       [2971.1353],\n",
              "       [2951.2275],\n",
              "       [2928.5637],\n",
              "       [2907.8533],\n",
              "       [2886.3127],\n",
              "       [2874.3743],\n",
              "       [2868.2861],\n",
              "       [2870.3384],\n",
              "       [2875.2258],\n",
              "       [2880.8015],\n",
              "       [2886.8357],\n",
              "       [2895.8262],\n",
              "       [2897.8848],\n",
              "       [2899.165 ],\n",
              "       [2902.2786],\n",
              "       [2908.2808],\n",
              "       [2911.8245],\n",
              "       [2910.6953],\n",
              "       [2907.3352],\n",
              "       [2904.7734],\n",
              "       [2901.0798],\n",
              "       [2900.179 ],\n",
              "       [2905.6765],\n",
              "       [2919.267 ],\n",
              "       [2936.07  ],\n",
              "       [2957.3813],\n",
              "       [2980.7195],\n",
              "       [3008.7722],\n",
              "       [3037.1956],\n",
              "       [3064.9255],\n",
              "       [3084.9285],\n",
              "       [3102.401 ],\n",
              "       [3118.1912],\n",
              "       [3129.5657],\n",
              "       [3134.7966],\n",
              "       [3138.2205],\n",
              "       [3136.2783],\n",
              "       [3133.8958],\n",
              "       [3136.3613],\n",
              "       [3142.0264],\n",
              "       [3152.026 ],\n",
              "       [3164.579 ],\n",
              "       [3177.1443],\n",
              "       [3182.8384],\n",
              "       [3178.8035],\n",
              "       [3166.7341],\n",
              "       [3153.5247],\n",
              "       [3139.6453],\n",
              "       [3119.3909],\n",
              "       [3099.9482],\n",
              "       [3077.1396],\n",
              "       [3055.3838],\n",
              "       [3040.3755],\n",
              "       [3033.8315],\n",
              "       [3030.0127],\n",
              "       [3028.1365],\n",
              "       [3028.6804],\n",
              "       [3027.246 ],\n",
              "       [3028.043 ],\n",
              "       [3030.8948],\n",
              "       [3035.0525],\n",
              "       [3036.914 ],\n",
              "       [3036.948 ],\n",
              "       [3035.7166],\n",
              "       [3034.7424],\n",
              "       [3030.7173],\n",
              "       [3026.671 ],\n",
              "       [3022.2039],\n",
              "       [3022.7737]], dtype=float32)"
            ]
          },
          "metadata": {
            "tags": []
          },
          "execution_count": 80
        }
      ]
    },
    {
      "cell_type": "markdown",
      "metadata": {
        "id": "-4BQuDIV7fgL"
      },
      "source": [
        "# RMSE value"
      ]
    },
    {
      "cell_type": "code",
      "metadata": {
        "colab": {
          "base_uri": "https://localhost:8080/"
        },
        "id": "-r4-HcOA7Jpk",
        "outputId": "e36e5cd6-3619-4a96-baf3-3bb3b1b60aff"
      },
      "source": [
        "rmse= np.sqrt(np.mean(predictions - y_test)**2)\n",
        "print(\"RMSE =\", rmse)"
      ],
      "execution_count": 82,
      "outputs": [
        {
          "output_type": "stream",
          "text": [
            "RMSE = 181.94752538155475\n"
          ],
          "name": "stdout"
        }
      ]
    },
    {
      "cell_type": "markdown",
      "metadata": {
        "id": "Driqazc973IC"
      },
      "source": [
        "# Model prediction"
      ]
    },
    {
      "cell_type": "code",
      "metadata": {
        "id": "J82ZvVsR7J2E"
      },
      "source": [
        "#plot the data\n",
        "import copy\n",
        "valid= copy.deepcopy(amzn_mod[training_data_len:])\n",
        "valid['Predictions']= predictions"
      ],
      "execution_count": 83,
      "outputs": []
    },
    {
      "cell_type": "code",
      "metadata": {
        "colab": {
          "base_uri": "https://localhost:8080/",
          "height": 405
        },
        "id": "mXmHCZdm7Js6",
        "outputId": "5cccec5f-b855-4483-e9f1-150fb1772fd9"
      },
      "source": [
        "plt.figure(figsize=(14,6))\n",
        "plt.title('Prediction model')\n",
        "plt.xlabel('Date', fontsize = 13, color='black')\n",
        "plt.ylabel('Close Price', fontsize=13, color='black')\n",
        "plt.plot(valid['Close'], color='green', label= 'Actual closing price')\n",
        "plt.plot(valid['Predictions'], color='orange', label= 'Predicted closing price')\n",
        "plt.legend(loc= 'lower right', fontsize=10)\n",
        "plt.xticks(fontsize= 10)\n",
        "plt.yticks(fontsize= 10)\n",
        "plt.show()"
      ],
      "execution_count": 84,
      "outputs": [
        {
          "output_type": "display_data",
          "data": {
            "image/png": "[encoded data removed]",
            "text/plain": [
              "<Figure size 1008x432 with 1 Axes>"
            ]
          },
          "metadata": {
            "tags": []
          }
        }
      ]
    },
    {
      "cell_type": "code",
      "metadata": {
        "colab": {
          "base_uri": "https://localhost:8080/",
          "height": 431
        },
        "id": "H_yplPbw8j4x",
        "outputId": "f0aba5d9-5f01-48de-c1c4-3cf4960e82b5"
      },
      "source": [
        "valid"
      ],
      "execution_count": 85,
      "outputs": [
        {
          "output_type": "execute_result",
          "data": {
            "text/html": [
              "<div>\n",
              "<style scoped>\n",
              "    .dataframe tbody tr th:only-of-type {\n",
              "        vertical-align: middle;\n",
              "    }\n",
              "\n",
              "    .dataframe tbody tr th {\n",
              "        vertical-align: top;\n",
              "    }\n",
              "\n",
              "    .dataframe thead th {\n",
              "        text-align: right;\n",
              "    }\n",
              "</style>\n",
              "<table border=\"1\" class=\"dataframe\">\n",
              "  <thead>\n",
              "    <tr style=\"text-align: right;\">\n",
              "      <th></th>\n",
              "      <th>Close</th>\n",
              "      <th>compound</th>\n",
              "      <th>negative</th>\n",
              "      <th>neutral</th>\n",
              "      <th>positive</th>\n",
              "      <th>Open</th>\n",
              "      <th>High</th>\n",
              "      <th>Low</th>\n",
              "      <th>Volume</th>\n",
              "      <th>Predictions</th>\n",
              "    </tr>\n",
              "    <tr>\n",
              "      <th>Date</th>\n",
              "      <th></th>\n",
              "      <th></th>\n",
              "      <th></th>\n",
              "      <th></th>\n",
              "      <th></th>\n",
              "      <th></th>\n",
              "      <th></th>\n",
              "      <th></th>\n",
              "      <th></th>\n",
              "      <th></th>\n",
              "    </tr>\n",
              "  </thead>\n",
              "  <tbody>\n",
              "    <tr>\n",
              "      <th>2020-02-28</th>\n",
              "      <td>1883.75</td>\n",
              "      <td>0.9137</td>\n",
              "      <td>0.055</td>\n",
              "      <td>0.857</td>\n",
              "      <td>0.088</td>\n",
              "      <td>1814.63</td>\n",
              "      <td>1889.7600</td>\n",
              "      <td>1811.1290</td>\n",
              "      <td>9493797.0</td>\n",
              "      <td>1999.554565</td>\n",
              "    </tr>\n",
              "    <tr>\n",
              "      <th>2020-03-02</th>\n",
              "      <td>1953.95</td>\n",
              "      <td>0.8896</td>\n",
              "      <td>0.108</td>\n",
              "      <td>0.787</td>\n",
              "      <td>0.105</td>\n",
              "      <td>1906.49</td>\n",
              "      <td>1954.5100</td>\n",
              "      <td>1870.0000</td>\n",
              "      <td>6761651.0</td>\n",
              "      <td>1971.061279</td>\n",
              "    </tr>\n",
              "    <tr>\n",
              "      <th>2020-03-03</th>\n",
              "      <td>1908.99</td>\n",
              "      <td>0.9889</td>\n",
              "      <td>0.051</td>\n",
              "      <td>0.824</td>\n",
              "      <td>0.124</td>\n",
              "      <td>1975.37</td>\n",
              "      <td>1996.3300</td>\n",
              "      <td>1888.0901</td>\n",
              "      <td>7534491.0</td>\n",
              "      <td>1948.705933</td>\n",
              "    </tr>\n",
              "    <tr>\n",
              "      <th>2020-03-04</th>\n",
              "      <td>1975.83</td>\n",
              "      <td>0.9871</td>\n",
              "      <td>0.056</td>\n",
              "      <td>0.817</td>\n",
              "      <td>0.127</td>\n",
              "      <td>1946.57</td>\n",
              "      <td>1978.0000</td>\n",
              "      <td>1922.0000</td>\n",
              "      <td>4772919.0</td>\n",
              "      <td>1928.484131</td>\n",
              "    </tr>\n",
              "    <tr>\n",
              "      <th>2020-03-05</th>\n",
              "      <td>1924.03</td>\n",
              "      <td>0.9945</td>\n",
              "      <td>0.074</td>\n",
              "      <td>0.770</td>\n",
              "      <td>0.155</td>\n",
              "      <td>1933.00</td>\n",
              "      <td>1960.7200</td>\n",
              "      <td>1910.0000</td>\n",
              "      <td>4748210.0</td>\n",
              "      <td>1916.221069</td>\n",
              "    </tr>\n",
              "    <tr>\n",
              "      <th>...</th>\n",
              "      <td>...</td>\n",
              "      <td>...</td>\n",
              "      <td>...</td>\n",
              "      <td>...</td>\n",
              "      <td>...</td>\n",
              "      <td>...</td>\n",
              "      <td>...</td>\n",
              "      <td>...</td>\n",
              "      <td>...</td>\n",
              "      <td>...</td>\n",
              "    </tr>\n",
              "    <tr>\n",
              "      <th>2021-06-03</th>\n",
              "      <td>3187.01</td>\n",
              "      <td>0.9935</td>\n",
              "      <td>0.054</td>\n",
              "      <td>0.834</td>\n",
              "      <td>0.113</td>\n",
              "      <td>3204.23</td>\n",
              "      <td>3214.4350</td>\n",
              "      <td>3184.0300</td>\n",
              "      <td>2398293.0</td>\n",
              "      <td>3034.742432</td>\n",
              "    </tr>\n",
              "    <tr>\n",
              "      <th>2021-06-04</th>\n",
              "      <td>3206.22</td>\n",
              "      <td>0.9943</td>\n",
              "      <td>0.033</td>\n",
              "      <td>0.867</td>\n",
              "      <td>0.101</td>\n",
              "      <td>3212.00</td>\n",
              "      <td>3221.0000</td>\n",
              "      <td>3198.8100</td>\n",
              "      <td>2249749.0</td>\n",
              "      <td>3030.717285</td>\n",
              "    </tr>\n",
              "    <tr>\n",
              "      <th>2021-06-07</th>\n",
              "      <td>3198.01</td>\n",
              "      <td>0.9968</td>\n",
              "      <td>0.023</td>\n",
              "      <td>0.873</td>\n",
              "      <td>0.104</td>\n",
              "      <td>3197.33</td>\n",
              "      <td>3208.0000</td>\n",
              "      <td>3172.2000</td>\n",
              "      <td>2215756.0</td>\n",
              "      <td>3026.670898</td>\n",
              "    </tr>\n",
              "    <tr>\n",
              "      <th>2021-06-08</th>\n",
              "      <td>3264.11</td>\n",
              "      <td>0.9971</td>\n",
              "      <td>0.035</td>\n",
              "      <td>0.834</td>\n",
              "      <td>0.131</td>\n",
              "      <td>3222.61</td>\n",
              "      <td>3279.5321</td>\n",
              "      <td>3218.0100</td>\n",
              "      <td>3416730.0</td>\n",
              "      <td>3022.203857</td>\n",
              "    </tr>\n",
              "    <tr>\n",
              "      <th>2021-06-09</th>\n",
              "      <td>3281.15</td>\n",
              "      <td>0.9890</td>\n",
              "      <td>0.047</td>\n",
              "      <td>0.860</td>\n",
              "      <td>0.093</td>\n",
              "      <td>3272.87</td>\n",
              "      <td>3297.5800</td>\n",
              "      <td>3270.7000</td>\n",
              "      <td>2455530.0</td>\n",
              "      <td>3022.773682</td>\n",
              "    </tr>\n",
              "  </tbody>\n",
              "</table>\n",
              "<p>323 rows × 10 columns</p>\n",
              "</div>"
            ],
            "text/plain": [
              "              Close  compound  negative  ...        Low     Volume  Predictions\n",
              "Date                                     ...                                   \n",
              "2020-02-28  1883.75    0.9137     0.055  ...  1811.1290  9493797.0  1999.554565\n",
              "2020-03-02  1953.95    0.8896     0.108  ...  1870.0000  6761651.0  1971.061279\n",
              "2020-03-03  1908.99    0.9889     0.051  ...  1888.0901  7534491.0  1948.705933\n",
              "2020-03-04  1975.83    0.9871     0.056  ...  1922.0000  4772919.0  1928.484131\n",
              "2020-03-05  1924.03    0.9945     0.074  ...  1910.0000  4748210.0  1916.221069\n",
              "...             ...       ...       ...  ...        ...        ...          ...\n",
              "2021-06-03  3187.01    0.9935     0.054  ...  3184.0300  2398293.0  3034.742432\n",
              "2021-06-04  3206.22    0.9943     0.033  ...  3198.8100  2249749.0  3030.717285\n",
              "2021-06-07  3198.01    0.9968     0.023  ...  3172.2000  2215756.0  3026.670898\n",
              "2021-06-08  3264.11    0.9971     0.035  ...  3218.0100  3416730.0  3022.203857\n",
              "2021-06-09  3281.15    0.9890     0.047  ...  3270.7000  2455530.0  3022.773682\n",
              "\n",
              "[323 rows x 10 columns]"
            ]
          },
          "metadata": {
            "tags": []
          },
          "execution_count": 85
        }
      ]
    },
    {
      "cell_type": "code",
      "metadata": {
        "id": "DxljOJmckUhc"
      },
      "source": [
        "print(l)"
      ],
      "execution_count": null,
      "outputs": []
    },
    {
      "cell_type": "markdown",
      "metadata": {
        "id": "YgG9FTdKzIgE"
      },
      "source": [
        "# Predicting close value for next day"
      ]
    },
    {
      "cell_type": "code",
      "metadata": {
        "colab": {
          "base_uri": "https://localhost:8080/"
        },
        "id": "rPL7zJKTzOzo",
        "outputId": "03b2848b-5b2a-4dc8-9c64-f5487349cfa8"
      },
      "source": [
        "from datetime import datetime, timedelta\n",
        "last_day = amznstockdata.index[-1]\n",
        "#next_day = last_day + datetime.timedelta(days = 1)\n",
        "print(last_day)"
      ],
      "execution_count": 91,
      "outputs": [
        {
          "output_type": "stream",
          "text": [
            "2021-06-09\n"
          ],
          "name": "stdout"
        }
      ]
    },
    {
      "cell_type": "code",
      "metadata": {
        "colab": {
          "base_uri": "https://localhost:8080/"
        },
        "id": "kEANuDXCkqSm",
        "outputId": "4f10f1aa-bf08-49dc-ea4c-786813afda46"
      },
      "source": [
        "next_day = datetime.strptime(last_day, '%Y-%m-%d') + timedelta(days = 1)\n",
        "print(next_day)"
      ],
      "execution_count": 103,
      "outputs": [
        {
          "output_type": "stream",
          "text": [
            "2021-06-10 00:00:00\n"
          ],
          "name": "stdout"
        }
      ]
    },
    {
      "cell_type": "code",
      "metadata": {
        "colab": {
          "base_uri": "https://localhost:8080/"
        },
        "id": "FOcMUnbpzPDF",
        "outputId": "8b6f15df-5c0f-4cc0-f2b3-27bf63fe7af4"
      },
      "source": [
        "new_df = amznstockdata.filter(['Close'])\n",
        "# Extracting last 30 day Close price values and convert the dataframe to an array\n",
        "prev_30_days = new_df[-30: ].values\n",
        "# Rescaling the data\n",
        "prev_30_days_scaled = scaler.transform(prev_30_days)\n",
        "X_test = []\n",
        "X_test.append(prev_30_days_scaled)\n",
        "# Converting X_test to a numpy array\n",
        "X_test = np.array(X_test)\n",
        "# Reshaping the data\n",
        "X_test = np.reshape(X_test, (X_test.shape[0], X_test.shape[1], 1))\n",
        "# Get the predicted scaled price\n",
        "pred_price = model.predict(X_test)\n",
        "# Rescaling to prev form\n",
        "pred_price = scaler.inverse_transform(pred_price)\n",
        "print('Predicted Close Price for {} '.format(next_day) + ' = ', pred_price)"
      ],
      "execution_count": 104,
      "outputs": [
        {
          "output_type": "stream",
          "text": [
            "WARNING:tensorflow:Model was constructed with shape (None, 15, 1) for input KerasTensor(type_spec=TensorSpec(shape=(None, 15, 1), dtype=tf.float32, name='lstm_2_input'), name='lstm_2_input', description=\"created by layer 'lstm_2_input'\"), but it was called on an input with incompatible shape (None, 30, 1).\n",
            "Predicted Close Price for 2021-06-10 00:00:00  =  [[3030.8157]]\n"
          ],
          "name": "stdout"
        }
      ]
    },
    {
      "cell_type": "code",
      "metadata": {
        "id": "XyIoZldk0P42"
      },
      "source": [
        "prev = pred_price\n",
        "prev_pred_price = new_df.at[str(last_day), 'Close']"
      ],
      "execution_count": 105,
      "outputs": []
    },
    {
      "cell_type": "code",
      "metadata": {
        "colab": {
          "base_uri": "https://localhost:8080/"
        },
        "id": "UjJ4qhiMzPPR",
        "outputId": "616b4079-595f-4eb2-93a8-29d6dfb4f74a"
      },
      "source": [
        "diff=(float)(pred_price - prev_pred_price)\n",
        "if(diff < 0):\n",
        "  print(\"Percentage decrease = \",round(((- (diff)/prev_pred_price)*100),4))\n",
        "else:\n",
        "  print(\"Percentage increase = \",round((( (diff)/prev_pred_price)*100),4))"
      ],
      "execution_count": 106,
      "outputs": [
        {
          "output_type": "stream",
          "text": [
            "Percentage decrease =  7.6295\n"
          ],
          "name": "stdout"
        }
      ]
    },
    {
      "cell_type": "code",
      "metadata": {
        "id": "QVdPeYXaokE7"
      },
      "source": [
        "model.save('model.h5')"
      ],
      "execution_count": 107,
      "outputs": []
    }
  ]
}