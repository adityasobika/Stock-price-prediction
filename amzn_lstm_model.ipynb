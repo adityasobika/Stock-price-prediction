{
  "nbformat": 4,
  "nbformat_minor": 0,
  "metadata": {
    "colab": {
      "name": "amzn_lstm_model.ipynb",
      "provenance": [],
      "collapsed_sections": [],
      "authorship_tag": "ABX9TyMubpXojXamj7jiOZNmiiBY",
      "include_colab_link": true
    },
    "kernelspec": {
      "name": "python3",
      "display_name": "Python 3"
    },
    "language_info": {
      "name": "python"
    }
  },
  "cells": [
    {
      "cell_type": "markdown",
      "metadata": {
        "id": "view-in-github",
        "colab_type": "text"
      },
      "source": [
        "<a href=\"https://colab.research.google.com/github/adityasobika/a/blob/main/amzn_lstm_model.ipynb\" target=\"_parent\"><img src=\"https://colab.research.google.com/assets/colab-badge.svg\" alt=\"Open In Colab\"/></a>"
      ]
    },
    {
      "cell_type": "markdown",
      "metadata": {
        "id": "4KHXDg8YL5dQ"
      },
      "source": [
        "# Importing libraries"
      ]
    },
    {
      "cell_type": "code",
      "metadata": {
        "id": "bJK_rLwaL28U"
      },
      "source": [
        "import math\n",
        "import numpy as np\n",
        "import pandas as pd\n",
        "from sklearn.preprocessing import MinMaxScaler\n",
        "from keras.models import Sequential \n",
        "from keras.layers import Dense, LSTM, Dropout\n",
        "import matplotlib.pyplot as plt\n",
        "%matplotlib inline\n",
        "plt.style.use('seaborn')\n",
        "import pandas_datareader.data as web\n",
        "import plotly.express as px\n",
        "import plotly.graph_objects as go"
      ],
      "execution_count": null,
      "outputs": []
    },
    {
      "cell_type": "markdown",
      "metadata": {
        "id": "JXnLzmM4M-0v"
      },
      "source": [
        "# Dataset uploading"
      ]
    },
    {
      "cell_type": "code",
      "metadata": {
        "colab": {
          "resources": {
            "http://localhost:8080/nbextensions/google.colab/files.js": {
              "data": "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",
              "ok": true,
              "headers": [
                [
                  "content-type",
                  "application/javascript"
                ]
              ],
              "status": 200,
              "status_text": ""
            }
          },
          "base_uri": "https://localhost:8080/",
          "height": 73
        },
        "id": "YpHyNiuvM91w",
        "outputId": "9154ebfa-adf6-4641-8be2-8690b1842ab5"
      },
      "source": [
        "from google.colab import files\n",
        "uploaded= files.upload()"
      ],
      "execution_count": null,
      "outputs": [
        {
          "output_type": "display_data",
          "data": {
            "text/html": [
              "\n",
              "     <input type=\"file\" id=\"files-48ee030d-4964-456c-9d44-5354c203b0a5\" name=\"files[]\" multiple disabled\n",
              "        style=\"border:none\" />\n",
              "     <output id=\"result-48ee030d-4964-456c-9d44-5354c203b0a5\">\n",
              "      Upload widget is only available when the cell has been executed in the\n",
              "      current browser session. Please rerun this cell to enable.\n",
              "      </output>\n",
              "      <script src=\"/nbextensions/google.colab/files.js\"></script> "
            ],
            "text/plain": [
              "<IPython.core.display.HTML object>"
            ]
          },
          "metadata": {
            "tags": []
          }
        },
        {
          "output_type": "stream",
          "text": [
            "Saving amazondata.csv to amazondata.csv\n"
          ],
          "name": "stdout"
        }
      ]
    },
    {
      "cell_type": "code",
      "metadata": {
        "colab": {
          "base_uri": "https://localhost:8080/",
          "height": 195
        },
        "id": "Rr3V3BJNNb01",
        "outputId": "46a42838-ceda-43bc-b90a-db11243f0161"
      },
      "source": [
        "amzn_data= pd.read_csv('amazondata.csv')\n",
        "amzn_data.head()"
      ],
      "execution_count": null,
      "outputs": [
        {
          "output_type": "execute_result",
          "data": {
            "text/html": [
              "<div>\n",
              "<style scoped>\n",
              "    .dataframe tbody tr th:only-of-type {\n",
              "        vertical-align: middle;\n",
              "    }\n",
              "\n",
              "    .dataframe tbody tr th {\n",
              "        vertical-align: top;\n",
              "    }\n",
              "\n",
              "    .dataframe thead th {\n",
              "        text-align: right;\n",
              "    }\n",
              "</style>\n",
              "<table border=\"1\" class=\"dataframe\">\n",
              "  <thead>\n",
              "    <tr style=\"text-align: right;\">\n",
              "      <th></th>\n",
              "      <th>Date</th>\n",
              "      <th>Close</th>\n",
              "      <th>Volume</th>\n",
              "      <th>Open</th>\n",
              "      <th>High</th>\n",
              "      <th>Low</th>\n",
              "    </tr>\n",
              "  </thead>\n",
              "  <tbody>\n",
              "    <tr>\n",
              "      <th>0</th>\n",
              "      <td>06-09-2021</td>\n",
              "      <td>$3281.15</td>\n",
              "      <td>2455530</td>\n",
              "      <td>$3272.87</td>\n",
              "      <td>$3297.58</td>\n",
              "      <td>$3270.7</td>\n",
              "    </tr>\n",
              "    <tr>\n",
              "      <th>1</th>\n",
              "      <td>06-08-2021</td>\n",
              "      <td>$3264.11</td>\n",
              "      <td>3416730</td>\n",
              "      <td>$3222.61</td>\n",
              "      <td>$3279.5321</td>\n",
              "      <td>$3218.01</td>\n",
              "    </tr>\n",
              "    <tr>\n",
              "      <th>2</th>\n",
              "      <td>06-07-2021</td>\n",
              "      <td>$3198.01</td>\n",
              "      <td>2215756</td>\n",
              "      <td>$3197.33</td>\n",
              "      <td>$3208</td>\n",
              "      <td>$3172.2</td>\n",
              "    </tr>\n",
              "    <tr>\n",
              "      <th>3</th>\n",
              "      <td>06-04-2021</td>\n",
              "      <td>$3206.22</td>\n",
              "      <td>2249749</td>\n",
              "      <td>$3212</td>\n",
              "      <td>$3221</td>\n",
              "      <td>$3198.81</td>\n",
              "    </tr>\n",
              "    <tr>\n",
              "      <th>4</th>\n",
              "      <td>06-03-2021</td>\n",
              "      <td>$3187.01</td>\n",
              "      <td>2398293</td>\n",
              "      <td>$3204.23</td>\n",
              "      <td>$3214.435</td>\n",
              "      <td>$3184.03</td>\n",
              "    </tr>\n",
              "  </tbody>\n",
              "</table>\n",
              "</div>"
            ],
            "text/plain": [
              "         Date     Close   Volume      Open        High       Low\n",
              "0  06-09-2021  $3281.15  2455530  $3272.87    $3297.58   $3270.7\n",
              "1  06-08-2021  $3264.11  3416730  $3222.61  $3279.5321  $3218.01\n",
              "2  06-07-2021  $3198.01  2215756  $3197.33       $3208   $3172.2\n",
              "3  06-04-2021  $3206.22  2249749     $3212       $3221  $3198.81\n",
              "4  06-03-2021  $3187.01  2398293  $3204.23   $3214.435  $3184.03"
            ]
          },
          "metadata": {
            "tags": []
          },
          "execution_count": 3
        }
      ]
    },
    {
      "cell_type": "markdown",
      "metadata": {
        "id": "LJWI6CLRNd-T"
      },
      "source": [
        "# Date parsing"
      ]
    },
    {
      "cell_type": "code",
      "metadata": {
        "colab": {
          "base_uri": "https://localhost:8080/"
        },
        "id": "pYJkUTBaNb6m",
        "outputId": "f557f08c-7c60-49cb-8055-4fa418727179"
      },
      "source": [
        "amzn_data['Date']= pd.to_datetime(amzn_data['Date'])\n",
        "amzn_data['Date']= pd.to_datetime(amzn_data['Date'].dt.strftime(\"%m/%d/%Y\"))\n",
        "print(amzn_data)"
      ],
      "execution_count": null,
      "outputs": [
        {
          "output_type": "stream",
          "text": [
            "           Date     Close   Volume      Open        High       Low\n",
            "0    2021-06-09  $3281.15  2455530  $3272.87    $3297.58   $3270.7\n",
            "1    2021-06-08  $3264.11  3416730  $3222.61  $3279.5321  $3218.01\n",
            "2    2021-06-07  $3198.01  2215756  $3197.33       $3208   $3172.2\n",
            "3    2021-06-04  $3206.22  2249749     $3212       $3221  $3198.81\n",
            "4    2021-06-03  $3187.01  2398293  $3204.23   $3214.435  $3184.03\n",
            "...         ...       ...      ...       ...         ...       ...\n",
            "2511 2011-06-16   $183.65  6025431   $185.74        $187   $181.59\n",
            "2512 2011-06-15   $185.98  6310918   $188.04     $192.45    $185.3\n",
            "2513 2011-06-14   $189.96  3952911   $188.99     $190.72   $187.07\n",
            "2514 2011-06-13   $186.29  3867735   $186.81     $189.31   $184.86\n",
            "2515 2011-06-10   $186.53  3753267   $189.25     $190.77   $186.28\n",
            "\n",
            "[2516 rows x 6 columns]\n"
          ],
          "name": "stdout"
        }
      ]
    },
    {
      "cell_type": "markdown",
      "metadata": {
        "id": "_SFZjdPbNqSn"
      },
      "source": [
        "# removing $"
      ]
    },
    {
      "cell_type": "code",
      "metadata": {
        "colab": {
          "base_uri": "https://localhost:8080/"
        },
        "id": "7-BAcoFwNwD9",
        "outputId": "98f9a4ae-7b6e-4614-f7f8-e2fbc3541e47"
      },
      "source": [
        "amzn_data['Close']= amzn_data['Close'].str.replace('$','')\n",
        "amzn_data['Open']= amzn_data['Open'].str.replace('$','')\n",
        "amzn_data['High']= amzn_data['High'].str.replace('$','')\n",
        "amzn_data['Low']= amzn_data['Low'].str.replace('$','')\n",
        "print(amzn_data)"
      ],
      "execution_count": null,
      "outputs": [
        {
          "output_type": "stream",
          "text": [
            "           Date    Close   Volume     Open       High      Low\n",
            "0    2021-06-09  3281.15  2455530  3272.87    3297.58   3270.7\n",
            "1    2021-06-08  3264.11  3416730  3222.61  3279.5321  3218.01\n",
            "2    2021-06-07  3198.01  2215756  3197.33       3208   3172.2\n",
            "3    2021-06-04  3206.22  2249749     3212       3221  3198.81\n",
            "4    2021-06-03  3187.01  2398293  3204.23   3214.435  3184.03\n",
            "...         ...      ...      ...      ...        ...      ...\n",
            "2511 2011-06-16   183.65  6025431   185.74        187   181.59\n",
            "2512 2011-06-15   185.98  6310918   188.04     192.45    185.3\n",
            "2513 2011-06-14   189.96  3952911   188.99     190.72   187.07\n",
            "2514 2011-06-13   186.29  3867735   186.81     189.31   184.86\n",
            "2515 2011-06-10   186.53  3753267   189.25     190.77   186.28\n",
            "\n",
            "[2516 rows x 6 columns]\n"
          ],
          "name": "stdout"
        }
      ]
    },
    {
      "cell_type": "markdown",
      "metadata": {
        "id": "9UBLlUdeN6mz"
      },
      "source": [
        "# finding outlier"
      ]
    },
    {
      "cell_type": "code",
      "metadata": {
        "colab": {
          "base_uri": "https://localhost:8080/"
        },
        "id": "A57GpJZjOU3E",
        "outputId": "97c3a2a8-290f-4801-8e24-7620d260c576"
      },
      "source": [
        "amzn_data[['Close','Open','High','Low']] =amzn_data[['Close','Open','High','Low']].apply(pd.to_numeric)\n",
        "amzn_data.dtypes"
      ],
      "execution_count": null,
      "outputs": [
        {
          "output_type": "execute_result",
          "data": {
            "text/plain": [
              "Date      datetime64[ns]\n",
              "Close            float64\n",
              "Volume             int64\n",
              "Open             float64\n",
              "High             float64\n",
              "Low              float64\n",
              "dtype: object"
            ]
          },
          "metadata": {
            "tags": []
          },
          "execution_count": 6
        }
      ]
    },
    {
      "cell_type": "code",
      "metadata": {
        "colab": {
          "base_uri": "https://localhost:8080/",
          "height": 265
        },
        "id": "p61fsWlpN4oE",
        "outputId": "f29b7e37-8e77-411d-ac8f-5ccd46c2a132"
      },
      "source": [
        "amzn_data.boxplot(column=['Close','Open','Low','High'])\n",
        "plt.show()"
      ],
      "execution_count": null,
      "outputs": [
        {
          "output_type": "display_data",
          "data": {
            "image/png": "[encoded data removed]",
            "text/plain": [
              "<Figure size 432x288 with 1 Axes>"
            ]
          },
          "metadata": {
            "tags": [],
            "needs_background": "light"
          }
        }
      ]
    },
    {
      "cell_type": "markdown",
      "metadata": {
        "id": "EjNpkVVtObp4"
      },
      "source": [
        "By the above graph it is unterstood that there are no outliers in all the variables adopted in historical data.\n"
      ]
    },
    {
      "cell_type": "markdown",
      "metadata": {
        "id": "ogwFyjoeO81y"
      },
      "source": [
        "# Visualization"
      ]
    },
    {
      "cell_type": "code",
      "metadata": {
        "colab": {
          "base_uri": "https://localhost:8080/",
          "height": 622
        },
        "id": "wQq8CjhbOpPZ",
        "outputId": "c5ec0469-20a0-46de-9099-24cfcb01576c"
      },
      "source": [
        "plt.figure(figsize = (18,9))\n",
        "plt.plot(range(amzn_data.shape[0]),(amzn_data['Low']+amzn_data['High'])/2.0)\n",
        "plt.xticks(range(0,amzn_data.shape[0],500),amzn_data['Date'].loc[::500],rotation=45)\n",
        "plt.xlabel('Date',fontsize=18)\n",
        "plt.ylabel('Mid Price',fontsize=18)\n",
        "plt.show()"
      ],
      "execution_count": null,
      "outputs": [
        {
          "output_type": "display_data",
          "data": {
            "image/png": "[encoded data removed]",
            "text/plain": [
              "<Figure size 1296x648 with 1 Axes>"
            ]
          },
          "metadata": {
            "tags": [],
            "needs_background": "light"
          }
        }
      ]
    },
    {
      "cell_type": "code",
      "metadata": {
        "id": "6aqPW1NiQwJT"
      },
      "source": [
        "import seaborn as sns"
      ],
      "execution_count": null,
      "outputs": []
    },
    {
      "cell_type": "code",
      "metadata": {
        "colab": {
          "base_uri": "https://localhost:8080/",
          "height": 386
        },
        "id": "8dQbpg5RP2rS",
        "outputId": "3dd207eb-a627-4307-8fce-74e5f14cb1c8"
      },
      "source": [
        "plt.figure(figsize=(10,5))\n",
        "sns.displot(amzn_data['Close'], color ='orange')\n",
        "plt.show()"
      ],
      "execution_count": null,
      "outputs": [
        {
          "output_type": "display_data",
          "data": {
            "text/plain": [
              "<Figure size 720x360 with 0 Axes>"
            ]
          },
          "metadata": {
            "tags": []
          }
        },
        {
          "output_type": "display_data",
          "data": {
            "image/png": "[encoded data removed]",
            "text/plain": [
              "<Figure size 360x360 with 1 Axes>"
            ]
          },
          "metadata": {
            "tags": [],
            "needs_background": "light"
          }
        }
      ]
    },
    {
      "cell_type": "code",
      "metadata": {
        "colab": {
          "base_uri": "https://localhost:8080/",
          "height": 920
        },
        "id": "VfvvzGR3Q8jy",
        "outputId": "2e00f594-ab15-49e4-9bbb-4d18b670a00f"
      },
      "source": [
        "sns.pairplot(amzn_data)"
      ],
      "execution_count": null,
      "outputs": [
        {
          "output_type": "execute_result",
          "data": {
            "text/plain": [
              "<seaborn.axisgrid.PairGrid at 0x7f676f938e90>"
            ]
          },
          "metadata": {
            "tags": []
          },
          "execution_count": 11
        },
        {
          "output_type": "display_data",
          "data": {
            "image/png": "[encoded data removed]",
            "text/plain": [
              "<Figure size 900x900 with 30 Axes>"
            ]
          },
          "metadata": {
            "tags": [],
            "needs_background": "light"
          }
        }
      ]
    },
    {
      "cell_type": "code",
      "metadata": {
        "colab": {
          "resources": {
            "http://localhost:8080/nbextensions/google.colab/files.js": {
              "data": "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",
              "ok": true,
              "headers": [
                [
                  "content-type",
                  "application/javascript"
                ]
              ],
              "status": 200,
              "status_text": ""
            }
          },
          "base_uri": "https://localhost:8080/",
          "height": 274
        },
        "id": "N2Bd_mAQPOQy",
        "outputId": "3fe91dcf-1481-4ef6-f293-9a91affe5198"
      },
      "source": [
        "from google.colab import files\n",
        "uploaded= files.upload()\n"
      ],
      "execution_count": null,
      "outputs": [
        {
          "output_type": "display_data",
          "data": {
            "text/html": [
              "\n",
              "     <input type=\"file\" id=\"files-fcbff6b8-277b-4c49-a1fc-408b666b0e93\" name=\"files[]\" multiple disabled\n",
              "        style=\"border:none\" />\n",
              "     <output id=\"result-fcbff6b8-277b-4c49-a1fc-408b666b0e93\">\n",
              "      Upload widget is only available when the cell has been executed in the\n",
              "      current browser session. Please rerun this cell to enable.\n",
              "      </output>\n",
              "      <script src=\"/nbextensions/google.colab/files.js\"></script> "
            ],
            "text/plain": [
              "<IPython.core.display.HTML object>"
            ]
          },
          "metadata": {
            "tags": []
          }
        },
        {
          "output_type": "stream",
          "text": [
            "Saving 2015.csv to 2015.csv\n",
            "Saving 2016.csv to 2016.csv\n",
            "Saving 2017.csv to 2017.csv\n",
            "Saving 2018.csv to 2018.csv\n",
            "Saving 2019.csv to 2019.csv\n",
            "Saving 2020.csv to 2020.csv\n",
            "Saving 2021.csv to 2021.csv\n"
          ],
          "name": "stdout"
        }
      ]
    },
    {
      "cell_type": "code",
      "metadata": {
        "id": "bnHy7VAERVCn"
      },
      "source": [
        "import io\n",
        "df2015=pd.read_csv(io.BytesIO(uploaded['2015.csv']))\n",
        "df2016=pd.read_csv(io.BytesIO(uploaded['2016.csv']))\n",
        "df2017=pd.read_csv(io.BytesIO(uploaded['2017.csv']))\n",
        "df2018=pd.read_csv(io.BytesIO(uploaded['2018.csv']))\n",
        "df2019=pd.read_csv(io.BytesIO(uploaded['2019.csv']))\n",
        "df2020=pd.read_csv(io.BytesIO(uploaded['2020.csv']))\n",
        "df2021=pd.read_csv(io.BytesIO(uploaded['2021.csv']))"
      ],
      "execution_count": null,
      "outputs": []
    },
    {
      "cell_type": "code",
      "metadata": {
        "id": "BDxzk3ATSyCr"
      },
      "source": [
        "amzn_his_data= pd.concat([df2015, df2016, df2017, df2018, df2019, df2020, df2021])"
      ],
      "execution_count": null,
      "outputs": []
    },
    {
      "cell_type": "code",
      "metadata": {
        "id": "9Ddy1gGaILds"
      },
      "source": [
        "del amzn_his_data['Date ']"
      ],
      "execution_count": null,
      "outputs": []
    },
    {
      "cell_type": "code",
      "metadata": {
        "colab": {
          "base_uri": "https://localhost:8080/",
          "height": 195
        },
        "id": "GO7P72NyUp9h",
        "outputId": "6dbdd3a5-ed26-424d-c555-005318b1ebcf"
      },
      "source": [
        "amzn_his_data.head()"
      ],
      "execution_count": null,
      "outputs": [
        {
          "output_type": "execute_result",
          "data": {
            "text/html": [
              "<div>\n",
              "<style scoped>\n",
              "    .dataframe tbody tr th:only-of-type {\n",
              "        vertical-align: middle;\n",
              "    }\n",
              "\n",
              "    .dataframe tbody tr th {\n",
              "        vertical-align: top;\n",
              "    }\n",
              "\n",
              "    .dataframe thead th {\n",
              "        text-align: right;\n",
              "    }\n",
              "</style>\n",
              "<table border=\"1\" class=\"dataframe\">\n",
              "  <thead>\n",
              "    <tr style=\"text-align: right;\">\n",
              "      <th></th>\n",
              "      <th>Date</th>\n",
              "      <th>Heading</th>\n",
              "    </tr>\n",
              "  </thead>\n",
              "  <tbody>\n",
              "    <tr>\n",
              "      <th>0</th>\n",
              "      <td>02-01-2015</td>\n",
              "      <td>What to expect from Apple in 2015 beyond its s...</td>\n",
              "    </tr>\n",
              "    <tr>\n",
              "      <th>1</th>\n",
              "      <td>05-01-2015</td>\n",
              "      <td>SIM-free iPhone 6, 6 Plus reportedly debuting ...</td>\n",
              "    </tr>\n",
              "    <tr>\n",
              "      <th>2</th>\n",
              "      <td>06-01-2015</td>\n",
              "      <td>Technology Transforming Cars Into \"Phones On W...</td>\n",
              "    </tr>\n",
              "    <tr>\n",
              "      <th>3</th>\n",
              "      <td>07-01-2015</td>\n",
              "      <td>Apple issues fourth developer beta of OS X 10....</td>\n",
              "    </tr>\n",
              "    <tr>\n",
              "      <th>4</th>\n",
              "      <td>08-01-2015</td>\n",
              "      <td>Apple company recalls 2014 shipments after lin...</td>\n",
              "    </tr>\n",
              "  </tbody>\n",
              "</table>\n",
              "</div>"
            ],
            "text/plain": [
              "         Date                                            Heading\n",
              "0  02-01-2015  What to expect from Apple in 2015 beyond its s...\n",
              "1  05-01-2015  SIM-free iPhone 6, 6 Plus reportedly debuting ...\n",
              "2  06-01-2015  Technology Transforming Cars Into \"Phones On W...\n",
              "3  07-01-2015  Apple issues fourth developer beta of OS X 10....\n",
              "4  08-01-2015  Apple company recalls 2014 shipments after lin..."
            ]
          },
          "metadata": {
            "tags": []
          },
          "execution_count": 17
        }
      ]
    },
    {
      "cell_type": "code",
      "metadata": {
        "id": "-HXYDi4EXydQ"
      },
      "source": [
        "amzn_his_data['Date']=pd.to_datetime(amzn_his_data['Date'])"
      ],
      "execution_count": null,
      "outputs": []
    },
    {
      "cell_type": "code",
      "metadata": {
        "colab": {
          "base_uri": "https://localhost:8080/"
        },
        "id": "rRKQho1DX2sP",
        "outputId": "db00e17c-7a87-42d0-cd06-d2dd42bcc63a"
      },
      "source": [
        "amzn_his_data.dtypes"
      ],
      "execution_count": null,
      "outputs": [
        {
          "output_type": "execute_result",
          "data": {
            "text/plain": [
              "Date       datetime64[ns]\n",
              "Heading            object\n",
              "dtype: object"
            ]
          },
          "metadata": {
            "tags": []
          },
          "execution_count": 19
        }
      ]
    },
    {
      "cell_type": "markdown",
      "metadata": {
        "id": "91gPrewNXdSj"
      },
      "source": [
        "# merging files"
      ]
    },
    {
      "cell_type": "code",
      "metadata": {
        "colab": {
          "base_uri": "https://localhost:8080/",
          "height": 402
        },
        "id": "ybAIMumHXflR",
        "outputId": "ac9f9bb2-8534-4cb1-a387-453b3fbafa12"
      },
      "source": [
        "amzn_eda= pd.merge(amzn_data,amzn_his_data, on=['Date'], how= 'outer')\n",
        "amzn_eda\n",
        "\n"
      ],
      "execution_count": null,
      "outputs": [
        {
          "output_type": "execute_result",
          "data": {
            "text/html": [
              "<div>\n",
              "<style scoped>\n",
              "    .dataframe tbody tr th:only-of-type {\n",
              "        vertical-align: middle;\n",
              "    }\n",
              "\n",
              "    .dataframe tbody tr th {\n",
              "        vertical-align: top;\n",
              "    }\n",
              "\n",
              "    .dataframe thead th {\n",
              "        text-align: right;\n",
              "    }\n",
              "</style>\n",
              "<table border=\"1\" class=\"dataframe\">\n",
              "  <thead>\n",
              "    <tr style=\"text-align: right;\">\n",
              "      <th></th>\n",
              "      <th>Date</th>\n",
              "      <th>Close</th>\n",
              "      <th>Volume</th>\n",
              "      <th>Open</th>\n",
              "      <th>High</th>\n",
              "      <th>Low</th>\n",
              "      <th>Heading</th>\n",
              "    </tr>\n",
              "  </thead>\n",
              "  <tbody>\n",
              "    <tr>\n",
              "      <th>0</th>\n",
              "      <td>2021-06-09</td>\n",
              "      <td>3281.15</td>\n",
              "      <td>2455530.0</td>\n",
              "      <td>3272.87</td>\n",
              "      <td>3297.5800</td>\n",
              "      <td>3270.70</td>\n",
              "      <td>NaN</td>\n",
              "    </tr>\n",
              "    <tr>\n",
              "      <th>1</th>\n",
              "      <td>2021-06-08</td>\n",
              "      <td>3264.11</td>\n",
              "      <td>3416730.0</td>\n",
              "      <td>3222.61</td>\n",
              "      <td>3279.5321</td>\n",
              "      <td>3218.01</td>\n",
              "      <td>NaN</td>\n",
              "    </tr>\n",
              "    <tr>\n",
              "      <th>2</th>\n",
              "      <td>2021-06-07</td>\n",
              "      <td>3198.01</td>\n",
              "      <td>2215756.0</td>\n",
              "      <td>3197.33</td>\n",
              "      <td>3208.0000</td>\n",
              "      <td>3172.20</td>\n",
              "      <td>NaN</td>\n",
              "    </tr>\n",
              "    <tr>\n",
              "      <th>3</th>\n",
              "      <td>2021-06-04</td>\n",
              "      <td>3206.22</td>\n",
              "      <td>2249749.0</td>\n",
              "      <td>3212.00</td>\n",
              "      <td>3221.0000</td>\n",
              "      <td>3198.81</td>\n",
              "      <td>This Simple Stock Market Strategy Is Winning s...</td>\n",
              "    </tr>\n",
              "    <tr>\n",
              "      <th>4</th>\n",
              "      <td>2021-06-03</td>\n",
              "      <td>3187.01</td>\n",
              "      <td>2398293.0</td>\n",
              "      <td>3204.23</td>\n",
              "      <td>3214.4350</td>\n",
              "      <td>3184.03</td>\n",
              "      <td>NaN</td>\n",
              "    </tr>\n",
              "    <tr>\n",
              "      <th>...</th>\n",
              "      <td>...</td>\n",
              "      <td>...</td>\n",
              "      <td>...</td>\n",
              "      <td>...</td>\n",
              "      <td>...</td>\n",
              "      <td>...</td>\n",
              "      <td>...</td>\n",
              "    </tr>\n",
              "    <tr>\n",
              "      <th>3033</th>\n",
              "      <td>2021-06-19</td>\n",
              "      <td>NaN</td>\n",
              "      <td>NaN</td>\n",
              "      <td>NaN</td>\n",
              "      <td>NaN</td>\n",
              "      <td>NaN</td>\n",
              "      <td>Best pre-Prime Day smartwatch deals on Apple W...</td>\n",
              "    </tr>\n",
              "    <tr>\n",
              "      <th>3034</th>\n",
              "      <td>2021-06-20</td>\n",
              "      <td>NaN</td>\n",
              "      <td>NaN</td>\n",
              "      <td>NaN</td>\n",
              "      <td>NaN</td>\n",
              "      <td>NaN</td>\n",
              "      <td>iPhone 13 rumors: As Apple's fall event gets c...</td>\n",
              "    </tr>\n",
              "    <tr>\n",
              "      <th>3035</th>\n",
              "      <td>2021-06-21</td>\n",
              "      <td>NaN</td>\n",
              "      <td>NaN</td>\n",
              "      <td>NaN</td>\n",
              "      <td>NaN</td>\n",
              "      <td>NaN</td>\n",
              "      <td>Apple is shortening new free TV Plus trials fr...</td>\n",
              "    </tr>\n",
              "    <tr>\n",
              "      <th>3036</th>\n",
              "      <td>2021-06-22</td>\n",
              "      <td>NaN</td>\n",
              "      <td>NaN</td>\n",
              "      <td>NaN</td>\n",
              "      <td>NaN</td>\n",
              "      <td>NaN</td>\n",
              "      <td>Google likely to soon face antitrust claims ov...</td>\n",
              "    </tr>\n",
              "    <tr>\n",
              "      <th>3037</th>\n",
              "      <td>2021-06-23</td>\n",
              "      <td>NaN</td>\n",
              "      <td>NaN</td>\n",
              "      <td>NaN</td>\n",
              "      <td>NaN</td>\n",
              "      <td>NaN</td>\n",
              "      <td>French court sets date in Apple case over App ...</td>\n",
              "    </tr>\n",
              "  </tbody>\n",
              "</table>\n",
              "<p>3038 rows × 7 columns</p>\n",
              "</div>"
            ],
            "text/plain": [
              "           Date  ...                                            Heading\n",
              "0    2021-06-09  ...                                                NaN\n",
              "1    2021-06-08  ...                                                NaN\n",
              "2    2021-06-07  ...                                                NaN\n",
              "3    2021-06-04  ...  This Simple Stock Market Strategy Is Winning s...\n",
              "4    2021-06-03  ...                                                NaN\n",
              "...         ...  ...                                                ...\n",
              "3033 2021-06-19  ...  Best pre-Prime Day smartwatch deals on Apple W...\n",
              "3034 2021-06-20  ...  iPhone 13 rumors: As Apple's fall event gets c...\n",
              "3035 2021-06-21  ...  Apple is shortening new free TV Plus trials fr...\n",
              "3036 2021-06-22  ...  Google likely to soon face antitrust claims ov...\n",
              "3037 2021-06-23  ...  French court sets date in Apple case over App ...\n",
              "\n",
              "[3038 rows x 7 columns]"
            ]
          },
          "metadata": {
            "tags": []
          },
          "execution_count": 22
        }
      ]
    },
    {
      "cell_type": "markdown",
      "metadata": {
        "id": "AXYhty2LYOEw"
      },
      "source": [
        "# Filling missing values"
      ]
    },
    {
      "cell_type": "code",
      "metadata": {
        "colab": {
          "base_uri": "https://localhost:8080/"
        },
        "id": "lUrp0qmtZCSP",
        "outputId": "295fa94c-33a6-4a17-80bb-5279d17536a3"
      },
      "source": [
        "amzn_eda.isnull().sum()"
      ],
      "execution_count": null,
      "outputs": [
        {
          "output_type": "execute_result",
          "data": {
            "text/plain": [
              "Date        207\n",
              "Close       505\n",
              "Volume      505\n",
              "Open        505\n",
              "High        505\n",
              "Low         505\n",
              "Heading    2140\n",
              "dtype: int64"
            ]
          },
          "metadata": {
            "tags": []
          },
          "execution_count": 23
        }
      ]
    },
    {
      "cell_type": "code",
      "metadata": {
        "colab": {
          "base_uri": "https://localhost:8080/"
        },
        "id": "w7mYwA-zYMdX",
        "outputId": "31bfcf97-aae1-415d-ae00-d08e5f905d53"
      },
      "source": [
        "amzn_eda.info()"
      ],
      "execution_count": null,
      "outputs": [
        {
          "output_type": "stream",
          "text": [
            "<class 'pandas.core.frame.DataFrame'>\n",
            "Int64Index: 3038 entries, 0 to 3037\n",
            "Data columns (total 7 columns):\n",
            " #   Column   Non-Null Count  Dtype         \n",
            "---  ------   --------------  -----         \n",
            " 0   Date     2831 non-null   datetime64[ns]\n",
            " 1   Close    2533 non-null   float64       \n",
            " 2   Volume   2533 non-null   float64       \n",
            " 3   Open     2533 non-null   float64       \n",
            " 4   High     2533 non-null   float64       \n",
            " 5   Low      2533 non-null   float64       \n",
            " 6   Heading  898 non-null    object        \n",
            "dtypes: datetime64[ns](1), float64(5), object(1)\n",
            "memory usage: 189.9+ KB\n"
          ],
          "name": "stdout"
        }
      ]
    },
    {
      "cell_type": "code",
      "metadata": {
        "id": "wTZ_pVr-Yhz6",
        "colab": {
          "base_uri": "https://localhost:8080/",
          "height": 402
        },
        "outputId": "aba27347-8539-47c1-f12d-21eaa0464a6e"
      },
      "source": [
        "amzn_eda['Close']= amzn_eda['Close'].fillna(amzn_eda['Close'].mean())\n",
        "amzn_eda['Open']= amzn_eda['Open'].fillna(amzn_eda['Open'].mean())\n",
        "amzn_eda['Low']= amzn_eda['Low'].fillna(amzn_eda['Low'].mean())\n",
        "amzn_eda['High']= amzn_eda['High'].fillna(amzn_eda['High'].mean())\n",
        "amzn_eda['Volume']= amzn_eda['Volume'].fillna(amzn_eda['Volume'].mean())\n",
        "amzn_eda"
      ],
      "execution_count": null,
      "outputs": [
        {
          "output_type": "execute_result",
          "data": {
            "text/html": [
              "<div>\n",
              "<style scoped>\n",
              "    .dataframe tbody tr th:only-of-type {\n",
              "        vertical-align: middle;\n",
              "    }\n",
              "\n",
              "    .dataframe tbody tr th {\n",
              "        vertical-align: top;\n",
              "    }\n",
              "\n",
              "    .dataframe thead th {\n",
              "        text-align: right;\n",
              "    }\n",
              "</style>\n",
              "<table border=\"1\" class=\"dataframe\">\n",
              "  <thead>\n",
              "    <tr style=\"text-align: right;\">\n",
              "      <th></th>\n",
              "      <th>Date</th>\n",
              "      <th>Close</th>\n",
              "      <th>Volume</th>\n",
              "      <th>Open</th>\n",
              "      <th>High</th>\n",
              "      <th>Low</th>\n",
              "      <th>Heading</th>\n",
              "    </tr>\n",
              "  </thead>\n",
              "  <tbody>\n",
              "    <tr>\n",
              "      <th>0</th>\n",
              "      <td>2021-06-09</td>\n",
              "      <td>3281.1500</td>\n",
              "      <td>2.455530e+06</td>\n",
              "      <td>3272.870000</td>\n",
              "      <td>3297.580000</td>\n",
              "      <td>3270.700000</td>\n",
              "      <td>NaN</td>\n",
              "    </tr>\n",
              "    <tr>\n",
              "      <th>1</th>\n",
              "      <td>2021-06-08</td>\n",
              "      <td>3264.1100</td>\n",
              "      <td>3.416730e+06</td>\n",
              "      <td>3222.610000</td>\n",
              "      <td>3279.532100</td>\n",
              "      <td>3218.010000</td>\n",
              "      <td>NaN</td>\n",
              "    </tr>\n",
              "    <tr>\n",
              "      <th>2</th>\n",
              "      <td>2021-06-07</td>\n",
              "      <td>3198.0100</td>\n",
              "      <td>2.215756e+06</td>\n",
              "      <td>3197.330000</td>\n",
              "      <td>3208.000000</td>\n",
              "      <td>3172.200000</td>\n",
              "      <td>NaN</td>\n",
              "    </tr>\n",
              "    <tr>\n",
              "      <th>3</th>\n",
              "      <td>2021-06-04</td>\n",
              "      <td>3206.2200</td>\n",
              "      <td>2.249749e+06</td>\n",
              "      <td>3212.000000</td>\n",
              "      <td>3221.000000</td>\n",
              "      <td>3198.810000</td>\n",
              "      <td>This Simple Stock Market Strategy Is Winning s...</td>\n",
              "    </tr>\n",
              "    <tr>\n",
              "      <th>4</th>\n",
              "      <td>2021-06-03</td>\n",
              "      <td>3187.0100</td>\n",
              "      <td>2.398293e+06</td>\n",
              "      <td>3204.230000</td>\n",
              "      <td>3214.435000</td>\n",
              "      <td>3184.030000</td>\n",
              "      <td>NaN</td>\n",
              "    </tr>\n",
              "    <tr>\n",
              "      <th>...</th>\n",
              "      <td>...</td>\n",
              "      <td>...</td>\n",
              "      <td>...</td>\n",
              "      <td>...</td>\n",
              "      <td>...</td>\n",
              "      <td>...</td>\n",
              "      <td>...</td>\n",
              "    </tr>\n",
              "    <tr>\n",
              "      <th>3033</th>\n",
              "      <td>2021-06-19</td>\n",
              "      <td>1073.5905</td>\n",
              "      <td>4.202192e+06</td>\n",
              "      <td>1074.084557</td>\n",
              "      <td>1085.290177</td>\n",
              "      <td>1061.333931</td>\n",
              "      <td>Best pre-Prime Day smartwatch deals on Apple W...</td>\n",
              "    </tr>\n",
              "    <tr>\n",
              "      <th>3034</th>\n",
              "      <td>2021-06-20</td>\n",
              "      <td>1073.5905</td>\n",
              "      <td>4.202192e+06</td>\n",
              "      <td>1074.084557</td>\n",
              "      <td>1085.290177</td>\n",
              "      <td>1061.333931</td>\n",
              "      <td>iPhone 13 rumors: As Apple's fall event gets c...</td>\n",
              "    </tr>\n",
              "    <tr>\n",
              "      <th>3035</th>\n",
              "      <td>2021-06-21</td>\n",
              "      <td>1073.5905</td>\n",
              "      <td>4.202192e+06</td>\n",
              "      <td>1074.084557</td>\n",
              "      <td>1085.290177</td>\n",
              "      <td>1061.333931</td>\n",
              "      <td>Apple is shortening new free TV Plus trials fr...</td>\n",
              "    </tr>\n",
              "    <tr>\n",
              "      <th>3036</th>\n",
              "      <td>2021-06-22</td>\n",
              "      <td>1073.5905</td>\n",
              "      <td>4.202192e+06</td>\n",
              "      <td>1074.084557</td>\n",
              "      <td>1085.290177</td>\n",
              "      <td>1061.333931</td>\n",
              "      <td>Google likely to soon face antitrust claims ov...</td>\n",
              "    </tr>\n",
              "    <tr>\n",
              "      <th>3037</th>\n",
              "      <td>2021-06-23</td>\n",
              "      <td>1073.5905</td>\n",
              "      <td>4.202192e+06</td>\n",
              "      <td>1074.084557</td>\n",
              "      <td>1085.290177</td>\n",
              "      <td>1061.333931</td>\n",
              "      <td>French court sets date in Apple case over App ...</td>\n",
              "    </tr>\n",
              "  </tbody>\n",
              "</table>\n",
              "<p>3038 rows × 7 columns</p>\n",
              "</div>"
            ],
            "text/plain": [
              "           Date  ...                                            Heading\n",
              "0    2021-06-09  ...                                                NaN\n",
              "1    2021-06-08  ...                                                NaN\n",
              "2    2021-06-07  ...                                                NaN\n",
              "3    2021-06-04  ...  This Simple Stock Market Strategy Is Winning s...\n",
              "4    2021-06-03  ...                                                NaN\n",
              "...         ...  ...                                                ...\n",
              "3033 2021-06-19  ...  Best pre-Prime Day smartwatch deals on Apple W...\n",
              "3034 2021-06-20  ...  iPhone 13 rumors: As Apple's fall event gets c...\n",
              "3035 2021-06-21  ...  Apple is shortening new free TV Plus trials fr...\n",
              "3036 2021-06-22  ...  Google likely to soon face antitrust claims ov...\n",
              "3037 2021-06-23  ...  French court sets date in Apple case over App ...\n",
              "\n",
              "[3038 rows x 7 columns]"
            ]
          },
          "metadata": {
            "tags": []
          },
          "execution_count": 24
        }
      ]
    },
    {
      "cell_type": "code",
      "metadata": {
        "colab": {
          "base_uri": "https://localhost:8080/",
          "height": 402
        },
        "id": "XjxXnyeSI8gP",
        "outputId": "0645e7c0-d71e-456c-eb88-7b4f5564d699"
      },
      "source": [
        "amzn_mod= amzn_eda.dropna()\n",
        "amzn_mod"
      ],
      "execution_count": null,
      "outputs": [
        {
          "output_type": "execute_result",
          "data": {
            "text/html": [
              "<div>\n",
              "<style scoped>\n",
              "    .dataframe tbody tr th:only-of-type {\n",
              "        vertical-align: middle;\n",
              "    }\n",
              "\n",
              "    .dataframe tbody tr th {\n",
              "        vertical-align: top;\n",
              "    }\n",
              "\n",
              "    .dataframe thead th {\n",
              "        text-align: right;\n",
              "    }\n",
              "</style>\n",
              "<table border=\"1\" class=\"dataframe\">\n",
              "  <thead>\n",
              "    <tr style=\"text-align: right;\">\n",
              "      <th></th>\n",
              "      <th>Date</th>\n",
              "      <th>Close</th>\n",
              "      <th>Volume</th>\n",
              "      <th>Open</th>\n",
              "      <th>High</th>\n",
              "      <th>Low</th>\n",
              "      <th>Heading</th>\n",
              "    </tr>\n",
              "  </thead>\n",
              "  <tbody>\n",
              "    <tr>\n",
              "      <th>3</th>\n",
              "      <td>2021-06-04</td>\n",
              "      <td>3206.2200</td>\n",
              "      <td>2.249749e+06</td>\n",
              "      <td>3212.000000</td>\n",
              "      <td>3221.000000</td>\n",
              "      <td>3198.810000</td>\n",
              "      <td>This Simple Stock Market Strategy Is Winning s...</td>\n",
              "    </tr>\n",
              "    <tr>\n",
              "      <th>5</th>\n",
              "      <td>2021-06-02</td>\n",
              "      <td>3233.9900</td>\n",
              "      <td>2.014524e+06</td>\n",
              "      <td>3223.100000</td>\n",
              "      <td>3235.000000</td>\n",
              "      <td>3208.000000</td>\n",
              "      <td>Exclusive Social Media App Clubhouse Rises In ...</td>\n",
              "    </tr>\n",
              "    <tr>\n",
              "      <th>7</th>\n",
              "      <td>2021-05-28</td>\n",
              "      <td>3223.0700</td>\n",
              "      <td>2.331509e+06</td>\n",
              "      <td>3242.000000</td>\n",
              "      <td>3247.990000</td>\n",
              "      <td>3219.700000</td>\n",
              "      <td>Apple pushes back launch of podcast subscripti...</td>\n",
              "    </tr>\n",
              "    <tr>\n",
              "      <th>8</th>\n",
              "      <td>2021-05-27</td>\n",
              "      <td>3230.1100</td>\n",
              "      <td>2.561157e+06</td>\n",
              "      <td>3256.000000</td>\n",
              "      <td>3260.355000</td>\n",
              "      <td>3230.040000</td>\n",
              "      <td>&amp;quot;Friends: The Reunion&amp;quot;: The Best Non...</td>\n",
              "    </tr>\n",
              "    <tr>\n",
              "      <th>9</th>\n",
              "      <td>2021-05-26</td>\n",
              "      <td>3265.1600</td>\n",
              "      <td>2.383986e+06</td>\n",
              "      <td>3274.591000</td>\n",
              "      <td>3295.730000</td>\n",
              "      <td>3258.510000</td>\n",
              "      <td>Microsoft Build: The Real Difference Between M...</td>\n",
              "    </tr>\n",
              "    <tr>\n",
              "      <th>...</th>\n",
              "      <td>...</td>\n",
              "      <td>...</td>\n",
              "      <td>...</td>\n",
              "      <td>...</td>\n",
              "      <td>...</td>\n",
              "      <td>...</td>\n",
              "      <td>...</td>\n",
              "    </tr>\n",
              "    <tr>\n",
              "      <th>3033</th>\n",
              "      <td>2021-06-19</td>\n",
              "      <td>1073.5905</td>\n",
              "      <td>4.202192e+06</td>\n",
              "      <td>1074.084557</td>\n",
              "      <td>1085.290177</td>\n",
              "      <td>1061.333931</td>\n",
              "      <td>Best pre-Prime Day smartwatch deals on Apple W...</td>\n",
              "    </tr>\n",
              "    <tr>\n",
              "      <th>3034</th>\n",
              "      <td>2021-06-20</td>\n",
              "      <td>1073.5905</td>\n",
              "      <td>4.202192e+06</td>\n",
              "      <td>1074.084557</td>\n",
              "      <td>1085.290177</td>\n",
              "      <td>1061.333931</td>\n",
              "      <td>iPhone 13 rumors: As Apple's fall event gets c...</td>\n",
              "    </tr>\n",
              "    <tr>\n",
              "      <th>3035</th>\n",
              "      <td>2021-06-21</td>\n",
              "      <td>1073.5905</td>\n",
              "      <td>4.202192e+06</td>\n",
              "      <td>1074.084557</td>\n",
              "      <td>1085.290177</td>\n",
              "      <td>1061.333931</td>\n",
              "      <td>Apple is shortening new free TV Plus trials fr...</td>\n",
              "    </tr>\n",
              "    <tr>\n",
              "      <th>3036</th>\n",
              "      <td>2021-06-22</td>\n",
              "      <td>1073.5905</td>\n",
              "      <td>4.202192e+06</td>\n",
              "      <td>1074.084557</td>\n",
              "      <td>1085.290177</td>\n",
              "      <td>1061.333931</td>\n",
              "      <td>Google likely to soon face antitrust claims ov...</td>\n",
              "    </tr>\n",
              "    <tr>\n",
              "      <th>3037</th>\n",
              "      <td>2021-06-23</td>\n",
              "      <td>1073.5905</td>\n",
              "      <td>4.202192e+06</td>\n",
              "      <td>1074.084557</td>\n",
              "      <td>1085.290177</td>\n",
              "      <td>1061.333931</td>\n",
              "      <td>French court sets date in Apple case over App ...</td>\n",
              "    </tr>\n",
              "  </tbody>\n",
              "</table>\n",
              "<p>691 rows × 7 columns</p>\n",
              "</div>"
            ],
            "text/plain": [
              "           Date  ...                                            Heading\n",
              "3    2021-06-04  ...  This Simple Stock Market Strategy Is Winning s...\n",
              "5    2021-06-02  ...  Exclusive Social Media App Clubhouse Rises In ...\n",
              "7    2021-05-28  ...  Apple pushes back launch of podcast subscripti...\n",
              "8    2021-05-27  ...  &quot;Friends: The Reunion&quot;: The Best Non...\n",
              "9    2021-05-26  ...  Microsoft Build: The Real Difference Between M...\n",
              "...         ...  ...                                                ...\n",
              "3033 2021-06-19  ...  Best pre-Prime Day smartwatch deals on Apple W...\n",
              "3034 2021-06-20  ...  iPhone 13 rumors: As Apple's fall event gets c...\n",
              "3035 2021-06-21  ...  Apple is shortening new free TV Plus trials fr...\n",
              "3036 2021-06-22  ...  Google likely to soon face antitrust claims ov...\n",
              "3037 2021-06-23  ...  French court sets date in Apple case over App ...\n",
              "\n",
              "[691 rows x 7 columns]"
            ]
          },
          "metadata": {
            "tags": []
          },
          "execution_count": 25
        }
      ]
    },
    {
      "cell_type": "code",
      "metadata": {
        "colab": {
          "base_uri": "https://localhost:8080/"
        },
        "id": "RCkO2Wk8YrI2",
        "outputId": "aef302f9-2479-424d-e42d-2597e6a9486a"
      },
      "source": [
        "amzn_mod.shape"
      ],
      "execution_count": null,
      "outputs": [
        {
          "output_type": "execute_result",
          "data": {
            "text/plain": [
              "(691, 9)"
            ]
          },
          "metadata": {
            "tags": []
          },
          "execution_count": 35
        }
      ]
    },
    {
      "cell_type": "code",
      "metadata": {
        "colab": {
          "base_uri": "https://localhost:8080/",
          "height": 431
        },
        "id": "GJUBFwMkKjHb",
        "outputId": "5503fd55-2cc2-48d2-a860-3f47d9b68bc0"
      },
      "source": [
        "amzn_mod.set_index('Date', inplace= True)\n",
        "amzn_mod"
      ],
      "execution_count": null,
      "outputs": [
        {
          "output_type": "execute_result",
          "data": {
            "text/html": [
              "<div>\n",
              "<style scoped>\n",
              "    .dataframe tbody tr th:only-of-type {\n",
              "        vertical-align: middle;\n",
              "    }\n",
              "\n",
              "    .dataframe tbody tr th {\n",
              "        vertical-align: top;\n",
              "    }\n",
              "\n",
              "    .dataframe thead th {\n",
              "        text-align: right;\n",
              "    }\n",
              "</style>\n",
              "<table border=\"1\" class=\"dataframe\">\n",
              "  <thead>\n",
              "    <tr style=\"text-align: right;\">\n",
              "      <th></th>\n",
              "      <th>level_0</th>\n",
              "      <th>index</th>\n",
              "      <th>Close</th>\n",
              "      <th>Volume</th>\n",
              "      <th>Open</th>\n",
              "      <th>High</th>\n",
              "      <th>Low</th>\n",
              "      <th>Heading</th>\n",
              "    </tr>\n",
              "    <tr>\n",
              "      <th>Date</th>\n",
              "      <th></th>\n",
              "      <th></th>\n",
              "      <th></th>\n",
              "      <th></th>\n",
              "      <th></th>\n",
              "      <th></th>\n",
              "      <th></th>\n",
              "      <th></th>\n",
              "    </tr>\n",
              "  </thead>\n",
              "  <tbody>\n",
              "    <tr>\n",
              "      <th>2021-06-04</th>\n",
              "      <td>0</td>\n",
              "      <td>3</td>\n",
              "      <td>3206.2200</td>\n",
              "      <td>2.249749e+06</td>\n",
              "      <td>3212.000000</td>\n",
              "      <td>3221.000000</td>\n",
              "      <td>3198.810000</td>\n",
              "      <td>This Simple Stock Market Strategy Is Winning s...</td>\n",
              "    </tr>\n",
              "    <tr>\n",
              "      <th>2021-06-02</th>\n",
              "      <td>1</td>\n",
              "      <td>5</td>\n",
              "      <td>3233.9900</td>\n",
              "      <td>2.014524e+06</td>\n",
              "      <td>3223.100000</td>\n",
              "      <td>3235.000000</td>\n",
              "      <td>3208.000000</td>\n",
              "      <td>Exclusive Social Media App Clubhouse Rises In ...</td>\n",
              "    </tr>\n",
              "    <tr>\n",
              "      <th>2021-05-28</th>\n",
              "      <td>2</td>\n",
              "      <td>7</td>\n",
              "      <td>3223.0700</td>\n",
              "      <td>2.331509e+06</td>\n",
              "      <td>3242.000000</td>\n",
              "      <td>3247.990000</td>\n",
              "      <td>3219.700000</td>\n",
              "      <td>Apple pushes back launch of podcast subscripti...</td>\n",
              "    </tr>\n",
              "    <tr>\n",
              "      <th>2021-05-27</th>\n",
              "      <td>3</td>\n",
              "      <td>8</td>\n",
              "      <td>3230.1100</td>\n",
              "      <td>2.561157e+06</td>\n",
              "      <td>3256.000000</td>\n",
              "      <td>3260.355000</td>\n",
              "      <td>3230.040000</td>\n",
              "      <td>&amp;quot;Friends: The Reunion&amp;quot;: The Best Non...</td>\n",
              "    </tr>\n",
              "    <tr>\n",
              "      <th>2021-05-26</th>\n",
              "      <td>4</td>\n",
              "      <td>9</td>\n",
              "      <td>3265.1600</td>\n",
              "      <td>2.383986e+06</td>\n",
              "      <td>3274.591000</td>\n",
              "      <td>3295.730000</td>\n",
              "      <td>3258.510000</td>\n",
              "      <td>Microsoft Build: The Real Difference Between M...</td>\n",
              "    </tr>\n",
              "    <tr>\n",
              "      <th>...</th>\n",
              "      <td>...</td>\n",
              "      <td>...</td>\n",
              "      <td>...</td>\n",
              "      <td>...</td>\n",
              "      <td>...</td>\n",
              "      <td>...</td>\n",
              "      <td>...</td>\n",
              "      <td>...</td>\n",
              "    </tr>\n",
              "    <tr>\n",
              "      <th>2021-06-19</th>\n",
              "      <td>686</td>\n",
              "      <td>3033</td>\n",
              "      <td>1073.5905</td>\n",
              "      <td>4.202192e+06</td>\n",
              "      <td>1074.084557</td>\n",
              "      <td>1085.290177</td>\n",
              "      <td>1061.333931</td>\n",
              "      <td>Best pre-Prime Day smartwatch deals on Apple W...</td>\n",
              "    </tr>\n",
              "    <tr>\n",
              "      <th>2021-06-20</th>\n",
              "      <td>687</td>\n",
              "      <td>3034</td>\n",
              "      <td>1073.5905</td>\n",
              "      <td>4.202192e+06</td>\n",
              "      <td>1074.084557</td>\n",
              "      <td>1085.290177</td>\n",
              "      <td>1061.333931</td>\n",
              "      <td>iPhone 13 rumors: As Apple's fall event gets c...</td>\n",
              "    </tr>\n",
              "    <tr>\n",
              "      <th>2021-06-21</th>\n",
              "      <td>688</td>\n",
              "      <td>3035</td>\n",
              "      <td>1073.5905</td>\n",
              "      <td>4.202192e+06</td>\n",
              "      <td>1074.084557</td>\n",
              "      <td>1085.290177</td>\n",
              "      <td>1061.333931</td>\n",
              "      <td>Apple is shortening new free TV Plus trials fr...</td>\n",
              "    </tr>\n",
              "    <tr>\n",
              "      <th>2021-06-22</th>\n",
              "      <td>689</td>\n",
              "      <td>3036</td>\n",
              "      <td>1073.5905</td>\n",
              "      <td>4.202192e+06</td>\n",
              "      <td>1074.084557</td>\n",
              "      <td>1085.290177</td>\n",
              "      <td>1061.333931</td>\n",
              "      <td>Google likely to soon face antitrust claims ov...</td>\n",
              "    </tr>\n",
              "    <tr>\n",
              "      <th>2021-06-23</th>\n",
              "      <td>690</td>\n",
              "      <td>3037</td>\n",
              "      <td>1073.5905</td>\n",
              "      <td>4.202192e+06</td>\n",
              "      <td>1074.084557</td>\n",
              "      <td>1085.290177</td>\n",
              "      <td>1061.333931</td>\n",
              "      <td>French court sets date in Apple case over App ...</td>\n",
              "    </tr>\n",
              "  </tbody>\n",
              "</table>\n",
              "<p>691 rows × 8 columns</p>\n",
              "</div>"
            ],
            "text/plain": [
              "            level_0  ...                                            Heading\n",
              "Date                 ...                                                   \n",
              "2021-06-04        0  ...  This Simple Stock Market Strategy Is Winning s...\n",
              "2021-06-02        1  ...  Exclusive Social Media App Clubhouse Rises In ...\n",
              "2021-05-28        2  ...  Apple pushes back launch of podcast subscripti...\n",
              "2021-05-27        3  ...  &quot;Friends: The Reunion&quot;: The Best Non...\n",
              "2021-05-26        4  ...  Microsoft Build: The Real Difference Between M...\n",
              "...             ...  ...                                                ...\n",
              "2021-06-19      686  ...  Best pre-Prime Day smartwatch deals on Apple W...\n",
              "2021-06-20      687  ...  iPhone 13 rumors: As Apple's fall event gets c...\n",
              "2021-06-21      688  ...  Apple is shortening new free TV Plus trials fr...\n",
              "2021-06-22      689  ...  Google likely to soon face antitrust claims ov...\n",
              "2021-06-23      690  ...  French court sets date in Apple case over App ...\n",
              "\n",
              "[691 rows x 8 columns]"
            ]
          },
          "metadata": {
            "tags": []
          },
          "execution_count": 36
        }
      ]
    },
    {
      "cell_type": "code",
      "metadata": {
        "colab": {
          "base_uri": "https://localhost:8080/",
          "height": 549
        },
        "id": "xZeDgZq1KjUN",
        "outputId": "a4b3cc2e-a71e-44c3-dcb7-e61c51ba0564"
      },
      "source": [
        "amzn_mod.sort_index(ascending=True, inplace=True)\n",
        "amzn_mod"
      ],
      "execution_count": null,
      "outputs": [
        {
          "output_type": "stream",
          "text": [
            "/usr/local/lib/python3.7/dist-packages/ipykernel_launcher.py:1: SettingWithCopyWarning:\n",
            "\n",
            "\n",
            "A value is trying to be set on a copy of a slice from a DataFrame\n",
            "\n",
            "See the caveats in the documentation: https://pandas.pydata.org/pandas-docs/stable/user_guide/indexing.html#returning-a-view-versus-a-copy\n",
            "\n"
          ],
          "name": "stderr"
        },
        {
          "output_type": "execute_result",
          "data": {
            "text/html": [
              "<div>\n",
              "<style scoped>\n",
              "    .dataframe tbody tr th:only-of-type {\n",
              "        vertical-align: middle;\n",
              "    }\n",
              "\n",
              "    .dataframe tbody tr th {\n",
              "        vertical-align: top;\n",
              "    }\n",
              "\n",
              "    .dataframe thead th {\n",
              "        text-align: right;\n",
              "    }\n",
              "</style>\n",
              "<table border=\"1\" class=\"dataframe\">\n",
              "  <thead>\n",
              "    <tr style=\"text-align: right;\">\n",
              "      <th></th>\n",
              "      <th>level_0</th>\n",
              "      <th>index</th>\n",
              "      <th>Close</th>\n",
              "      <th>Volume</th>\n",
              "      <th>Open</th>\n",
              "      <th>High</th>\n",
              "      <th>Low</th>\n",
              "      <th>Heading</th>\n",
              "    </tr>\n",
              "    <tr>\n",
              "      <th>Date</th>\n",
              "      <th></th>\n",
              "      <th></th>\n",
              "      <th></th>\n",
              "      <th></th>\n",
              "      <th></th>\n",
              "      <th></th>\n",
              "      <th></th>\n",
              "      <th></th>\n",
              "    </tr>\n",
              "  </thead>\n",
              "  <tbody>\n",
              "    <tr>\n",
              "      <th>2015-01-04</th>\n",
              "      <td>398</td>\n",
              "      <td>2538</td>\n",
              "      <td>1073.5905</td>\n",
              "      <td>4.202192e+06</td>\n",
              "      <td>1074.084557</td>\n",
              "      <td>1085.290177</td>\n",
              "      <td>1061.333931</td>\n",
              "      <td>Apple Daily: Retina MacBook Unboxing Video; Ap...</td>\n",
              "    </tr>\n",
              "    <tr>\n",
              "      <th>2015-01-08</th>\n",
              "      <td>392</td>\n",
              "      <td>1632</td>\n",
              "      <td>300.4600</td>\n",
              "      <td>3.087475e+06</td>\n",
              "      <td>300.320000</td>\n",
              "      <td>303.140000</td>\n",
              "      <td>296.110000</td>\n",
              "      <td>Nomura Begins Coverage on Apple (AAPL) IBM cou...</td>\n",
              "    </tr>\n",
              "    <tr>\n",
              "      <th>2015-01-09</th>\n",
              "      <td>391</td>\n",
              "      <td>1631</td>\n",
              "      <td>296.9300</td>\n",
              "      <td>2.589914e+06</td>\n",
              "      <td>301.480000</td>\n",
              "      <td>302.870000</td>\n",
              "      <td>296.680000</td>\n",
              "      <td>Google&amp;quot;s (GOOGL) Self-Driving Cars to Hit...</td>\n",
              "    </tr>\n",
              "    <tr>\n",
              "      <th>2015-01-10</th>\n",
              "      <td>409</td>\n",
              "      <td>2549</td>\n",
              "      <td>1073.5905</td>\n",
              "      <td>4.202192e+06</td>\n",
              "      <td>1074.084557</td>\n",
              "      <td>1085.290177</td>\n",
              "      <td>1061.333931</td>\n",
              "      <td>Apple Initiated Buy With $200 PT At Drexel Ham...</td>\n",
              "    </tr>\n",
              "    <tr>\n",
              "      <th>2015-01-11</th>\n",
              "      <td>412</td>\n",
              "      <td>2552</td>\n",
              "      <td>1073.5905</td>\n",
              "      <td>4.202192e+06</td>\n",
              "      <td>1074.084557</td>\n",
              "      <td>1085.290177</td>\n",
              "      <td>1061.333931</td>\n",
              "      <td>Does An Apple Watch Discount Point To Flagging...</td>\n",
              "    </tr>\n",
              "    <tr>\n",
              "      <th>...</th>\n",
              "      <td>...</td>\n",
              "      <td>...</td>\n",
              "      <td>...</td>\n",
              "      <td>...</td>\n",
              "      <td>...</td>\n",
              "      <td>...</td>\n",
              "      <td>...</td>\n",
              "      <td>...</td>\n",
              "    </tr>\n",
              "    <tr>\n",
              "      <th>2021-12-03</th>\n",
              "      <td>660</td>\n",
              "      <td>3007</td>\n",
              "      <td>1073.5905</td>\n",
              "      <td>4.202192e+06</td>\n",
              "      <td>1074.084557</td>\n",
              "      <td>1085.290177</td>\n",
              "      <td>1061.333931</td>\n",
              "      <td>How to cancel an Apple One subscription once y...</td>\n",
              "    </tr>\n",
              "    <tr>\n",
              "      <th>2021-12-03</th>\n",
              "      <td>659</td>\n",
              "      <td>3006</td>\n",
              "      <td>1073.5905</td>\n",
              "      <td>4.202192e+06</td>\n",
              "      <td>1074.084557</td>\n",
              "      <td>1085.290177</td>\n",
              "      <td>1061.333931</td>\n",
              "      <td>How to cancel an Apple One subscription once y...</td>\n",
              "    </tr>\n",
              "    <tr>\n",
              "      <th>2021-12-04</th>\n",
              "      <td>665</td>\n",
              "      <td>3012</td>\n",
              "      <td>1073.5905</td>\n",
              "      <td>4.202192e+06</td>\n",
              "      <td>1074.084557</td>\n",
              "      <td>1085.290177</td>\n",
              "      <td>1061.333931</td>\n",
              "      <td>Microsoft Boosts Conversational AI with $19.7 ...</td>\n",
              "    </tr>\n",
              "    <tr>\n",
              "      <th>2021-12-05</th>\n",
              "      <td>672</td>\n",
              "      <td>3019</td>\n",
              "      <td>1073.5905</td>\n",
              "      <td>4.202192e+06</td>\n",
              "      <td>1074.084557</td>\n",
              "      <td>1085.290177</td>\n",
              "      <td>1061.333931</td>\n",
              "      <td>Judge in Epic Games v. Apple Trial appears to ...</td>\n",
              "    </tr>\n",
              "    <tr>\n",
              "      <th>2021-12-06</th>\n",
              "      <td>681</td>\n",
              "      <td>3028</td>\n",
              "      <td>1073.5905</td>\n",
              "      <td>4.202192e+06</td>\n",
              "      <td>1074.084557</td>\n",
              "      <td>1085.290177</td>\n",
              "      <td>1061.333931</td>\n",
              "      <td>Japan to start antitrust probe on Apple, Googl...</td>\n",
              "    </tr>\n",
              "  </tbody>\n",
              "</table>\n",
              "<p>691 rows × 8 columns</p>\n",
              "</div>"
            ],
            "text/plain": [
              "            level_0  ...                                            Heading\n",
              "Date                 ...                                                   \n",
              "2015-01-04      398  ...  Apple Daily: Retina MacBook Unboxing Video; Ap...\n",
              "2015-01-08      392  ...  Nomura Begins Coverage on Apple (AAPL) IBM cou...\n",
              "2015-01-09      391  ...  Google&quot;s (GOOGL) Self-Driving Cars to Hit...\n",
              "2015-01-10      409  ...  Apple Initiated Buy With $200 PT At Drexel Ham...\n",
              "2015-01-11      412  ...  Does An Apple Watch Discount Point To Flagging...\n",
              "...             ...  ...                                                ...\n",
              "2021-12-03      660  ...  How to cancel an Apple One subscription once y...\n",
              "2021-12-03      659  ...  How to cancel an Apple One subscription once y...\n",
              "2021-12-04      665  ...  Microsoft Boosts Conversational AI with $19.7 ...\n",
              "2021-12-05      672  ...  Judge in Epic Games v. Apple Trial appears to ...\n",
              "2021-12-06      681  ...  Japan to start antitrust probe on Apple, Googl...\n",
              "\n",
              "[691 rows x 8 columns]"
            ]
          },
          "metadata": {
            "tags": []
          },
          "execution_count": 37
        }
      ]
    },
    {
      "cell_type": "code",
      "metadata": {
        "colab": {
          "base_uri": "https://localhost:8080/",
          "height": 431
        },
        "id": "jN74Uq2jMXrd",
        "outputId": "fff14e23-87ed-4060-8ecb-a2b53dcb0841"
      },
      "source": [
        "del amzn_mod['index']\n",
        "amzn_mod"
      ],
      "execution_count": null,
      "outputs": [
        {
          "output_type": "execute_result",
          "data": {
            "text/html": [
              "<div>\n",
              "<style scoped>\n",
              "    .dataframe tbody tr th:only-of-type {\n",
              "        vertical-align: middle;\n",
              "    }\n",
              "\n",
              "    .dataframe tbody tr th {\n",
              "        vertical-align: top;\n",
              "    }\n",
              "\n",
              "    .dataframe thead th {\n",
              "        text-align: right;\n",
              "    }\n",
              "</style>\n",
              "<table border=\"1\" class=\"dataframe\">\n",
              "  <thead>\n",
              "    <tr style=\"text-align: right;\">\n",
              "      <th></th>\n",
              "      <th>level_0</th>\n",
              "      <th>Close</th>\n",
              "      <th>Volume</th>\n",
              "      <th>Open</th>\n",
              "      <th>High</th>\n",
              "      <th>Low</th>\n",
              "      <th>Heading</th>\n",
              "    </tr>\n",
              "    <tr>\n",
              "      <th>Date</th>\n",
              "      <th></th>\n",
              "      <th></th>\n",
              "      <th></th>\n",
              "      <th></th>\n",
              "      <th></th>\n",
              "      <th></th>\n",
              "      <th></th>\n",
              "    </tr>\n",
              "  </thead>\n",
              "  <tbody>\n",
              "    <tr>\n",
              "      <th>2015-01-04</th>\n",
              "      <td>398</td>\n",
              "      <td>1073.5905</td>\n",
              "      <td>4.202192e+06</td>\n",
              "      <td>1074.084557</td>\n",
              "      <td>1085.290177</td>\n",
              "      <td>1061.333931</td>\n",
              "      <td>Apple Daily: Retina MacBook Unboxing Video; Ap...</td>\n",
              "    </tr>\n",
              "    <tr>\n",
              "      <th>2015-01-08</th>\n",
              "      <td>392</td>\n",
              "      <td>300.4600</td>\n",
              "      <td>3.087475e+06</td>\n",
              "      <td>300.320000</td>\n",
              "      <td>303.140000</td>\n",
              "      <td>296.110000</td>\n",
              "      <td>Nomura Begins Coverage on Apple (AAPL) IBM cou...</td>\n",
              "    </tr>\n",
              "    <tr>\n",
              "      <th>2015-01-09</th>\n",
              "      <td>391</td>\n",
              "      <td>296.9300</td>\n",
              "      <td>2.589914e+06</td>\n",
              "      <td>301.480000</td>\n",
              "      <td>302.870000</td>\n",
              "      <td>296.680000</td>\n",
              "      <td>Google&amp;quot;s (GOOGL) Self-Driving Cars to Hit...</td>\n",
              "    </tr>\n",
              "    <tr>\n",
              "      <th>2015-01-10</th>\n",
              "      <td>409</td>\n",
              "      <td>1073.5905</td>\n",
              "      <td>4.202192e+06</td>\n",
              "      <td>1074.084557</td>\n",
              "      <td>1085.290177</td>\n",
              "      <td>1061.333931</td>\n",
              "      <td>Apple Initiated Buy With $200 PT At Drexel Ham...</td>\n",
              "    </tr>\n",
              "    <tr>\n",
              "      <th>2015-01-11</th>\n",
              "      <td>412</td>\n",
              "      <td>1073.5905</td>\n",
              "      <td>4.202192e+06</td>\n",
              "      <td>1074.084557</td>\n",
              "      <td>1085.290177</td>\n",
              "      <td>1061.333931</td>\n",
              "      <td>Does An Apple Watch Discount Point To Flagging...</td>\n",
              "    </tr>\n",
              "    <tr>\n",
              "      <th>...</th>\n",
              "      <td>...</td>\n",
              "      <td>...</td>\n",
              "      <td>...</td>\n",
              "      <td>...</td>\n",
              "      <td>...</td>\n",
              "      <td>...</td>\n",
              "      <td>...</td>\n",
              "    </tr>\n",
              "    <tr>\n",
              "      <th>2021-12-03</th>\n",
              "      <td>660</td>\n",
              "      <td>1073.5905</td>\n",
              "      <td>4.202192e+06</td>\n",
              "      <td>1074.084557</td>\n",
              "      <td>1085.290177</td>\n",
              "      <td>1061.333931</td>\n",
              "      <td>How to cancel an Apple One subscription once y...</td>\n",
              "    </tr>\n",
              "    <tr>\n",
              "      <th>2021-12-03</th>\n",
              "      <td>659</td>\n",
              "      <td>1073.5905</td>\n",
              "      <td>4.202192e+06</td>\n",
              "      <td>1074.084557</td>\n",
              "      <td>1085.290177</td>\n",
              "      <td>1061.333931</td>\n",
              "      <td>How to cancel an Apple One subscription once y...</td>\n",
              "    </tr>\n",
              "    <tr>\n",
              "      <th>2021-12-04</th>\n",
              "      <td>665</td>\n",
              "      <td>1073.5905</td>\n",
              "      <td>4.202192e+06</td>\n",
              "      <td>1074.084557</td>\n",
              "      <td>1085.290177</td>\n",
              "      <td>1061.333931</td>\n",
              "      <td>Microsoft Boosts Conversational AI with $19.7 ...</td>\n",
              "    </tr>\n",
              "    <tr>\n",
              "      <th>2021-12-05</th>\n",
              "      <td>672</td>\n",
              "      <td>1073.5905</td>\n",
              "      <td>4.202192e+06</td>\n",
              "      <td>1074.084557</td>\n",
              "      <td>1085.290177</td>\n",
              "      <td>1061.333931</td>\n",
              "      <td>Judge in Epic Games v. Apple Trial appears to ...</td>\n",
              "    </tr>\n",
              "    <tr>\n",
              "      <th>2021-12-06</th>\n",
              "      <td>681</td>\n",
              "      <td>1073.5905</td>\n",
              "      <td>4.202192e+06</td>\n",
              "      <td>1074.084557</td>\n",
              "      <td>1085.290177</td>\n",
              "      <td>1061.333931</td>\n",
              "      <td>Japan to start antitrust probe on Apple, Googl...</td>\n",
              "    </tr>\n",
              "  </tbody>\n",
              "</table>\n",
              "<p>691 rows × 7 columns</p>\n",
              "</div>"
            ],
            "text/plain": [
              "            level_0  ...                                            Heading\n",
              "Date                 ...                                                   \n",
              "2015-01-04      398  ...  Apple Daily: Retina MacBook Unboxing Video; Ap...\n",
              "2015-01-08      392  ...  Nomura Begins Coverage on Apple (AAPL) IBM cou...\n",
              "2015-01-09      391  ...  Google&quot;s (GOOGL) Self-Driving Cars to Hit...\n",
              "2015-01-10      409  ...  Apple Initiated Buy With $200 PT At Drexel Ham...\n",
              "2015-01-11      412  ...  Does An Apple Watch Discount Point To Flagging...\n",
              "...             ...  ...                                                ...\n",
              "2021-12-03      660  ...  How to cancel an Apple One subscription once y...\n",
              "2021-12-03      659  ...  How to cancel an Apple One subscription once y...\n",
              "2021-12-04      665  ...  Microsoft Boosts Conversational AI with $19.7 ...\n",
              "2021-12-05      672  ...  Judge in Epic Games v. Apple Trial appears to ...\n",
              "2021-12-06      681  ...  Japan to start antitrust probe on Apple, Googl...\n",
              "\n",
              "[691 rows x 7 columns]"
            ]
          },
          "metadata": {
            "tags": []
          },
          "execution_count": 38
        }
      ]
    },
    {
      "cell_type": "markdown",
      "metadata": {
        "id": "RVNcxVlMaKFw"
      },
      "source": [
        "# Sentimental analysis\n",
        "\n"
      ]
    },
    {
      "cell_type": "code",
      "metadata": {
        "id": "1EZZcyz-NrSw"
      },
      "source": [
        "import os"
      ],
      "execution_count": null,
      "outputs": []
    },
    {
      "cell_type": "code",
      "metadata": {
        "colab": {
          "base_uri": "https://localhost:8080/",
          "height": 35
        },
        "id": "O9ahlgc7NtFj",
        "outputId": "a14dedf0-8d61-4572-eedd-ccbd0f1e5112"
      },
      "source": [
        "os.getcwd()"
      ],
      "execution_count": null,
      "outputs": [
        {
          "output_type": "execute_result",
          "data": {
            "application/vnd.google.colaboratory.intrinsic+json": {
              "type": "string"
            },
            "text/plain": [
              "'/content'"
            ]
          },
          "metadata": {
            "tags": []
          },
          "execution_count": 45
        }
      ]
    },
    {
      "cell_type": "code",
      "metadata": {
        "colab": {
          "base_uri": "https://localhost:8080/",
          "height": 969
        },
        "id": "MCPbmnuwNtQs",
        "outputId": "b8d2e407-faa6-4ffb-ffad-51bc59faf8a7"
      },
      "source": [
        "amzn_mod['compound']=''\n",
        "amzn_mod['negative']=''\n",
        "amzn_mod['neutral']=''\n",
        "amzn_mod['positive']=''\n",
        "amzn_mod"
      ],
      "execution_count": null,
      "outputs": [
        {
          "output_type": "stream",
          "text": [
            "/usr/local/lib/python3.7/dist-packages/ipykernel_launcher.py:1: SettingWithCopyWarning:\n",
            "\n",
            "\n",
            "A value is trying to be set on a copy of a slice from a DataFrame.\n",
            "Try using .loc[row_indexer,col_indexer] = value instead\n",
            "\n",
            "See the caveats in the documentation: https://pandas.pydata.org/pandas-docs/stable/user_guide/indexing.html#returning-a-view-versus-a-copy\n",
            "\n",
            "/usr/local/lib/python3.7/dist-packages/ipykernel_launcher.py:2: SettingWithCopyWarning:\n",
            "\n",
            "\n",
            "A value is trying to be set on a copy of a slice from a DataFrame.\n",
            "Try using .loc[row_indexer,col_indexer] = value instead\n",
            "\n",
            "See the caveats in the documentation: https://pandas.pydata.org/pandas-docs/stable/user_guide/indexing.html#returning-a-view-versus-a-copy\n",
            "\n",
            "/usr/local/lib/python3.7/dist-packages/ipykernel_launcher.py:3: SettingWithCopyWarning:\n",
            "\n",
            "\n",
            "A value is trying to be set on a copy of a slice from a DataFrame.\n",
            "Try using .loc[row_indexer,col_indexer] = value instead\n",
            "\n",
            "See the caveats in the documentation: https://pandas.pydata.org/pandas-docs/stable/user_guide/indexing.html#returning-a-view-versus-a-copy\n",
            "\n",
            "/usr/local/lib/python3.7/dist-packages/ipykernel_launcher.py:4: SettingWithCopyWarning:\n",
            "\n",
            "\n",
            "A value is trying to be set on a copy of a slice from a DataFrame.\n",
            "Try using .loc[row_indexer,col_indexer] = value instead\n",
            "\n",
            "See the caveats in the documentation: https://pandas.pydata.org/pandas-docs/stable/user_guide/indexing.html#returning-a-view-versus-a-copy\n",
            "\n"
          ],
          "name": "stderr"
        },
        {
          "output_type": "execute_result",
          "data": {
            "text/html": [
              "<div>\n",
              "<style scoped>\n",
              "    .dataframe tbody tr th:only-of-type {\n",
              "        vertical-align: middle;\n",
              "    }\n",
              "\n",
              "    .dataframe tbody tr th {\n",
              "        vertical-align: top;\n",
              "    }\n",
              "\n",
              "    .dataframe thead th {\n",
              "        text-align: right;\n",
              "    }\n",
              "</style>\n",
              "<table border=\"1\" class=\"dataframe\">\n",
              "  <thead>\n",
              "    <tr style=\"text-align: right;\">\n",
              "      <th></th>\n",
              "      <th>level_0</th>\n",
              "      <th>Close</th>\n",
              "      <th>Volume</th>\n",
              "      <th>Open</th>\n",
              "      <th>High</th>\n",
              "      <th>Low</th>\n",
              "      <th>Heading</th>\n",
              "      <th>compound</th>\n",
              "      <th>negative</th>\n",
              "      <th>neutral</th>\n",
              "      <th>positive</th>\n",
              "    </tr>\n",
              "    <tr>\n",
              "      <th>Date</th>\n",
              "      <th></th>\n",
              "      <th></th>\n",
              "      <th></th>\n",
              "      <th></th>\n",
              "      <th></th>\n",
              "      <th></th>\n",
              "      <th></th>\n",
              "      <th></th>\n",
              "      <th></th>\n",
              "      <th></th>\n",
              "      <th></th>\n",
              "    </tr>\n",
              "  </thead>\n",
              "  <tbody>\n",
              "    <tr>\n",
              "      <th>2015-01-04</th>\n",
              "      <td>398</td>\n",
              "      <td>1073.5905</td>\n",
              "      <td>4.202192e+06</td>\n",
              "      <td>1074.084557</td>\n",
              "      <td>1085.290177</td>\n",
              "      <td>1061.333931</td>\n",
              "      <td>Apple Daily: Retina MacBook Unboxing Video; Ap...</td>\n",
              "      <td></td>\n",
              "      <td></td>\n",
              "      <td></td>\n",
              "      <td></td>\n",
              "    </tr>\n",
              "    <tr>\n",
              "      <th>2015-01-08</th>\n",
              "      <td>392</td>\n",
              "      <td>300.4600</td>\n",
              "      <td>3.087475e+06</td>\n",
              "      <td>300.320000</td>\n",
              "      <td>303.140000</td>\n",
              "      <td>296.110000</td>\n",
              "      <td>Nomura Begins Coverage on Apple (AAPL) IBM cou...</td>\n",
              "      <td></td>\n",
              "      <td></td>\n",
              "      <td></td>\n",
              "      <td></td>\n",
              "    </tr>\n",
              "    <tr>\n",
              "      <th>2015-01-09</th>\n",
              "      <td>391</td>\n",
              "      <td>296.9300</td>\n",
              "      <td>2.589914e+06</td>\n",
              "      <td>301.480000</td>\n",
              "      <td>302.870000</td>\n",
              "      <td>296.680000</td>\n",
              "      <td>Google&amp;quot;s (GOOGL) Self-Driving Cars to Hit...</td>\n",
              "      <td></td>\n",
              "      <td></td>\n",
              "      <td></td>\n",
              "      <td></td>\n",
              "    </tr>\n",
              "    <tr>\n",
              "      <th>2015-01-10</th>\n",
              "      <td>409</td>\n",
              "      <td>1073.5905</td>\n",
              "      <td>4.202192e+06</td>\n",
              "      <td>1074.084557</td>\n",
              "      <td>1085.290177</td>\n",
              "      <td>1061.333931</td>\n",
              "      <td>Apple Initiated Buy With $200 PT At Drexel Ham...</td>\n",
              "      <td></td>\n",
              "      <td></td>\n",
              "      <td></td>\n",
              "      <td></td>\n",
              "    </tr>\n",
              "    <tr>\n",
              "      <th>2015-01-11</th>\n",
              "      <td>412</td>\n",
              "      <td>1073.5905</td>\n",
              "      <td>4.202192e+06</td>\n",
              "      <td>1074.084557</td>\n",
              "      <td>1085.290177</td>\n",
              "      <td>1061.333931</td>\n",
              "      <td>Does An Apple Watch Discount Point To Flagging...</td>\n",
              "      <td></td>\n",
              "      <td></td>\n",
              "      <td></td>\n",
              "      <td></td>\n",
              "    </tr>\n",
              "    <tr>\n",
              "      <th>...</th>\n",
              "      <td>...</td>\n",
              "      <td>...</td>\n",
              "      <td>...</td>\n",
              "      <td>...</td>\n",
              "      <td>...</td>\n",
              "      <td>...</td>\n",
              "      <td>...</td>\n",
              "      <td>...</td>\n",
              "      <td>...</td>\n",
              "      <td>...</td>\n",
              "      <td>...</td>\n",
              "    </tr>\n",
              "    <tr>\n",
              "      <th>2021-12-03</th>\n",
              "      <td>660</td>\n",
              "      <td>1073.5905</td>\n",
              "      <td>4.202192e+06</td>\n",
              "      <td>1074.084557</td>\n",
              "      <td>1085.290177</td>\n",
              "      <td>1061.333931</td>\n",
              "      <td>How to cancel an Apple One subscription once y...</td>\n",
              "      <td></td>\n",
              "      <td></td>\n",
              "      <td></td>\n",
              "      <td></td>\n",
              "    </tr>\n",
              "    <tr>\n",
              "      <th>2021-12-03</th>\n",
              "      <td>659</td>\n",
              "      <td>1073.5905</td>\n",
              "      <td>4.202192e+06</td>\n",
              "      <td>1074.084557</td>\n",
              "      <td>1085.290177</td>\n",
              "      <td>1061.333931</td>\n",
              "      <td>How to cancel an Apple One subscription once y...</td>\n",
              "      <td></td>\n",
              "      <td></td>\n",
              "      <td></td>\n",
              "      <td></td>\n",
              "    </tr>\n",
              "    <tr>\n",
              "      <th>2021-12-04</th>\n",
              "      <td>665</td>\n",
              "      <td>1073.5905</td>\n",
              "      <td>4.202192e+06</td>\n",
              "      <td>1074.084557</td>\n",
              "      <td>1085.290177</td>\n",
              "      <td>1061.333931</td>\n",
              "      <td>Microsoft Boosts Conversational AI with $19.7 ...</td>\n",
              "      <td></td>\n",
              "      <td></td>\n",
              "      <td></td>\n",
              "      <td></td>\n",
              "    </tr>\n",
              "    <tr>\n",
              "      <th>2021-12-05</th>\n",
              "      <td>672</td>\n",
              "      <td>1073.5905</td>\n",
              "      <td>4.202192e+06</td>\n",
              "      <td>1074.084557</td>\n",
              "      <td>1085.290177</td>\n",
              "      <td>1061.333931</td>\n",
              "      <td>Judge in Epic Games v. Apple Trial appears to ...</td>\n",
              "      <td></td>\n",
              "      <td></td>\n",
              "      <td></td>\n",
              "      <td></td>\n",
              "    </tr>\n",
              "    <tr>\n",
              "      <th>2021-12-06</th>\n",
              "      <td>681</td>\n",
              "      <td>1073.5905</td>\n",
              "      <td>4.202192e+06</td>\n",
              "      <td>1074.084557</td>\n",
              "      <td>1085.290177</td>\n",
              "      <td>1061.333931</td>\n",
              "      <td>Japan to start antitrust probe on Apple, Googl...</td>\n",
              "      <td></td>\n",
              "      <td></td>\n",
              "      <td></td>\n",
              "      <td></td>\n",
              "    </tr>\n",
              "  </tbody>\n",
              "</table>\n",
              "<p>691 rows × 11 columns</p>\n",
              "</div>"
            ],
            "text/plain": [
              "            level_0      Close        Volume  ...  negative  neutral  positive\n",
              "Date                                          ...                             \n",
              "2015-01-04      398  1073.5905  4.202192e+06  ...                             \n",
              "2015-01-08      392   300.4600  3.087475e+06  ...                             \n",
              "2015-01-09      391   296.9300  2.589914e+06  ...                             \n",
              "2015-01-10      409  1073.5905  4.202192e+06  ...                             \n",
              "2015-01-11      412  1073.5905  4.202192e+06  ...                             \n",
              "...             ...        ...           ...  ...       ...      ...       ...\n",
              "2021-12-03      660  1073.5905  4.202192e+06  ...                             \n",
              "2021-12-03      659  1073.5905  4.202192e+06  ...                             \n",
              "2021-12-04      665  1073.5905  4.202192e+06  ...                             \n",
              "2021-12-05      672  1073.5905  4.202192e+06  ...                             \n",
              "2021-12-06      681  1073.5905  4.202192e+06  ...                             \n",
              "\n",
              "[691 rows x 11 columns]"
            ]
          },
          "metadata": {
            "tags": []
          },
          "execution_count": 46
        }
      ]
    },
    {
      "cell_type": "code",
      "metadata": {
        "colab": {
          "base_uri": "https://localhost:8080/"
        },
        "id": "UBaYIlsENtYO",
        "outputId": "895395c6-c498-40d7-b46f-8b1387dd8cec"
      },
      "source": [
        "import nltk\n",
        "nltk.download('vader_lexicon')"
      ],
      "execution_count": null,
      "outputs": [
        {
          "output_type": "stream",
          "text": [
            "[nltk_data] Downloading package vader_lexicon to /root/nltk_data...\n"
          ],
          "name": "stdout"
        },
        {
          "output_type": "execute_result",
          "data": {
            "text/plain": [
              "True"
            ]
          },
          "metadata": {
            "tags": []
          },
          "execution_count": 48
        }
      ]
    },
    {
      "cell_type": "code",
      "metadata": {
        "id": "INflhsYCNtjJ"
      },
      "source": [
        "from nltk.sentiment.vader import SentimentIntensityAnalyzer\n",
        "import unicodedata"
      ],
      "execution_count": null,
      "outputs": []
    },
    {
      "cell_type": "code",
      "metadata": {
        "id": "FqpKkJYrNtqC"
      },
      "source": [
        "sd=  SentimentIntensityAnalyzer()"
      ],
      "execution_count": null,
      "outputs": []
    },
    {
      "cell_type": "code",
      "metadata": {
        "colab": {
          "base_uri": "https://localhost:8080/",
          "height": 969
        },
        "id": "Vjya0EjgOtlI",
        "outputId": "4fd9dff1-3b96-4116-f07b-a7b0cf4f499a"
      },
      "source": [
        "amzn_mod['compound']=amzn_mod['Heading'].apply(lambda x: sd.polarity_scores(x)['compound'])\n",
        "amzn_mod['positive']=amzn_mod['Heading'].apply(lambda x: sd.polarity_scores(x)['pos'])\n",
        "amzn_mod['negative']=amzn_mod['Heading'].apply(lambda x: sd.polarity_scores(x)['neg'])\n",
        "amzn_mod['neutral']=amzn_mod['Heading'].apply(lambda x: sd.polarity_scores(x)['neu'])\n",
        "amzn_mod"
      ],
      "execution_count": null,
      "outputs": [
        {
          "output_type": "stream",
          "text": [
            "/usr/local/lib/python3.7/dist-packages/ipykernel_launcher.py:1: SettingWithCopyWarning:\n",
            "\n",
            "\n",
            "A value is trying to be set on a copy of a slice from a DataFrame.\n",
            "Try using .loc[row_indexer,col_indexer] = value instead\n",
            "\n",
            "See the caveats in the documentation: https://pandas.pydata.org/pandas-docs/stable/user_guide/indexing.html#returning-a-view-versus-a-copy\n",
            "\n",
            "/usr/local/lib/python3.7/dist-packages/ipykernel_launcher.py:2: SettingWithCopyWarning:\n",
            "\n",
            "\n",
            "A value is trying to be set on a copy of a slice from a DataFrame.\n",
            "Try using .loc[row_indexer,col_indexer] = value instead\n",
            "\n",
            "See the caveats in the documentation: https://pandas.pydata.org/pandas-docs/stable/user_guide/indexing.html#returning-a-view-versus-a-copy\n",
            "\n",
            "/usr/local/lib/python3.7/dist-packages/ipykernel_launcher.py:3: SettingWithCopyWarning:\n",
            "\n",
            "\n",
            "A value is trying to be set on a copy of a slice from a DataFrame.\n",
            "Try using .loc[row_indexer,col_indexer] = value instead\n",
            "\n",
            "See the caveats in the documentation: https://pandas.pydata.org/pandas-docs/stable/user_guide/indexing.html#returning-a-view-versus-a-copy\n",
            "\n",
            "/usr/local/lib/python3.7/dist-packages/ipykernel_launcher.py:4: SettingWithCopyWarning:\n",
            "\n",
            "\n",
            "A value is trying to be set on a copy of a slice from a DataFrame.\n",
            "Try using .loc[row_indexer,col_indexer] = value instead\n",
            "\n",
            "See the caveats in the documentation: https://pandas.pydata.org/pandas-docs/stable/user_guide/indexing.html#returning-a-view-versus-a-copy\n",
            "\n"
          ],
          "name": "stderr"
        },
        {
          "output_type": "execute_result",
          "data": {
            "text/html": [
              "<div>\n",
              "<style scoped>\n",
              "    .dataframe tbody tr th:only-of-type {\n",
              "        vertical-align: middle;\n",
              "    }\n",
              "\n",
              "    .dataframe tbody tr th {\n",
              "        vertical-align: top;\n",
              "    }\n",
              "\n",
              "    .dataframe thead th {\n",
              "        text-align: right;\n",
              "    }\n",
              "</style>\n",
              "<table border=\"1\" class=\"dataframe\">\n",
              "  <thead>\n",
              "    <tr style=\"text-align: right;\">\n",
              "      <th></th>\n",
              "      <th>level_0</th>\n",
              "      <th>Close</th>\n",
              "      <th>Volume</th>\n",
              "      <th>Open</th>\n",
              "      <th>High</th>\n",
              "      <th>Low</th>\n",
              "      <th>Heading</th>\n",
              "      <th>compound</th>\n",
              "      <th>negative</th>\n",
              "      <th>neutral</th>\n",
              "      <th>positive</th>\n",
              "    </tr>\n",
              "    <tr>\n",
              "      <th>Date</th>\n",
              "      <th></th>\n",
              "      <th></th>\n",
              "      <th></th>\n",
              "      <th></th>\n",
              "      <th></th>\n",
              "      <th></th>\n",
              "      <th></th>\n",
              "      <th></th>\n",
              "      <th></th>\n",
              "      <th></th>\n",
              "      <th></th>\n",
              "    </tr>\n",
              "  </thead>\n",
              "  <tbody>\n",
              "    <tr>\n",
              "      <th>2015-01-04</th>\n",
              "      <td>398</td>\n",
              "      <td>1073.5905</td>\n",
              "      <td>4.202192e+06</td>\n",
              "      <td>1074.084557</td>\n",
              "      <td>1085.290177</td>\n",
              "      <td>1061.333931</td>\n",
              "      <td>Apple Daily: Retina MacBook Unboxing Video; Ap...</td>\n",
              "      <td>0.9900</td>\n",
              "      <td>0.039</td>\n",
              "      <td>0.863</td>\n",
              "      <td>0.098</td>\n",
              "    </tr>\n",
              "    <tr>\n",
              "      <th>2015-01-08</th>\n",
              "      <td>392</td>\n",
              "      <td>300.4600</td>\n",
              "      <td>3.087475e+06</td>\n",
              "      <td>300.320000</td>\n",
              "      <td>303.140000</td>\n",
              "      <td>296.110000</td>\n",
              "      <td>Nomura Begins Coverage on Apple (AAPL) IBM cou...</td>\n",
              "      <td>0.4939</td>\n",
              "      <td>0.059</td>\n",
              "      <td>0.827</td>\n",
              "      <td>0.114</td>\n",
              "    </tr>\n",
              "    <tr>\n",
              "      <th>2015-01-09</th>\n",
              "      <td>391</td>\n",
              "      <td>296.9300</td>\n",
              "      <td>2.589914e+06</td>\n",
              "      <td>301.480000</td>\n",
              "      <td>302.870000</td>\n",
              "      <td>296.680000</td>\n",
              "      <td>Google&amp;quot;s (GOOGL) Self-Driving Cars to Hit...</td>\n",
              "      <td>0.9107</td>\n",
              "      <td>0.084</td>\n",
              "      <td>0.806</td>\n",
              "      <td>0.110</td>\n",
              "    </tr>\n",
              "    <tr>\n",
              "      <th>2015-01-10</th>\n",
              "      <td>409</td>\n",
              "      <td>1073.5905</td>\n",
              "      <td>4.202192e+06</td>\n",
              "      <td>1074.084557</td>\n",
              "      <td>1085.290177</td>\n",
              "      <td>1061.333931</td>\n",
              "      <td>Apple Initiated Buy With $200 PT At Drexel Ham...</td>\n",
              "      <td>0.9268</td>\n",
              "      <td>0.060</td>\n",
              "      <td>0.848</td>\n",
              "      <td>0.092</td>\n",
              "    </tr>\n",
              "    <tr>\n",
              "      <th>2015-01-11</th>\n",
              "      <td>412</td>\n",
              "      <td>1073.5905</td>\n",
              "      <td>4.202192e+06</td>\n",
              "      <td>1074.084557</td>\n",
              "      <td>1085.290177</td>\n",
              "      <td>1061.333931</td>\n",
              "      <td>Does An Apple Watch Discount Point To Flagging...</td>\n",
              "      <td>0.8290</td>\n",
              "      <td>0.045</td>\n",
              "      <td>0.840</td>\n",
              "      <td>0.115</td>\n",
              "    </tr>\n",
              "    <tr>\n",
              "      <th>...</th>\n",
              "      <td>...</td>\n",
              "      <td>...</td>\n",
              "      <td>...</td>\n",
              "      <td>...</td>\n",
              "      <td>...</td>\n",
              "      <td>...</td>\n",
              "      <td>...</td>\n",
              "      <td>...</td>\n",
              "      <td>...</td>\n",
              "      <td>...</td>\n",
              "      <td>...</td>\n",
              "    </tr>\n",
              "    <tr>\n",
              "      <th>2021-12-03</th>\n",
              "      <td>660</td>\n",
              "      <td>1073.5905</td>\n",
              "      <td>4.202192e+06</td>\n",
              "      <td>1074.084557</td>\n",
              "      <td>1085.290177</td>\n",
              "      <td>1061.333931</td>\n",
              "      <td>How to cancel an Apple One subscription once y...</td>\n",
              "      <td>0.9964</td>\n",
              "      <td>0.035</td>\n",
              "      <td>0.847</td>\n",
              "      <td>0.117</td>\n",
              "    </tr>\n",
              "    <tr>\n",
              "      <th>2021-12-03</th>\n",
              "      <td>659</td>\n",
              "      <td>1073.5905</td>\n",
              "      <td>4.202192e+06</td>\n",
              "      <td>1074.084557</td>\n",
              "      <td>1085.290177</td>\n",
              "      <td>1061.333931</td>\n",
              "      <td>How to cancel an Apple One subscription once y...</td>\n",
              "      <td>0.9964</td>\n",
              "      <td>0.035</td>\n",
              "      <td>0.847</td>\n",
              "      <td>0.117</td>\n",
              "    </tr>\n",
              "    <tr>\n",
              "      <th>2021-12-04</th>\n",
              "      <td>665</td>\n",
              "      <td>1073.5905</td>\n",
              "      <td>4.202192e+06</td>\n",
              "      <td>1074.084557</td>\n",
              "      <td>1085.290177</td>\n",
              "      <td>1061.333931</td>\n",
              "      <td>Microsoft Boosts Conversational AI with $19.7 ...</td>\n",
              "      <td>0.9792</td>\n",
              "      <td>0.055</td>\n",
              "      <td>0.866</td>\n",
              "      <td>0.079</td>\n",
              "    </tr>\n",
              "    <tr>\n",
              "      <th>2021-12-05</th>\n",
              "      <td>672</td>\n",
              "      <td>1073.5905</td>\n",
              "      <td>4.202192e+06</td>\n",
              "      <td>1074.084557</td>\n",
              "      <td>1085.290177</td>\n",
              "      <td>1061.333931</td>\n",
              "      <td>Judge in Epic Games v. Apple Trial appears to ...</td>\n",
              "      <td>0.9923</td>\n",
              "      <td>0.067</td>\n",
              "      <td>0.822</td>\n",
              "      <td>0.111</td>\n",
              "    </tr>\n",
              "    <tr>\n",
              "      <th>2021-12-06</th>\n",
              "      <td>681</td>\n",
              "      <td>1073.5905</td>\n",
              "      <td>4.202192e+06</td>\n",
              "      <td>1074.084557</td>\n",
              "      <td>1085.290177</td>\n",
              "      <td>1061.333931</td>\n",
              "      <td>Japan to start antitrust probe on Apple, Googl...</td>\n",
              "      <td>0.9869</td>\n",
              "      <td>0.035</td>\n",
              "      <td>0.858</td>\n",
              "      <td>0.107</td>\n",
              "    </tr>\n",
              "  </tbody>\n",
              "</table>\n",
              "<p>691 rows × 11 columns</p>\n",
              "</div>"
            ],
            "text/plain": [
              "            level_0      Close        Volume  ...  negative  neutral  positive\n",
              "Date                                          ...                             \n",
              "2015-01-04      398  1073.5905  4.202192e+06  ...     0.039    0.863     0.098\n",
              "2015-01-08      392   300.4600  3.087475e+06  ...     0.059    0.827     0.114\n",
              "2015-01-09      391   296.9300  2.589914e+06  ...     0.084    0.806     0.110\n",
              "2015-01-10      409  1073.5905  4.202192e+06  ...     0.060    0.848     0.092\n",
              "2015-01-11      412  1073.5905  4.202192e+06  ...     0.045    0.840     0.115\n",
              "...             ...        ...           ...  ...       ...      ...       ...\n",
              "2021-12-03      660  1073.5905  4.202192e+06  ...     0.035    0.847     0.117\n",
              "2021-12-03      659  1073.5905  4.202192e+06  ...     0.035    0.847     0.117\n",
              "2021-12-04      665  1073.5905  4.202192e+06  ...     0.055    0.866     0.079\n",
              "2021-12-05      672  1073.5905  4.202192e+06  ...     0.067    0.822     0.111\n",
              "2021-12-06      681  1073.5905  4.202192e+06  ...     0.035    0.858     0.107\n",
              "\n",
              "[691 rows x 11 columns]"
            ]
          },
          "metadata": {
            "tags": []
          },
          "execution_count": 53
        }
      ]
    },
    {
      "cell_type": "code",
      "metadata": {
        "colab": {
          "base_uri": "https://localhost:8080/"
        },
        "id": "OsBFoMQaPnXK",
        "outputId": "71901c9d-d211-448b-d9d0-667fb6ef4867"
      },
      "source": [
        "amzn_mod.columns"
      ],
      "execution_count": null,
      "outputs": [
        {
          "output_type": "execute_result",
          "data": {
            "text/plain": [
              "Index(['level_0', 'Close', 'Volume', 'Open', 'High', 'Low', 'Heading',\n",
              "       'compound', 'negative', 'neutral', 'positive'],\n",
              "      dtype='object')"
            ]
          },
          "metadata": {
            "tags": []
          },
          "execution_count": 54
        }
      ]
    },
    {
      "cell_type": "code",
      "metadata": {
        "colab": {
          "base_uri": "https://localhost:8080/",
          "height": 431
        },
        "id": "ZWW3ug2kPnay",
        "outputId": "85c230b8-6f7e-49ae-ed43-cfe643f25a61"
      },
      "source": [
        "amzn_mod= amzn_mod[['Close','compound','negative','neutral','positive','Open','High','Low','Volume']]\n",
        "amzn_mod"
      ],
      "execution_count": null,
      "outputs": [
        {
          "output_type": "execute_result",
          "data": {
            "text/html": [
              "<div>\n",
              "<style scoped>\n",
              "    .dataframe tbody tr th:only-of-type {\n",
              "        vertical-align: middle;\n",
              "    }\n",
              "\n",
              "    .dataframe tbody tr th {\n",
              "        vertical-align: top;\n",
              "    }\n",
              "\n",
              "    .dataframe thead th {\n",
              "        text-align: right;\n",
              "    }\n",
              "</style>\n",
              "<table border=\"1\" class=\"dataframe\">\n",
              "  <thead>\n",
              "    <tr style=\"text-align: right;\">\n",
              "      <th></th>\n",
              "      <th>Close</th>\n",
              "      <th>compound</th>\n",
              "      <th>negative</th>\n",
              "      <th>neutral</th>\n",
              "      <th>positive</th>\n",
              "      <th>Open</th>\n",
              "      <th>High</th>\n",
              "      <th>Low</th>\n",
              "      <th>Volume</th>\n",
              "    </tr>\n",
              "    <tr>\n",
              "      <th>Date</th>\n",
              "      <th></th>\n",
              "      <th></th>\n",
              "      <th></th>\n",
              "      <th></th>\n",
              "      <th></th>\n",
              "      <th></th>\n",
              "      <th></th>\n",
              "      <th></th>\n",
              "      <th></th>\n",
              "    </tr>\n",
              "  </thead>\n",
              "  <tbody>\n",
              "    <tr>\n",
              "      <th>2015-01-04</th>\n",
              "      <td>1073.5905</td>\n",
              "      <td>0.9900</td>\n",
              "      <td>0.039</td>\n",
              "      <td>0.863</td>\n",
              "      <td>0.098</td>\n",
              "      <td>1074.084557</td>\n",
              "      <td>1085.290177</td>\n",
              "      <td>1061.333931</td>\n",
              "      <td>4.202192e+06</td>\n",
              "    </tr>\n",
              "    <tr>\n",
              "      <th>2015-01-08</th>\n",
              "      <td>300.4600</td>\n",
              "      <td>0.4939</td>\n",
              "      <td>0.059</td>\n",
              "      <td>0.827</td>\n",
              "      <td>0.114</td>\n",
              "      <td>300.320000</td>\n",
              "      <td>303.140000</td>\n",
              "      <td>296.110000</td>\n",
              "      <td>3.087475e+06</td>\n",
              "    </tr>\n",
              "    <tr>\n",
              "      <th>2015-01-09</th>\n",
              "      <td>296.9300</td>\n",
              "      <td>0.9107</td>\n",
              "      <td>0.084</td>\n",
              "      <td>0.806</td>\n",
              "      <td>0.110</td>\n",
              "      <td>301.480000</td>\n",
              "      <td>302.870000</td>\n",
              "      <td>296.680000</td>\n",
              "      <td>2.589914e+06</td>\n",
              "    </tr>\n",
              "    <tr>\n",
              "      <th>2015-01-10</th>\n",
              "      <td>1073.5905</td>\n",
              "      <td>0.9268</td>\n",
              "      <td>0.060</td>\n",
              "      <td>0.848</td>\n",
              "      <td>0.092</td>\n",
              "      <td>1074.084557</td>\n",
              "      <td>1085.290177</td>\n",
              "      <td>1061.333931</td>\n",
              "      <td>4.202192e+06</td>\n",
              "    </tr>\n",
              "    <tr>\n",
              "      <th>2015-01-11</th>\n",
              "      <td>1073.5905</td>\n",
              "      <td>0.8290</td>\n",
              "      <td>0.045</td>\n",
              "      <td>0.840</td>\n",
              "      <td>0.115</td>\n",
              "      <td>1074.084557</td>\n",
              "      <td>1085.290177</td>\n",
              "      <td>1061.333931</td>\n",
              "      <td>4.202192e+06</td>\n",
              "    </tr>\n",
              "    <tr>\n",
              "      <th>...</th>\n",
              "      <td>...</td>\n",
              "      <td>...</td>\n",
              "      <td>...</td>\n",
              "      <td>...</td>\n",
              "      <td>...</td>\n",
              "      <td>...</td>\n",
              "      <td>...</td>\n",
              "      <td>...</td>\n",
              "      <td>...</td>\n",
              "    </tr>\n",
              "    <tr>\n",
              "      <th>2021-12-03</th>\n",
              "      <td>1073.5905</td>\n",
              "      <td>0.9964</td>\n",
              "      <td>0.035</td>\n",
              "      <td>0.847</td>\n",
              "      <td>0.117</td>\n",
              "      <td>1074.084557</td>\n",
              "      <td>1085.290177</td>\n",
              "      <td>1061.333931</td>\n",
              "      <td>4.202192e+06</td>\n",
              "    </tr>\n",
              "    <tr>\n",
              "      <th>2021-12-03</th>\n",
              "      <td>1073.5905</td>\n",
              "      <td>0.9964</td>\n",
              "      <td>0.035</td>\n",
              "      <td>0.847</td>\n",
              "      <td>0.117</td>\n",
              "      <td>1074.084557</td>\n",
              "      <td>1085.290177</td>\n",
              "      <td>1061.333931</td>\n",
              "      <td>4.202192e+06</td>\n",
              "    </tr>\n",
              "    <tr>\n",
              "      <th>2021-12-04</th>\n",
              "      <td>1073.5905</td>\n",
              "      <td>0.9792</td>\n",
              "      <td>0.055</td>\n",
              "      <td>0.866</td>\n",
              "      <td>0.079</td>\n",
              "      <td>1074.084557</td>\n",
              "      <td>1085.290177</td>\n",
              "      <td>1061.333931</td>\n",
              "      <td>4.202192e+06</td>\n",
              "    </tr>\n",
              "    <tr>\n",
              "      <th>2021-12-05</th>\n",
              "      <td>1073.5905</td>\n",
              "      <td>0.9923</td>\n",
              "      <td>0.067</td>\n",
              "      <td>0.822</td>\n",
              "      <td>0.111</td>\n",
              "      <td>1074.084557</td>\n",
              "      <td>1085.290177</td>\n",
              "      <td>1061.333931</td>\n",
              "      <td>4.202192e+06</td>\n",
              "    </tr>\n",
              "    <tr>\n",
              "      <th>2021-12-06</th>\n",
              "      <td>1073.5905</td>\n",
              "      <td>0.9869</td>\n",
              "      <td>0.035</td>\n",
              "      <td>0.858</td>\n",
              "      <td>0.107</td>\n",
              "      <td>1074.084557</td>\n",
              "      <td>1085.290177</td>\n",
              "      <td>1061.333931</td>\n",
              "      <td>4.202192e+06</td>\n",
              "    </tr>\n",
              "  </tbody>\n",
              "</table>\n",
              "<p>691 rows × 9 columns</p>\n",
              "</div>"
            ],
            "text/plain": [
              "                Close  compound  ...          Low        Volume\n",
              "Date                             ...                           \n",
              "2015-01-04  1073.5905    0.9900  ...  1061.333931  4.202192e+06\n",
              "2015-01-08   300.4600    0.4939  ...   296.110000  3.087475e+06\n",
              "2015-01-09   296.9300    0.9107  ...   296.680000  2.589914e+06\n",
              "2015-01-10  1073.5905    0.9268  ...  1061.333931  4.202192e+06\n",
              "2015-01-11  1073.5905    0.8290  ...  1061.333931  4.202192e+06\n",
              "...               ...       ...  ...          ...           ...\n",
              "2021-12-03  1073.5905    0.9964  ...  1061.333931  4.202192e+06\n",
              "2021-12-03  1073.5905    0.9964  ...  1061.333931  4.202192e+06\n",
              "2021-12-04  1073.5905    0.9792  ...  1061.333931  4.202192e+06\n",
              "2021-12-05  1073.5905    0.9923  ...  1061.333931  4.202192e+06\n",
              "2021-12-06  1073.5905    0.9869  ...  1061.333931  4.202192e+06\n",
              "\n",
              "[691 rows x 9 columns]"
            ]
          },
          "metadata": {
            "tags": []
          },
          "execution_count": 55
        }
      ]
    },
    {
      "cell_type": "markdown",
      "metadata": {
        "id": "dFIgKrxNmnfh"
      },
      "source": [
        "# data preparation"
      ]
    },
    {
      "cell_type": "code",
      "metadata": {
        "id": "t1Kd00oXQJV4"
      },
      "source": [
        "amznstockdata= amzn_mod.to_csv('amznstockdata.csv')"
      ],
      "execution_count": null,
      "outputs": []
    },
    {
      "cell_type": "code",
      "metadata": {
        "colab": {
          "base_uri": "https://localhost:8080/",
          "height": 431
        },
        "id": "hR-jFDmFPnd7",
        "outputId": "768b4bd4-dfb3-40f7-b7c6-766a9de18ecf"
      },
      "source": [
        "amznstockdata= pd.read_csv('amznstockdata.csv', index_col=False)\n",
        "amznstockdata.rename(columns={'Unnamed: 0':'Date'}, inplace=True)\n",
        "amznstockdata.set_index('Date', inplace=True)\n",
        "amznstockdata"
      ],
      "execution_count": null,
      "outputs": [
        {
          "output_type": "execute_result",
          "data": {
            "text/html": [
              "<div>\n",
              "<style scoped>\n",
              "    .dataframe tbody tr th:only-of-type {\n",
              "        vertical-align: middle;\n",
              "    }\n",
              "\n",
              "    .dataframe tbody tr th {\n",
              "        vertical-align: top;\n",
              "    }\n",
              "\n",
              "    .dataframe thead th {\n",
              "        text-align: right;\n",
              "    }\n",
              "</style>\n",
              "<table border=\"1\" class=\"dataframe\">\n",
              "  <thead>\n",
              "    <tr style=\"text-align: right;\">\n",
              "      <th></th>\n",
              "      <th>Close</th>\n",
              "      <th>compound</th>\n",
              "      <th>negative</th>\n",
              "      <th>neutral</th>\n",
              "      <th>positive</th>\n",
              "      <th>Open</th>\n",
              "      <th>High</th>\n",
              "      <th>Low</th>\n",
              "      <th>Volume</th>\n",
              "    </tr>\n",
              "    <tr>\n",
              "      <th>Date</th>\n",
              "      <th></th>\n",
              "      <th></th>\n",
              "      <th></th>\n",
              "      <th></th>\n",
              "      <th></th>\n",
              "      <th></th>\n",
              "      <th></th>\n",
              "      <th></th>\n",
              "      <th></th>\n",
              "    </tr>\n",
              "  </thead>\n",
              "  <tbody>\n",
              "    <tr>\n",
              "      <th>2015-01-04</th>\n",
              "      <td>1073.5905</td>\n",
              "      <td>0.9900</td>\n",
              "      <td>0.039</td>\n",
              "      <td>0.863</td>\n",
              "      <td>0.098</td>\n",
              "      <td>1074.084557</td>\n",
              "      <td>1085.290177</td>\n",
              "      <td>1061.333931</td>\n",
              "      <td>4.202192e+06</td>\n",
              "    </tr>\n",
              "    <tr>\n",
              "      <th>2015-01-08</th>\n",
              "      <td>300.4600</td>\n",
              "      <td>0.4939</td>\n",
              "      <td>0.059</td>\n",
              "      <td>0.827</td>\n",
              "      <td>0.114</td>\n",
              "      <td>300.320000</td>\n",
              "      <td>303.140000</td>\n",
              "      <td>296.110000</td>\n",
              "      <td>3.087475e+06</td>\n",
              "    </tr>\n",
              "    <tr>\n",
              "      <th>2015-01-09</th>\n",
              "      <td>296.9300</td>\n",
              "      <td>0.9107</td>\n",
              "      <td>0.084</td>\n",
              "      <td>0.806</td>\n",
              "      <td>0.110</td>\n",
              "      <td>301.480000</td>\n",
              "      <td>302.870000</td>\n",
              "      <td>296.680000</td>\n",
              "      <td>2.589914e+06</td>\n",
              "    </tr>\n",
              "    <tr>\n",
              "      <th>2015-01-10</th>\n",
              "      <td>1073.5905</td>\n",
              "      <td>0.9268</td>\n",
              "      <td>0.060</td>\n",
              "      <td>0.848</td>\n",
              "      <td>0.092</td>\n",
              "      <td>1074.084557</td>\n",
              "      <td>1085.290177</td>\n",
              "      <td>1061.333931</td>\n",
              "      <td>4.202192e+06</td>\n",
              "    </tr>\n",
              "    <tr>\n",
              "      <th>2015-01-11</th>\n",
              "      <td>1073.5905</td>\n",
              "      <td>0.8290</td>\n",
              "      <td>0.045</td>\n",
              "      <td>0.840</td>\n",
              "      <td>0.115</td>\n",
              "      <td>1074.084557</td>\n",
              "      <td>1085.290177</td>\n",
              "      <td>1061.333931</td>\n",
              "      <td>4.202192e+06</td>\n",
              "    </tr>\n",
              "    <tr>\n",
              "      <th>...</th>\n",
              "      <td>...</td>\n",
              "      <td>...</td>\n",
              "      <td>...</td>\n",
              "      <td>...</td>\n",
              "      <td>...</td>\n",
              "      <td>...</td>\n",
              "      <td>...</td>\n",
              "      <td>...</td>\n",
              "      <td>...</td>\n",
              "    </tr>\n",
              "    <tr>\n",
              "      <th>2021-12-03</th>\n",
              "      <td>1073.5905</td>\n",
              "      <td>0.9964</td>\n",
              "      <td>0.035</td>\n",
              "      <td>0.847</td>\n",
              "      <td>0.117</td>\n",
              "      <td>1074.084557</td>\n",
              "      <td>1085.290177</td>\n",
              "      <td>1061.333931</td>\n",
              "      <td>4.202192e+06</td>\n",
              "    </tr>\n",
              "    <tr>\n",
              "      <th>2021-12-03</th>\n",
              "      <td>1073.5905</td>\n",
              "      <td>0.9964</td>\n",
              "      <td>0.035</td>\n",
              "      <td>0.847</td>\n",
              "      <td>0.117</td>\n",
              "      <td>1074.084557</td>\n",
              "      <td>1085.290177</td>\n",
              "      <td>1061.333931</td>\n",
              "      <td>4.202192e+06</td>\n",
              "    </tr>\n",
              "    <tr>\n",
              "      <th>2021-12-04</th>\n",
              "      <td>1073.5905</td>\n",
              "      <td>0.9792</td>\n",
              "      <td>0.055</td>\n",
              "      <td>0.866</td>\n",
              "      <td>0.079</td>\n",
              "      <td>1074.084557</td>\n",
              "      <td>1085.290177</td>\n",
              "      <td>1061.333931</td>\n",
              "      <td>4.202192e+06</td>\n",
              "    </tr>\n",
              "    <tr>\n",
              "      <th>2021-12-05</th>\n",
              "      <td>1073.5905</td>\n",
              "      <td>0.9923</td>\n",
              "      <td>0.067</td>\n",
              "      <td>0.822</td>\n",
              "      <td>0.111</td>\n",
              "      <td>1074.084557</td>\n",
              "      <td>1085.290177</td>\n",
              "      <td>1061.333931</td>\n",
              "      <td>4.202192e+06</td>\n",
              "    </tr>\n",
              "    <tr>\n",
              "      <th>2021-12-06</th>\n",
              "      <td>1073.5905</td>\n",
              "      <td>0.9869</td>\n",
              "      <td>0.035</td>\n",
              "      <td>0.858</td>\n",
              "      <td>0.107</td>\n",
              "      <td>1074.084557</td>\n",
              "      <td>1085.290177</td>\n",
              "      <td>1061.333931</td>\n",
              "      <td>4.202192e+06</td>\n",
              "    </tr>\n",
              "  </tbody>\n",
              "</table>\n",
              "<p>691 rows × 9 columns</p>\n",
              "</div>"
            ],
            "text/plain": [
              "                Close  compound  ...          Low        Volume\n",
              "Date                             ...                           \n",
              "2015-01-04  1073.5905    0.9900  ...  1061.333931  4.202192e+06\n",
              "2015-01-08   300.4600    0.4939  ...   296.110000  3.087475e+06\n",
              "2015-01-09   296.9300    0.9107  ...   296.680000  2.589914e+06\n",
              "2015-01-10  1073.5905    0.9268  ...  1061.333931  4.202192e+06\n",
              "2015-01-11  1073.5905    0.8290  ...  1061.333931  4.202192e+06\n",
              "...               ...       ...  ...          ...           ...\n",
              "2021-12-03  1073.5905    0.9964  ...  1061.333931  4.202192e+06\n",
              "2021-12-03  1073.5905    0.9964  ...  1061.333931  4.202192e+06\n",
              "2021-12-04  1073.5905    0.9792  ...  1061.333931  4.202192e+06\n",
              "2021-12-05  1073.5905    0.9923  ...  1061.333931  4.202192e+06\n",
              "2021-12-06  1073.5905    0.9869  ...  1061.333931  4.202192e+06\n",
              "\n",
              "[691 rows x 9 columns]"
            ]
          },
          "metadata": {
            "tags": []
          },
          "execution_count": 59
        }
      ]
    },
    {
      "cell_type": "code",
      "metadata": {
        "colab": {
          "base_uri": "https://localhost:8080/"
        },
        "id": "QMInmo85PnhZ",
        "outputId": "0bb23427-3107-4472-fa52-4b9f02ddbe75"
      },
      "source": [
        "amznstockdata.shape\n"
      ],
      "execution_count": null,
      "outputs": [
        {
          "output_type": "execute_result",
          "data": {
            "text/plain": [
              "(691, 9)"
            ]
          },
          "metadata": {
            "tags": []
          },
          "execution_count": 61
        }
      ]
    },
    {
      "cell_type": "code",
      "metadata": {
        "colab": {
          "base_uri": "https://localhost:8080/"
        },
        "id": "Mga8J1sFPnp2",
        "outputId": "c634cbfe-b130-4af3-d12c-d6246e8ca37b"
      },
      "source": [
        "amznstockdata.isna().any()"
      ],
      "execution_count": null,
      "outputs": [
        {
          "output_type": "execute_result",
          "data": {
            "text/plain": [
              "Close       False\n",
              "compound    False\n",
              "negative    False\n",
              "neutral     False\n",
              "positive    False\n",
              "Open        False\n",
              "High        False\n",
              "Low         False\n",
              "Volume      False\n",
              "dtype: bool"
            ]
          },
          "metadata": {
            "tags": []
          },
          "execution_count": 63
        }
      ]
    },
    {
      "cell_type": "code",
      "metadata": {
        "colab": {
          "base_uri": "https://localhost:8080/"
        },
        "id": "fu297Jt2R1_t",
        "outputId": "c03cff69-4764-4406-931d-44e8a6a399bf"
      },
      "source": [
        "amznstockdata.info()"
      ],
      "execution_count": null,
      "outputs": [
        {
          "output_type": "stream",
          "text": [
            "<class 'pandas.core.frame.DataFrame'>\n",
            "Index: 691 entries, 2015-01-04 to 2021-12-06\n",
            "Data columns (total 9 columns):\n",
            " #   Column    Non-Null Count  Dtype  \n",
            "---  ------    --------------  -----  \n",
            " 0   Close     691 non-null    float64\n",
            " 1   compound  691 non-null    float64\n",
            " 2   negative  691 non-null    float64\n",
            " 3   neutral   691 non-null    float64\n",
            " 4   positive  691 non-null    float64\n",
            " 5   Open      691 non-null    float64\n",
            " 6   High      691 non-null    float64\n",
            " 7   Low       691 non-null    float64\n",
            " 8   Volume    691 non-null    float64\n",
            "dtypes: float64(9)\n",
            "memory usage: 74.0+ KB\n"
          ],
          "name": "stdout"
        }
      ]
    },
    {
      "cell_type": "code",
      "metadata": {
        "colab": {
          "base_uri": "https://localhost:8080/",
          "height": 284
        },
        "id": "VMu7o439RrSy",
        "outputId": "04189120-7f0b-406b-9f88-5ff807bb8d36"
      },
      "source": [
        "amznstockdata.describe(include='all')"
      ],
      "execution_count": null,
      "outputs": [
        {
          "output_type": "execute_result",
          "data": {
            "text/html": [
              "<div>\n",
              "<style scoped>\n",
              "    .dataframe tbody tr th:only-of-type {\n",
              "        vertical-align: middle;\n",
              "    }\n",
              "\n",
              "    .dataframe tbody tr th {\n",
              "        vertical-align: top;\n",
              "    }\n",
              "\n",
              "    .dataframe thead th {\n",
              "        text-align: right;\n",
              "    }\n",
              "</style>\n",
              "<table border=\"1\" class=\"dataframe\">\n",
              "  <thead>\n",
              "    <tr style=\"text-align: right;\">\n",
              "      <th></th>\n",
              "      <th>Close</th>\n",
              "      <th>compound</th>\n",
              "      <th>negative</th>\n",
              "      <th>neutral</th>\n",
              "      <th>positive</th>\n",
              "      <th>Open</th>\n",
              "      <th>High</th>\n",
              "      <th>Low</th>\n",
              "      <th>Volume</th>\n",
              "    </tr>\n",
              "  </thead>\n",
              "  <tbody>\n",
              "    <tr>\n",
              "      <th>count</th>\n",
              "      <td>691.000000</td>\n",
              "      <td>691.000000</td>\n",
              "      <td>691.000000</td>\n",
              "      <td>691.000000</td>\n",
              "      <td>691.000000</td>\n",
              "      <td>691.000000</td>\n",
              "      <td>691.000000</td>\n",
              "      <td>691.000000</td>\n",
              "      <td>6.910000e+02</td>\n",
              "    </tr>\n",
              "    <tr>\n",
              "      <th>mean</th>\n",
              "      <td>1419.064022</td>\n",
              "      <td>0.639964</td>\n",
              "      <td>0.054677</td>\n",
              "      <td>0.844336</td>\n",
              "      <td>0.100994</td>\n",
              "      <td>1419.226473</td>\n",
              "      <td>1434.863704</td>\n",
              "      <td>1402.650127</td>\n",
              "      <td>4.220032e+06</td>\n",
              "    </tr>\n",
              "    <tr>\n",
              "      <th>std</th>\n",
              "      <td>842.415213</td>\n",
              "      <td>0.614584</td>\n",
              "      <td>0.033794</td>\n",
              "      <td>0.042580</td>\n",
              "      <td>0.033682</td>\n",
              "      <td>843.838711</td>\n",
              "      <td>853.868213</td>\n",
              "      <td>832.920440</td>\n",
              "      <td>1.863320e+06</td>\n",
              "    </tr>\n",
              "    <tr>\n",
              "      <th>min</th>\n",
              "      <td>286.950000</td>\n",
              "      <td>-0.999500</td>\n",
              "      <td>0.000000</td>\n",
              "      <td>0.674000</td>\n",
              "      <td>0.000000</td>\n",
              "      <td>286.280000</td>\n",
              "      <td>290.790000</td>\n",
              "      <td>285.250000</td>\n",
              "      <td>8.813370e+05</td>\n",
              "    </tr>\n",
              "    <tr>\n",
              "      <th>25%</th>\n",
              "      <td>1073.590500</td>\n",
              "      <td>0.647550</td>\n",
              "      <td>0.032500</td>\n",
              "      <td>0.823500</td>\n",
              "      <td>0.079000</td>\n",
              "      <td>1074.084557</td>\n",
              "      <td>1085.290177</td>\n",
              "      <td>1061.333931</td>\n",
              "      <td>3.319038e+06</td>\n",
              "    </tr>\n",
              "    <tr>\n",
              "      <th>50%</th>\n",
              "      <td>1073.590500</td>\n",
              "      <td>0.958000</td>\n",
              "      <td>0.049000</td>\n",
              "      <td>0.847000</td>\n",
              "      <td>0.098000</td>\n",
              "      <td>1074.084557</td>\n",
              "      <td>1085.290177</td>\n",
              "      <td>1061.333931</td>\n",
              "      <td>4.202192e+06</td>\n",
              "    </tr>\n",
              "    <tr>\n",
              "      <th>75%</th>\n",
              "      <td>1774.050000</td>\n",
              "      <td>0.991750</td>\n",
              "      <td>0.069000</td>\n",
              "      <td>0.869000</td>\n",
              "      <td>0.123500</td>\n",
              "      <td>1763.600000</td>\n",
              "      <td>1783.337550</td>\n",
              "      <td>1749.560000</td>\n",
              "      <td>4.202192e+06</td>\n",
              "    </tr>\n",
              "    <tr>\n",
              "      <th>max</th>\n",
              "      <td>3531.450000</td>\n",
              "      <td>0.999400</td>\n",
              "      <td>0.241000</td>\n",
              "      <td>0.978000</td>\n",
              "      <td>0.215000</td>\n",
              "      <td>3547.000000</td>\n",
              "      <td>3554.000000</td>\n",
              "      <td>3486.685000</td>\n",
              "      <td>2.384672e+07</td>\n",
              "    </tr>\n",
              "  </tbody>\n",
              "</table>\n",
              "</div>"
            ],
            "text/plain": [
              "             Close    compound  ...          Low        Volume\n",
              "count   691.000000  691.000000  ...   691.000000  6.910000e+02\n",
              "mean   1419.064022    0.639964  ...  1402.650127  4.220032e+06\n",
              "std     842.415213    0.614584  ...   832.920440  1.863320e+06\n",
              "min     286.950000   -0.999500  ...   285.250000  8.813370e+05\n",
              "25%    1073.590500    0.647550  ...  1061.333931  3.319038e+06\n",
              "50%    1073.590500    0.958000  ...  1061.333931  4.202192e+06\n",
              "75%    1774.050000    0.991750  ...  1749.560000  4.202192e+06\n",
              "max    3531.450000    0.999400  ...  3486.685000  2.384672e+07\n",
              "\n",
              "[8 rows x 9 columns]"
            ]
          },
          "metadata": {
            "tags": []
          },
          "execution_count": 64
        }
      ]
    },
    {
      "cell_type": "code",
      "metadata": {
        "colab": {
          "base_uri": "https://localhost:8080/"
        },
        "id": "NCaJwgVkRrWS",
        "outputId": "e27ea41a-03ed-45ee-96c4-821878c84cd0"
      },
      "source": [
        "#data to be used for each column\n",
        "close_price= amznstockdata.iloc[:,0]\n",
        "#print close price\n",
        "print(\"Close Price\")\n",
        "close_price"
      ],
      "execution_count": null,
      "outputs": [
        {
          "output_type": "stream",
          "text": [
            "Close Price\n"
          ],
          "name": "stdout"
        },
        {
          "output_type": "execute_result",
          "data": {
            "text/plain": [
              "Date\n",
              "2015-01-04    1073.5905\n",
              "2015-01-08     300.4600\n",
              "2015-01-09     296.9300\n",
              "2015-01-10    1073.5905\n",
              "2015-01-11    1073.5905\n",
              "                ...    \n",
              "2021-12-03    1073.5905\n",
              "2021-12-03    1073.5905\n",
              "2021-12-04    1073.5905\n",
              "2021-12-05    1073.5905\n",
              "2021-12-06    1073.5905\n",
              "Name: Close, Length: 691, dtype: float64"
            ]
          },
          "metadata": {
            "tags": []
          },
          "execution_count": 66
        }
      ]
    },
    {
      "cell_type": "code",
      "metadata": {
        "colab": {
          "base_uri": "https://localhost:8080/",
          "height": 521
        },
        "id": "5sdCvkuIRra4",
        "outputId": "7bcb8485-fafc-4559-d559-d0d81183d87b"
      },
      "source": [
        "#concatenating the captured train data into a df\n",
        "need_data = pd.concat([close_price], axis=1)\n",
        "#revised stock data column name\n",
        "need_data.columns = ['close_price']\n",
        "need_data.tail(15)"
      ],
      "execution_count": null,
      "outputs": [
        {
          "output_type": "execute_result",
          "data": {
            "text/html": [
              "<div>\n",
              "<style scoped>\n",
              "    .dataframe tbody tr th:only-of-type {\n",
              "        vertical-align: middle;\n",
              "    }\n",
              "\n",
              "    .dataframe tbody tr th {\n",
              "        vertical-align: top;\n",
              "    }\n",
              "\n",
              "    .dataframe thead th {\n",
              "        text-align: right;\n",
              "    }\n",
              "</style>\n",
              "<table border=\"1\" class=\"dataframe\">\n",
              "  <thead>\n",
              "    <tr style=\"text-align: right;\">\n",
              "      <th></th>\n",
              "      <th>close_price</th>\n",
              "    </tr>\n",
              "    <tr>\n",
              "      <th>Date</th>\n",
              "      <th></th>\n",
              "    </tr>\n",
              "  </thead>\n",
              "  <tbody>\n",
              "    <tr>\n",
              "      <th>2021-10-05</th>\n",
              "      <td>1073.5905</td>\n",
              "    </tr>\n",
              "    <tr>\n",
              "      <th>2021-10-06</th>\n",
              "      <td>1073.5905</td>\n",
              "    </tr>\n",
              "    <tr>\n",
              "      <th>2021-11-01</th>\n",
              "      <td>1073.5905</td>\n",
              "    </tr>\n",
              "    <tr>\n",
              "      <th>2021-11-02</th>\n",
              "      <td>1073.5905</td>\n",
              "    </tr>\n",
              "    <tr>\n",
              "      <th>2021-11-03</th>\n",
              "      <td>1073.5905</td>\n",
              "    </tr>\n",
              "    <tr>\n",
              "      <th>2021-11-03</th>\n",
              "      <td>1073.5905</td>\n",
              "    </tr>\n",
              "    <tr>\n",
              "      <th>2021-11-05</th>\n",
              "      <td>1073.5905</td>\n",
              "    </tr>\n",
              "    <tr>\n",
              "      <th>2021-11-06</th>\n",
              "      <td>1073.5905</td>\n",
              "    </tr>\n",
              "    <tr>\n",
              "      <th>2021-12-01</th>\n",
              "      <td>1073.5905</td>\n",
              "    </tr>\n",
              "    <tr>\n",
              "      <th>2021-12-02</th>\n",
              "      <td>1073.5905</td>\n",
              "    </tr>\n",
              "    <tr>\n",
              "      <th>2021-12-03</th>\n",
              "      <td>1073.5905</td>\n",
              "    </tr>\n",
              "    <tr>\n",
              "      <th>2021-12-03</th>\n",
              "      <td>1073.5905</td>\n",
              "    </tr>\n",
              "    <tr>\n",
              "      <th>2021-12-04</th>\n",
              "      <td>1073.5905</td>\n",
              "    </tr>\n",
              "    <tr>\n",
              "      <th>2021-12-05</th>\n",
              "      <td>1073.5905</td>\n",
              "    </tr>\n",
              "    <tr>\n",
              "      <th>2021-12-06</th>\n",
              "      <td>1073.5905</td>\n",
              "    </tr>\n",
              "  </tbody>\n",
              "</table>\n",
              "</div>"
            ],
            "text/plain": [
              "            close_price\n",
              "Date                   \n",
              "2021-10-05    1073.5905\n",
              "2021-10-06    1073.5905\n",
              "2021-11-01    1073.5905\n",
              "2021-11-02    1073.5905\n",
              "2021-11-03    1073.5905\n",
              "2021-11-03    1073.5905\n",
              "2021-11-05    1073.5905\n",
              "2021-11-06    1073.5905\n",
              "2021-12-01    1073.5905\n",
              "2021-12-02    1073.5905\n",
              "2021-12-03    1073.5905\n",
              "2021-12-03    1073.5905\n",
              "2021-12-04    1073.5905\n",
              "2021-12-05    1073.5905\n",
              "2021-12-06    1073.5905"
            ]
          },
          "metadata": {
            "tags": []
          },
          "execution_count": 67
        }
      ]
    },
    {
      "cell_type": "code",
      "metadata": {
        "id": "Gx-K39msRrdP"
      },
      "source": [
        "#converting a numpy array\n",
        "amzndataset= need_data.values"
      ],
      "execution_count": null,
      "outputs": []
    },
    {
      "cell_type": "markdown",
      "metadata": {
        "id": "HM9Z_1sbTI9p"
      },
      "source": [
        "# Test & train split "
      ]
    },
    {
      "cell_type": "code",
      "metadata": {
        "colab": {
          "base_uri": "https://localhost:8080/"
        },
        "id": "3Cx0ecAYRrhp",
        "outputId": "61d1b3ce-87a0-4115-f125-4d0e2ae74444"
      },
      "source": [
        "#number of rows\n",
        "training_data_len = math.ceil(len(amzndataset)*.8)\n",
        "training_data_len"
      ],
      "execution_count": null,
      "outputs": [
        {
          "output_type": "execute_result",
          "data": {
            "text/plain": [
              "553"
            ]
          },
          "metadata": {
            "tags": []
          },
          "execution_count": 115
        }
      ]
    },
    {
      "cell_type": "code",
      "metadata": {
        "colab": {
          "base_uri": "https://localhost:8080/"
        },
        "id": "cSyr-Nu_RrmG",
        "outputId": "d2d39530-ff16-4042-d0a9-01d4ccf961ca"
      },
      "source": [
        "#scaling the target data and featuring df\n",
        "scaler = MinMaxScaler(feature_range=(0,1))\n",
        "scaler_data = scaler.fit_transform(amzndataset)\n",
        "print(amzndataset)"
      ],
      "execution_count": null,
      "outputs": [
        {
          "output_type": "stream",
          "text": [
            "[[1073.59050016]\n",
            " [ 300.46      ]\n",
            " [ 296.93      ]\n",
            " [1073.59050016]\n",
            " [1073.59050016]\n",
            " [ 291.41      ]\n",
            " [ 294.74      ]\n",
            " [ 293.27      ]\n",
            " [ 286.95      ]\n",
            " [ 290.74      ]\n",
            " [ 289.44      ]\n",
            " [ 297.25      ]\n",
            " [ 303.91      ]\n",
            " [ 311.78      ]\n",
            " [ 354.53      ]\n",
            " [1073.59050016]\n",
            " [ 364.47      ]\n",
            " [ 370.56      ]\n",
            " [ 372.995     ]\n",
            " [ 377.17      ]\n",
            " [ 373.37      ]\n",
            " [ 380.14      ]\n",
            " [ 378.59      ]\n",
            " [ 384.8       ]\n",
            " [ 380.16      ]\n",
            " [ 385.655     ]\n",
            " [1073.59050016]\n",
            " [ 369.51      ]\n",
            " [ 366.37      ]\n",
            " [ 374.24      ]\n",
            " [1073.59050016]\n",
            " [ 371.92      ]\n",
            " [ 373.24      ]\n",
            " [ 378.49      ]\n",
            " [ 375.11      ]\n",
            " [ 374.09      ]\n",
            " [ 367.35      ]\n",
            " [ 370.56      ]\n",
            " [ 372.1       ]\n",
            " [ 372.25      ]\n",
            " [1073.59050016]\n",
            " [ 377.04      ]\n",
            " [1073.59050016]\n",
            " [1073.59050016]\n",
            " [ 385.11      ]\n",
            " [ 386.04      ]\n",
            " [ 391.18      ]\n",
            " [ 389.99      ]\n",
            " [ 445.1       ]\n",
            " [1073.59050016]\n",
            " [ 422.87      ]\n",
            " [1073.59050016]\n",
            " [1073.59050016]\n",
            " [ 421.19      ]\n",
            " [ 419.1       ]\n",
            " [1073.59050016]\n",
            " [1073.59050016]\n",
            " [ 432.85      ]\n",
            " [ 426.87      ]\n",
            " [ 432.28      ]\n",
            " [ 421.71      ]\n",
            " [ 423.86      ]\n",
            " [1073.59050016]\n",
            " [ 425.47      ]\n",
            " [ 429.23      ]\n",
            " [ 430.92      ]\n",
            " [ 436.59      ]\n",
            " [ 423.5       ]\n",
            " [ 430.77      ]\n",
            " [ 432.97      ]\n",
            " [ 440.1       ]\n",
            " [ 438.1       ]\n",
            " [ 429.86      ]\n",
            " [ 437.39      ]\n",
            " [1073.59050016]\n",
            " [ 429.7       ]\n",
            " [ 443.51      ]\n",
            " [ 465.57      ]\n",
            " [ 475.48      ]\n",
            " [ 483.01      ]\n",
            " [1073.59050016]\n",
            " [ 488.1       ]\n",
            " [ 488.        ]\n",
            " [ 482.18      ]\n",
            " [ 529.42      ]\n",
            " [ 536.76      ]\n",
            " [1073.59050016]\n",
            " [ 531.9       ]\n",
            " [1073.59050016]\n",
            " [ 524.        ]\n",
            " [ 535.22      ]\n",
            " [ 494.47      ]\n",
            " [ 466.37      ]\n",
            " [ 500.77      ]\n",
            " [ 518.01      ]\n",
            " [ 510.55      ]\n",
            " [1073.59050016]\n",
            " [ 516.89      ]\n",
            " [ 529.44      ]\n",
            " [ 538.87      ]\n",
            " [ 540.26      ]\n",
            " [ 536.07      ]\n",
            " [ 533.75      ]\n",
            " [ 504.06      ]\n",
            " [ 520.72      ]\n",
            " [1073.59050016]\n",
            " [ 543.68      ]\n",
            " [ 533.16      ]\n",
            " [1073.59050016]\n",
            " [ 548.9       ]\n",
            " [ 544.83      ]\n",
            " [ 562.44      ]\n",
            " [ 573.15      ]\n",
            " [ 560.88      ]\n",
            " [ 555.77      ]\n",
            " [ 599.03      ]\n",
            " [1073.59050016]\n",
            " [ 608.61      ]\n",
            " [ 611.01      ]\n",
            " [ 626.55      ]\n",
            " [ 625.9       ]\n",
            " [ 628.35      ]\n",
            " [ 659.37      ]\n",
            " [ 673.25      ]\n",
            " [ 647.81      ]\n",
            " [ 643.3       ]\n",
            " [ 663.54      ]\n",
            " [ 661.27      ]\n",
            " [ 668.45      ]\n",
            " [ 675.34      ]\n",
            " [ 673.26      ]\n",
            " [1073.59050016]\n",
            " [ 664.8       ]\n",
            " [ 662.32      ]\n",
            " [1073.59050016]\n",
            " [1073.59050016]\n",
            " [ 795.9       ]\n",
            " [1073.59050016]\n",
            " [1073.59050016]\n",
            " [1073.59050016]\n",
            " [ 832.35      ]\n",
            " [ 812.5       ]\n",
            " [ 821.36      ]\n",
            " [ 836.39      ]\n",
            " [1073.59050016]\n",
            " [1073.59050016]\n",
            " [ 855.61      ]\n",
            " [ 852.19      ]\n",
            " [1073.59050016]\n",
            " [ 853.        ]\n",
            " [1073.59050016]\n",
            " [ 852.53      ]\n",
            " [1073.59050016]\n",
            " [1073.59050016]\n",
            " [1073.59050016]\n",
            " [ 846.82      ]\n",
            " [ 876.34      ]\n",
            " [1073.59050016]\n",
            " [ 891.51      ]\n",
            " [ 902.36      ]\n",
            " [1073.59050016]\n",
            " [1073.59050016]\n",
            " [ 901.99      ]\n",
            " [1073.59050016]\n",
            " [1073.59050016]\n",
            " [ 941.03      ]\n",
            " [ 949.04      ]\n",
            " [1073.59050016]\n",
            " [1073.59050016]\n",
            " [1073.59050016]\n",
            " [1073.59050016]\n",
            " [ 980.35      ]\n",
            " [ 995.78      ]\n",
            " [1073.59050016]\n",
            " [1073.59050016]\n",
            " [1010.07      ]\n",
            " [ 976.47      ]\n",
            " [1073.59050016]\n",
            " [ 968.        ]\n",
            " [1073.59050016]\n",
            " [ 971.4       ]\n",
            " [ 996.47      ]\n",
            " [1073.59050016]\n",
            " [1038.95      ]\n",
            " [1073.59050016]\n",
            " [ 987.58      ]\n",
            " [ 992.27      ]\n",
            " [ 967.99      ]\n",
            " [1073.59050016]\n",
            " [ 982.74      ]\n",
            " [1073.59050016]\n",
            " [1073.59050016]\n",
            " [ 967.8       ]\n",
            " [ 977.96      ]\n",
            " [ 982.58      ]\n",
            " [1073.59050016]\n",
            " [1073.59050016]\n",
            " [1073.59050016]\n",
            " [1073.59050016]\n",
            " [ 989.58      ]\n",
            " [ 990.99      ]\n",
            " [1073.59050016]\n",
            " [1073.59050016]\n",
            " [ 986.61      ]\n",
            " [1073.59050016]\n",
            " [1073.59050016]\n",
            " [ 966.3       ]\n",
            " [1073.59050016]\n",
            " [1094.22      ]\n",
            " [1111.6       ]\n",
            " [1120.66      ]\n",
            " [1129.88      ]\n",
            " [1073.59050016]\n",
            " [1073.59050016]\n",
            " [1073.59050016]\n",
            " [1073.59050016]\n",
            " [1073.59050016]\n",
            " [1133.95      ]\n",
            " [1162.        ]\n",
            " [1168.92      ]\n",
            " [1073.59050016]\n",
            " [1073.59050016]\n",
            " [1073.59050016]\n",
            " [1176.76      ]\n",
            " [1073.59050016]\n",
            " [1073.59050016]\n",
            " [1073.59050016]\n",
            " [1209.59      ]\n",
            " [1229.14      ]\n",
            " [1073.59050016]\n",
            " [1246.87      ]\n",
            " [1073.59050016]\n",
            " [1073.59050016]\n",
            " [1295.        ]\n",
            " [1073.59050016]\n",
            " [1377.95      ]\n",
            " [1442.84      ]\n",
            " [1339.6       ]\n",
            " [1414.51      ]\n",
            " [1451.05      ]\n",
            " [1073.59050016]\n",
            " [1073.59050016]\n",
            " [1468.35      ]\n",
            " [1073.59050016]\n",
            " [1500.25      ]\n",
            " [1537.64      ]\n",
            " [1545.        ]\n",
            " [1578.89      ]\n",
            " [1073.59050016]\n",
            " [1073.59050016]\n",
            " [1495.56      ]\n",
            " [1073.59050016]\n",
            " [1371.99      ]\n",
            " [1392.05      ]\n",
            " [1451.75      ]\n",
            " [1073.59050016]\n",
            " [1073.59050016]\n",
            " [1427.05      ]\n",
            " [1073.59050016]\n",
            " [1073.59050016]\n",
            " [1503.83      ]\n",
            " [1073.59050016]\n",
            " [1073.59050016]\n",
            " [1073.59050016]\n",
            " [1073.59050016]\n",
            " [1600.14      ]\n",
            " [1073.59050016]\n",
            " [1601.54      ]\n",
            " [1073.59050016]\n",
            " [1073.59050016]\n",
            " [1581.4       ]\n",
            " [1073.59050016]\n",
            " [1073.59050016]\n",
            " [1641.54      ]\n",
            " [1696.35      ]\n",
            " [1683.99      ]\n",
            " [1073.59050016]\n",
            " [1073.59050016]\n",
            " [1750.08      ]\n",
            " [1730.22      ]\n",
            " [1073.59050016]\n",
            " [1073.59050016]\n",
            " [1663.15      ]\n",
            " [1691.09      ]\n",
            " [1073.59050016]\n",
            " [1699.73      ]\n",
            " [1073.59050016]\n",
            " [1073.59050016]\n",
            " [1073.59050016]\n",
            " [1777.44      ]\n",
            " [1862.48      ]\n",
            " [1073.59050016]\n",
            " [1073.59050016]\n",
            " [1883.42      ]\n",
            " [1073.59050016]\n",
            " [1073.59050016]\n",
            " [1994.82      ]\n",
            " [1958.31      ]\n",
            " [1073.59050016]\n",
            " [1989.87      ]\n",
            " [1073.59050016]\n",
            " [1073.59050016]\n",
            " [1073.59050016]\n",
            " [1952.76      ]\n",
            " [1073.59050016]\n",
            " [1788.61      ]\n",
            " [1073.59050016]\n",
            " [1073.59050016]\n",
            " [1073.59050016]\n",
            " [1664.2       ]\n",
            " [1073.59050016]\n",
            " [1530.42      ]\n",
            " [1598.01      ]\n",
            " [1665.53      ]\n",
            " [1073.59050016]\n",
            " [1755.49      ]\n",
            " [1754.91      ]\n",
            " [1636.85      ]\n",
            " [1073.59050016]\n",
            " [1073.59050016]\n",
            " [1699.19      ]\n",
            " [1073.59050016]\n",
            " [1073.59050016]\n",
            " [1073.59050016]\n",
            " [1551.48      ]\n",
            " [1073.59050016]\n",
            " [1073.59050016]\n",
            " [1343.96      ]\n",
            " [1073.59050016]\n",
            " [1073.59050016]\n",
            " [1073.59050016]\n",
            " [1575.39      ]\n",
            " [1073.59050016]\n",
            " [1073.59050016]\n",
            " [1629.51      ]\n",
            " [1659.42      ]\n",
            " [1073.59050016]\n",
            " [1654.93      ]\n",
            " [1073.59050016]\n",
            " [1073.59050016]\n",
            " [1073.59050016]\n",
            " [1633.31      ]\n",
            " [1640.26      ]\n",
            " [1073.59050016]\n",
            " [1640.        ]\n",
            " [1073.59050016]\n",
            " [1631.56      ]\n",
            " [1073.59050016]\n",
            " [1639.83      ]\n",
            " [1671.73      ]\n",
            " [1073.59050016]\n",
            " [1712.36      ]\n",
            " [1073.59050016]\n",
            " [1073.59050016]\n",
            " [1073.59050016]\n",
            " [1774.26      ]\n",
            " [1780.75      ]\n",
            " [1073.59050016]\n",
            " [1073.59050016]\n",
            " [1814.19      ]\n",
            " [1813.98      ]\n",
            " [1837.28      ]\n",
            " [1073.59050016]\n",
            " [1849.86      ]\n",
            " [1073.59050016]\n",
            " [1863.04      ]\n",
            " [1073.59050016]\n",
            " [1073.59050016]\n",
            " [1073.59050016]\n",
            " [1073.59050016]\n",
            " [1911.52      ]\n",
            " [1869.        ]\n",
            " [1073.59050016]\n",
            " [1073.59050016]\n",
            " [1858.97      ]\n",
            " [1857.52      ]\n",
            " [1073.59050016]\n",
            " [1073.59050016]\n",
            " [1073.59050016]\n",
            " [1729.56      ]\n",
            " [1804.03      ]\n",
            " [1073.59050016]\n",
            " [1855.32      ]\n",
            " [1870.3       ]\n",
            " [1073.59050016]\n",
            " [1908.79      ]\n",
            " [1073.59050016]\n",
            " [1913.9       ]\n",
            " [1878.27      ]\n",
            " [1893.63      ]\n",
            " [1073.59050016]\n",
            " [1073.59050016]\n",
            " [1939.        ]\n",
            " [1073.59050016]\n",
            " [1073.59050016]\n",
            " [1988.3       ]\n",
            " [2001.07      ]\n",
            " [2001.07      ]\n",
            " [2011.        ]\n",
            " [1073.59050016]\n",
            " [1073.59050016]\n",
            " [1073.59050016]\n",
            " [1898.53      ]\n",
            " [1073.59050016]\n",
            " [1787.83      ]\n",
            " [1807.58      ]\n",
            " [1784.92      ]\n",
            " [1073.59050016]\n",
            " [1816.12      ]\n",
            " [1073.59050016]\n",
            " [1073.59050016]\n",
            " [1073.59050016]\n",
            " [1789.84      ]\n",
            " [1833.51      ]\n",
            " [1843.55      ]\n",
            " [1073.59050016]\n",
            " [1073.59050016]\n",
            " [1073.59050016]\n",
            " [1725.45      ]\n",
            " [1073.59050016]\n",
            " [1724.42      ]\n",
            " [1073.59050016]\n",
            " [1721.99      ]\n",
            " [1791.44      ]\n",
            " [1801.71      ]\n",
            " [1785.88      ]\n",
            " [1754.6       ]\n",
            " [1754.6       ]\n",
            " [1073.59050016]\n",
            " [1073.59050016]\n",
            " [1073.59050016]\n",
            " [1073.59050016]\n",
            " [1752.53      ]\n",
            " [1752.53      ]\n",
            " [1734.71      ]\n",
            " [1734.71      ]\n",
            " [1745.72      ]\n",
            " [1745.72      ]\n",
            " [1073.59050016]\n",
            " [1073.59050016]\n",
            " [1773.84      ]\n",
            " [1773.84      ]\n",
            " [1800.8       ]\n",
            " [1800.8       ]\n",
            " [1073.59050016]\n",
            " [1740.48      ]\n",
            " [1073.59050016]\n",
            " [1073.59050016]\n",
            " [1073.59050016]\n",
            " [1793.        ]\n",
            " [1789.21      ]\n",
            " [1073.59050016]\n",
            " [1073.59050016]\n",
            " [1898.01      ]\n",
            " [1874.97      ]\n",
            " [1073.59050016]\n",
            " [1073.59050016]\n",
            " [1073.59050016]\n",
            " [1073.59050016]\n",
            " [1853.25      ]\n",
            " [1073.59050016]\n",
            " [2039.87      ]\n",
            " [1073.59050016]\n",
            " [1073.59050016]\n",
            " [2155.67      ]\n",
            " [2009.29      ]\n",
            " [1883.75      ]\n",
            " [1073.59050016]\n",
            " [1908.99      ]\n",
            " [1924.03      ]\n",
            " [1891.82      ]\n",
            " [1820.86      ]\n",
            " [1073.59050016]\n",
            " [1073.59050016]\n",
            " [1073.59050016]\n",
            " [1940.1       ]\n",
            " [1885.84      ]\n",
            " [1955.49      ]\n",
            " [1900.1       ]\n",
            " [1073.59050016]\n",
            " [1073.59050016]\n",
            " [1963.95      ]\n",
            " [1949.72      ]\n",
            " [1073.59050016]\n",
            " [1997.59      ]\n",
            " [2011.6       ]\n",
            " [1073.59050016]\n",
            " [1073.59050016]\n",
            " [2168.87      ]\n",
            " [2408.19      ]\n",
            " [1073.59050016]\n",
            " [1073.59050016]\n",
            " [2328.12      ]\n",
            " [2399.45      ]\n",
            " [1073.59050016]\n",
            " [1073.59050016]\n",
            " [1073.59050016]\n",
            " [2388.85      ]\n",
            " [1073.59050016]\n",
            " [1073.59050016]\n",
            " [2449.33      ]\n",
            " [1073.59050016]\n",
            " [1073.59050016]\n",
            " [2472.41      ]\n",
            " [2460.6       ]\n",
            " [1073.59050016]\n",
            " [1073.59050016]\n",
            " [2600.86      ]\n",
            " [2653.98      ]\n",
            " [1073.59050016]\n",
            " [1073.59050016]\n",
            " [1073.59050016]\n",
            " [1073.59050016]\n",
            " [2878.7       ]\n",
            " [1073.59050016]\n",
            " [3057.04      ]\n",
            " [3000.12      ]\n",
            " [3182.63      ]\n",
            " [1073.59050016]\n",
            " [1073.59050016]\n",
            " [3104.        ]\n",
            " [3084.        ]\n",
            " [2999.9       ]\n",
            " [1073.59050016]\n",
            " [1073.59050016]\n",
            " [3138.83      ]\n",
            " [3205.03      ]\n",
            " [1073.59050016]\n",
            " [3162.24      ]\n",
            " [1073.59050016]\n",
            " [1073.59050016]\n",
            " [3260.48      ]\n",
            " [1073.59050016]\n",
            " [1073.59050016]\n",
            " [3531.45      ]\n",
            " [3294.62      ]\n",
            " [3149.84      ]\n",
            " [3268.61      ]\n",
            " [3156.13      ]\n",
            " [1073.59050016]\n",
            " [3221.26      ]\n",
            " [1073.59050016]\n",
            " [3199.2       ]\n",
            " [1073.59050016]\n",
            " [3241.16      ]\n",
            " [3322.        ]\n",
            " [1073.59050016]\n",
            " [3035.02      ]\n",
            " [3137.39      ]\n",
            " [3105.46      ]\n",
            " [1073.59050016]\n",
            " [1073.59050016]\n",
            " [3203.53      ]\n",
            " [3162.58      ]\n",
            " [1073.59050016]\n",
            " [1073.59050016]\n",
            " [3158.        ]\n",
            " [1073.59050016]\n",
            " [1073.59050016]\n",
            " [3236.08      ]\n",
            " [1073.59050016]\n",
            " [3172.69      ]\n",
            " [1073.59050016]\n",
            " [1073.59050016]\n",
            " [1073.59050016]\n",
            " [1073.59050016]\n",
            " [3186.63      ]\n",
            " [3186.63      ]\n",
            " [3138.38      ]\n",
            " [3165.89      ]\n",
            " [3127.47      ]\n",
            " [3104.25      ]\n",
            " [1073.59050016]\n",
            " [1073.59050016]\n",
            " [3120.76      ]\n",
            " [3306.99      ]\n",
            " [3292.23      ]\n",
            " [1073.59050016]\n",
            " [1073.59050016]\n",
            " [3294.        ]\n",
            " [3326.13      ]\n",
            " [3232.58      ]\n",
            " [3237.62      ]\n",
            " [3206.2       ]\n",
            " [1073.59050016]\n",
            " [3380.        ]\n",
            " [3352.15      ]\n",
            " [1073.59050016]\n",
            " [1073.59050016]\n",
            " [1073.59050016]\n",
            " [3328.23      ]\n",
            " [3249.9       ]\n",
            " [3180.74      ]\n",
            " [3057.16      ]\n",
            " [3146.14      ]\n",
            " [3094.53      ]\n",
            " [3005.        ]\n",
            " [3005.        ]\n",
            " [2977.57      ]\n",
            " [2977.57      ]\n",
            " [3000.46      ]\n",
            " [1073.59050016]\n",
            " [3135.73      ]\n",
            " [3135.73      ]\n",
            " [1073.59050016]\n",
            " [1073.59050016]\n",
            " [3110.87      ]\n",
            " [3110.87      ]\n",
            " [3137.5       ]\n",
            " [3137.5       ]\n",
            " [3075.73      ]\n",
            " [3075.73      ]\n",
            " [3055.29      ]\n",
            " [3055.29      ]\n",
            " [3094.08      ]\n",
            " [3094.08      ]\n",
            " [3161.        ]\n",
            " [1073.59050016]\n",
            " [1073.59050016]\n",
            " [1073.59050016]\n",
            " [3223.82      ]\n",
            " [3400.        ]\n",
            " [3333.        ]\n",
            " [3379.09      ]\n",
            " [3399.44      ]\n",
            " [3372.01      ]\n",
            " [3362.02      ]\n",
            " [3309.04      ]\n",
            " [3340.88      ]\n",
            " [1073.59050016]\n",
            " [1073.59050016]\n",
            " [3409.        ]\n",
            " [3417.43      ]\n",
            " [3458.5       ]\n",
            " [3471.31      ]\n",
            " [3467.42      ]\n",
            " [1073.59050016]\n",
            " [3386.49      ]\n",
            " [3386.49      ]\n",
            " [3311.87      ]\n",
            " [3270.54      ]\n",
            " [3161.47      ]\n",
            " [3270.39      ]\n",
            " [3232.28      ]\n",
            " [3231.8       ]\n",
            " [3203.08      ]\n",
            " [1073.59050016]\n",
            " [3244.99      ]\n",
            " [3259.05      ]\n",
            " [3265.16      ]\n",
            " [3230.11      ]\n",
            " [3223.07      ]\n",
            " [1073.59050016]\n",
            " [3233.99      ]\n",
            " [3206.22      ]\n",
            " [1073.59050016]\n",
            " [1073.59050016]\n",
            " [1073.59050016]\n",
            " [1073.59050016]\n",
            " [1073.59050016]\n",
            " [1073.59050016]\n",
            " [1073.59050016]\n",
            " [1073.59050016]\n",
            " [1073.59050016]\n",
            " [1073.59050016]\n",
            " [1073.59050016]\n",
            " [1073.59050016]\n",
            " [1073.59050016]\n",
            " [1073.59050016]\n",
            " [1073.59050016]\n",
            " [1073.59050016]\n",
            " [1073.59050016]\n",
            " [1073.59050016]\n",
            " [1073.59050016]\n",
            " [1073.59050016]\n",
            " [1073.59050016]\n",
            " [1073.59050016]\n",
            " [1073.59050016]\n",
            " [1073.59050016]\n",
            " [1073.59050016]\n",
            " [1073.59050016]\n",
            " [1073.59050016]\n",
            " [1073.59050016]\n",
            " [1073.59050016]\n",
            " [1073.59050016]\n",
            " [1073.59050016]\n",
            " [1073.59050016]\n",
            " [1073.59050016]\n",
            " [1073.59050016]\n",
            " [1073.59050016]\n",
            " [1073.59050016]]\n"
          ],
          "name": "stdout"
        }
      ]
    },
    {
      "cell_type": "code",
      "metadata": {
        "colab": {
          "base_uri": "https://localhost:8080/"
        },
        "id": "BBlrVvmxRrpy",
        "outputId": "c4069bf8-f780-4f46-8bd1-2eded83be812"
      },
      "source": [
        "#training data set\n",
        "train_data = scaler_data[0:training_data_len, :]\n",
        "\n",
        "#spliting data into training sets\n",
        "x_train =[]\n",
        "y_train=[]\n",
        "past_days= 15\n",
        "for i in range(past_days, len(train_data)):\n",
        "  x_train.append(train_data[i-past_days:i, :])\n",
        "  y_train.append(train_data[i, 0])\n",
        "  if i<= past_days:\n",
        "    print(x_train)\n",
        "    print(y_train)\n",
        "    print()"
      ],
      "execution_count": null,
      "outputs": [
        {
          "output_type": "stream",
          "text": [
            "[array([[0.24245354],\n",
            "       [0.00416397],\n",
            "       [0.00307597],\n",
            "       [0.24245354],\n",
            "       [0.24245354],\n",
            "       [0.00137463],\n",
            "       [0.00240099],\n",
            "       [0.00194791],\n",
            "       [0.        ],\n",
            "       [0.00116813],\n",
            "       [0.00076745],\n",
            "       [0.0031746 ],\n",
            "       [0.00522731],\n",
            "       [0.00765295],\n",
            "       [0.0208291 ]])]\n",
            "[0.24245353680318]\n",
            "\n"
          ],
          "name": "stdout"
        }
      ]
    },
    {
      "cell_type": "code",
      "metadata": {
        "id": "Mn4JV0CnodRw"
      },
      "source": [
        "#coverting train to numpy array\n",
        "x_train, y_train= np.array(x_train), np.array(y_train)"
      ],
      "execution_count": 135,
      "outputs": []
    },
    {
      "cell_type": "code",
      "metadata": {
        "colab": {
          "base_uri": "https://localhost:8080/"
        },
        "id": "5NgzwzgioeVB",
        "outputId": "6f022422-4bf0-4d4a-88c4-2cf216201cd4"
      },
      "source": [
        "#reshape the data to 3 dimension data\n",
        "x_train= np.reshape(x_train, (x_train.shape[0], x_train.shape[1], 1))\n",
        "x_train"
      ],
      "execution_count": 136,
      "outputs": [
        {
          "output_type": "execute_result",
          "data": {
            "text/plain": [
              "array([[[0.24245354],\n",
              "        [0.00416397],\n",
              "        [0.00307597],\n",
              "        ...,\n",
              "        [0.00522731],\n",
              "        [0.00765295],\n",
              "        [0.0208291 ]],\n",
              "\n",
              "       [[0.00416397],\n",
              "        [0.00307597],\n",
              "        [0.24245354],\n",
              "        ...,\n",
              "        [0.00765295],\n",
              "        [0.0208291 ],\n",
              "        [0.24245354]],\n",
              "\n",
              "       [[0.00307597],\n",
              "        [0.24245354],\n",
              "        [0.24245354],\n",
              "        ...,\n",
              "        [0.0208291 ],\n",
              "        [0.24245354],\n",
              "        [0.02389274]],\n",
              "\n",
              "       ...,\n",
              "\n",
              "       [[0.9270057 ],\n",
              "        [0.88238249],\n",
              "        [0.91898906],\n",
              "        ...,\n",
              "        [0.84699337],\n",
              "        [0.87854523],\n",
              "        [0.86870396]],\n",
              "\n",
              "       [[0.88238249],\n",
              "        [0.91898906],\n",
              "        [0.88432116],\n",
              "        ...,\n",
              "        [0.87854523],\n",
              "        [0.86870396],\n",
              "        [0.24245354]],\n",
              "\n",
              "       [[0.91898906],\n",
              "        [0.88432116],\n",
              "        [0.24245354],\n",
              "        ...,\n",
              "        [0.86870396],\n",
              "        [0.24245354],\n",
              "        [0.24245354]]])"
            ]
          },
          "metadata": {
            "tags": []
          },
          "execution_count": 136
        }
      ]
    },
    {
      "cell_type": "code",
      "metadata": {
        "colab": {
          "base_uri": "https://localhost:8080/"
        },
        "id": "3vJHb1fExw4B",
        "outputId": "4f5789b8-be8a-4635-d889-56364a2e354b"
      },
      "source": [
        "print(x_train.shape)\n",
        "print(y_train.shape)"
      ],
      "execution_count": 137,
      "outputs": [
        {
          "output_type": "stream",
          "text": [
            "(538, 15, 1)\n",
            "(538,)\n"
          ],
          "name": "stdout"
        }
      ]
    },
    {
      "cell_type": "code",
      "metadata": {
        "id": "xBN6myLtoee5"
      },
      "source": [
        "np.random.seed(2000)\n",
        "import keras.models\n",
        "import tensorflow\n",
        "from keras.layers import Dense, LSTM, Dropout\n",
        "from keras.models import Sequential"
      ],
      "execution_count": 138,
      "outputs": []
    },
    {
      "cell_type": "code",
      "metadata": {
        "colab": {
          "base_uri": "https://localhost:8080/"
        },
        "id": "IWg9UIIcsEYa",
        "outputId": "eb29854b-2020-41bf-9f27-502ccf98a051"
      },
      "source": [
        "model = Sequential()\n",
        "model.add(LSTM(160, return_sequences=True, activation=\"tanh\", input_shape=(x_train.shape[1],1)))\n",
        "model.add(Dropout(0.2))\n",
        "model.add(LSTM(80, return_sequences=False , activation=\"tanh\"))\n",
        "model.add(Dense(60))\n",
        "model.add(Dense(1))\n",
        "model.summary()"
      ],
      "execution_count": 140,
      "outputs": [
        {
          "output_type": "stream",
          "text": [
            "Model: \"sequential_3\"\n",
            "_________________________________________________________________\n",
            "Layer (type)                 Output Shape              Param #   \n",
            "=================================================================\n",
            "lstm_4 (LSTM)                (None, 15, 160)           103680    \n",
            "_________________________________________________________________\n",
            "dropout_2 (Dropout)          (None, 15, 160)           0         \n",
            "_________________________________________________________________\n",
            "lstm_5 (LSTM)                (None, 80)                77120     \n",
            "_________________________________________________________________\n",
            "dense_4 (Dense)              (None, 60)                4860      \n",
            "_________________________________________________________________\n",
            "dense_5 (Dense)              (None, 1)                 61        \n",
            "=================================================================\n",
            "Total params: 185,721\n",
            "Trainable params: 185,721\n",
            "Non-trainable params: 0\n",
            "_________________________________________________________________\n"
          ],
          "name": "stdout"
        }
      ]
    },
    {
      "cell_type": "code",
      "metadata": {
        "id": "YSmTXhtztfbO"
      },
      "source": [
        "model.compile(optimizer='adam', loss='mean_squared_error')"
      ],
      "execution_count": 141,
      "outputs": []
    },
    {
      "cell_type": "code",
      "metadata": {
        "id": "BkG7wTR3tfiH",
        "colab": {
          "base_uri": "https://localhost:8080/"
        },
        "outputId": "8e64116c-0063-4bf8-fb75-d945eb4f1a2c"
      },
      "source": [
        "#train the model\n",
        "from keras.callbacks import EarlyStopping\n",
        "early_stop= EarlyStopping(monitor= 'val_loss', mode= 'min', verbose= 1, patience= 5)\n",
        "history= model.fit(x_train, y_train, batch_size=64, epochs=100, verbose=1, validation_split=0.2, callbacks= [early_stop])"
      ],
      "execution_count": 142,
      "outputs": [
        {
          "output_type": "stream",
          "text": [
            "Epoch 1/100\n",
            "7/7 [==============================] - 17s 242ms/step - loss: 0.0379 - val_loss: 0.0680\n",
            "Epoch 2/100\n",
            "7/7 [==============================] - 0s 56ms/step - loss: 0.0104 - val_loss: 0.0700\n",
            "Epoch 3/100\n",
            "7/7 [==============================] - 0s 55ms/step - loss: 0.0085 - val_loss: 0.0615\n",
            "Epoch 4/100\n",
            "7/7 [==============================] - 0s 56ms/step - loss: 0.0077 - val_loss: 0.0683\n",
            "Epoch 5/100\n",
            "7/7 [==============================] - 0s 55ms/step - loss: 0.0076 - val_loss: 0.0604\n",
            "Epoch 6/100\n",
            "7/7 [==============================] - 0s 55ms/step - loss: 0.0081 - val_loss: 0.0631\n",
            "Epoch 7/100\n",
            "7/7 [==============================] - 0s 56ms/step - loss: 0.0080 - val_loss: 0.0605\n",
            "Epoch 8/100\n",
            "7/7 [==============================] - 0s 59ms/step - loss: 0.0069 - val_loss: 0.0621\n",
            "Epoch 9/100\n",
            "7/7 [==============================] - 0s 55ms/step - loss: 0.0074 - val_loss: 0.0604\n",
            "Epoch 10/100\n",
            "7/7 [==============================] - 0s 55ms/step - loss: 0.0072 - val_loss: 0.0627\n",
            "Epoch 11/100\n",
            "7/7 [==============================] - 0s 56ms/step - loss: 0.0074 - val_loss: 0.0602\n",
            "Epoch 12/100\n",
            "7/7 [==============================] - 0s 56ms/step - loss: 0.0073 - val_loss: 0.0644\n",
            "Epoch 13/100\n",
            "7/7 [==============================] - 0s 55ms/step - loss: 0.0076 - val_loss: 0.0601\n",
            "Epoch 14/100\n",
            "7/7 [==============================] - 0s 56ms/step - loss: 0.0077 - val_loss: 0.0611\n",
            "Epoch 15/100\n",
            "7/7 [==============================] - 0s 55ms/step - loss: 0.0074 - val_loss: 0.0609\n",
            "Epoch 16/100\n",
            "7/7 [==============================] - 0s 58ms/step - loss: 0.0078 - val_loss: 0.0603\n",
            "Epoch 17/100\n",
            "7/7 [==============================] - 0s 57ms/step - loss: 0.0074 - val_loss: 0.0599\n",
            "Epoch 18/100\n",
            "7/7 [==============================] - 0s 55ms/step - loss: 0.0079 - val_loss: 0.0645\n",
            "Epoch 19/100\n",
            "7/7 [==============================] - 0s 56ms/step - loss: 0.0082 - val_loss: 0.0599\n",
            "Epoch 20/100\n",
            "7/7 [==============================] - 0s 55ms/step - loss: 0.0074 - val_loss: 0.0606\n",
            "Epoch 21/100\n",
            "7/7 [==============================] - 0s 57ms/step - loss: 0.0069 - val_loss: 0.0609\n",
            "Epoch 22/100\n",
            "7/7 [==============================] - 0s 53ms/step - loss: 0.0072 - val_loss: 0.0604\n",
            "Epoch 00022: early stopping\n"
          ],
          "name": "stdout"
        }
      ]
    },
    {
      "cell_type": "code",
      "metadata": {
        "colab": {
          "base_uri": "https://localhost:8080/",
          "height": 364
        },
        "id": "ik0MDPsH5eRu",
        "outputId": "1bc5bb60-aae2-4072-8518-e380b77ce390"
      },
      "source": [
        "#plotting loss\n",
        "loss= pd.DataFrame(model.history.history)\n",
        "loss.plot()"
      ],
      "execution_count": 144,
      "outputs": [
        {
          "output_type": "execute_result",
          "data": {
            "text/plain": [
              "<matplotlib.axes._subplots.AxesSubplot at 0x7f6755ac0490>"
            ]
          },
          "metadata": {
            "tags": []
          },
          "execution_count": 144
        },
        {
          "output_type": "display_data",
          "data": {
            "image/png": "[encoded data removed]",
            "text/plain": [
              "<Figure size 576x396 with 1 Axes>"
            ]
          },
          "metadata": {
            "tags": []
          }
        }
      ]
    },
    {
      "cell_type": "code",
      "metadata": {
        "id": "MgjgSfRE5erV"
      },
      "source": [
        "#Creating the testing data set\n",
        "test_data = scaler_data[training_data_len - past_days:, :]\n",
        "\n",
        "#creating the datasets\n",
        "x_test=[]\n",
        "y_test= amzndataset[training_data_len:, 0]\n",
        "for i in range (past_days, len(test_data)):\n",
        "  x_test.append(test_data[i- past_days:i, :])"
      ],
      "execution_count": 148,
      "outputs": []
    },
    {
      "cell_type": "code",
      "metadata": {
        "id": "-hinsg7J5e1N"
      },
      "source": [
        "#convert the data to numpy array\n",
        "x_test= np.array(x_test)\n",
        "\n",
        "#reshaping the data\n",
        "x_data= np.reshape(x_test,(x_test.shape[0], x_test.shape[1], 1))\n"
      ],
      "execution_count": 149,
      "outputs": []
    },
    {
      "cell_type": "code",
      "metadata": {
        "colab": {
          "base_uri": "https://localhost:8080/"
        },
        "id": "vRsgFlnk5e_0",
        "outputId": "25f5e753-61b8-4785-ef35-98cf88708b38"
      },
      "source": [
        "#get the model predicted price \n",
        "predictions= model.predict(x_test)\n",
        "predictions=scaler.inverse_transform(predictions)\n",
        "predictions"
      ],
      "execution_count": 150,
      "outputs": [
        {
          "output_type": "execute_result",
          "data": {
            "text/plain": [
              "array([[2235.3867],\n",
              "       [2227.047 ],\n",
              "       [2243.113 ],\n",
              "       [2172.0828],\n",
              "       [2187.3054],\n",
              "       [2119.1514],\n",
              "       [2089.422 ],\n",
              "       [2036.4749],\n",
              "       [1966.5464],\n",
              "       [1995.5175],\n",
              "       [1946.5845],\n",
              "       [1879.9169],\n",
              "       [1802.7653],\n",
              "       [1773.4701],\n",
              "       [1784.9779],\n",
              "       [1773.6268],\n",
              "       [1799.2308],\n",
              "       [1909.3678],\n",
              "       [2027.0913],\n",
              "       [2091.019 ],\n",
              "       [2169.3818],\n",
              "       [2201.774 ],\n",
              "       [2188.3298],\n",
              "       [2253.367 ],\n",
              "       [2274.2998],\n",
              "       [2312.8887],\n",
              "       [2311.4448],\n",
              "       [2328.8618],\n",
              "       [2364.3572],\n",
              "       [2361.5085],\n",
              "       [2376.6025],\n",
              "       [2405.4434],\n",
              "       [2394.5325],\n",
              "       [2402.0293],\n",
              "       [2424.3936],\n",
              "       [2456.9607],\n",
              "       [2446.9163],\n",
              "       [2353.0496],\n",
              "       [2288.7812],\n",
              "       [2256.2761],\n",
              "       [2304.437 ],\n",
              "       [2360.7585],\n",
              "       [2370.184 ],\n",
              "       [2390.2373],\n",
              "       [2418.2842],\n",
              "       [2448.7034],\n",
              "       [2479.758 ],\n",
              "       [2560.5908],\n",
              "       [2575.4084],\n",
              "       [2548.61  ],\n",
              "       [2585.1982],\n",
              "       [2621.751 ],\n",
              "       [2614.1853],\n",
              "       [2517.789 ],\n",
              "       [2448.418 ],\n",
              "       [2405.431 ],\n",
              "       [2388.0198],\n",
              "       [2386.8523],\n",
              "       [2400.1953],\n",
              "       [2425.0007],\n",
              "       [2454.9897],\n",
              "       [2488.2292],\n",
              "       [2522.7827],\n",
              "       [2556.5107],\n",
              "       [2635.813 ],\n",
              "       [2613.2192],\n",
              "       [2552.6902],\n",
              "       [2510.5752],\n",
              "       [2487.447 ],\n",
              "       [2440.4976],\n",
              "       [2421.1194],\n",
              "       [2424.9849],\n",
              "       [2447.8494],\n",
              "       [2485.197 ],\n",
              "       [2530.3547],\n",
              "       [2578.8303],\n",
              "       [2627.943 ],\n",
              "       [2626.892 ],\n",
              "       [2582.921 ],\n",
              "       [2554.251 ],\n",
              "       [2592.6584],\n",
              "       [2639.1016],\n",
              "       [2691.8948],\n",
              "       [2700.642 ],\n",
              "       [2665.1472],\n",
              "       [2646.1792],\n",
              "       [2639.8892],\n",
              "       [2643.398 ],\n",
              "       [2654.768 ],\n",
              "       [2669.1475],\n",
              "       [2688.3616],\n",
              "       [2707.9998],\n",
              "       [2779.324 ],\n",
              "       [2839.7114],\n",
              "       [2795.5098],\n",
              "       [2760.0256],\n",
              "       [2733.963 ],\n",
              "       [2717.8862],\n",
              "       [2710.2546],\n",
              "       [2763.0908],\n",
              "       [2715.1965],\n",
              "       [2679.8481],\n",
              "       [2658.319 ],\n",
              "       [2602.526 ],\n",
              "       [2519.073 ],\n",
              "       [2408.981 ],\n",
              "       [2283.005 ],\n",
              "       [2146.6467],\n",
              "       [2006.4773],\n",
              "       [1921.8518],\n",
              "       [1777.0483],\n",
              "       [1639.9265],\n",
              "       [1512.8103],\n",
              "       [1398.1472],\n",
              "       [1295.6023],\n",
              "       [1268.3372],\n",
              "       [1179.4142],\n",
              "       [1103.2645],\n",
              "       [1103.2645],\n",
              "       [1103.2645],\n",
              "       [1103.2645],\n",
              "       [1103.2645],\n",
              "       [1103.2645],\n",
              "       [1103.2645],\n",
              "       [1103.2645],\n",
              "       [1103.2645],\n",
              "       [1103.2645],\n",
              "       [1103.2645],\n",
              "       [1103.2645],\n",
              "       [1103.2645],\n",
              "       [1103.2645],\n",
              "       [1103.2645],\n",
              "       [1103.2645],\n",
              "       [1103.2645],\n",
              "       [1103.2645],\n",
              "       [1103.2645],\n",
              "       [1103.2645],\n",
              "       [1103.2645]], dtype=float32)"
            ]
          },
          "metadata": {
            "tags": []
          },
          "execution_count": 150
        }
      ]
    },
    {
      "cell_type": "markdown",
      "metadata": {
        "id": "-4BQuDIV7fgL"
      },
      "source": [
        "# RMSE value"
      ]
    },
    {
      "cell_type": "code",
      "metadata": {
        "colab": {
          "base_uri": "https://localhost:8080/"
        },
        "id": "-r4-HcOA7Jpk",
        "outputId": "e065010a-8845-4da0-a65c-501ae413e9c9"
      },
      "source": [
        "rmse= np.sqrt(np.mean(predictions - y_test)**2)\n",
        "print(\"RMSE =\", rmse)"
      ],
      "execution_count": 152,
      "outputs": [
        {
          "output_type": "stream",
          "text": [
            "RMSE = 67.49121694087746\n"
          ],
          "name": "stdout"
        }
      ]
    },
    {
      "cell_type": "markdown",
      "metadata": {
        "id": "Driqazc973IC"
      },
      "source": [
        "# Model prediction"
      ]
    },
    {
      "cell_type": "code",
      "metadata": {
        "id": "J82ZvVsR7J2E"
      },
      "source": [
        "#plot the data\n",
        "import copy\n",
        "valid= copy.deepcopy(amzn_mod[training_data_len:])\n",
        "valid['Predictions']= predictions"
      ],
      "execution_count": 154,
      "outputs": []
    },
    {
      "cell_type": "code",
      "metadata": {
        "colab": {
          "base_uri": "https://localhost:8080/",
          "height": 405
        },
        "id": "mXmHCZdm7Js6",
        "outputId": "e20b09f2-56f8-4af6-9cb1-87e438337be1"
      },
      "source": [
        "plt.figure(figsize=(14,6))\n",
        "plt.title('Prediction model')\n",
        "plt.xlabel('Date', fontsize = 13, color='black')\n",
        "plt.ylabel('Close Price', fontsize=13, color='black')\n",
        "plt.plot(valid['Close'], color='green', label= 'Actual closing price')\n",
        "plt.plot(valid['Predictions'], color='orange', label= 'Predicted closing price')\n",
        "plt.legend(loc= 'lower right', fontsize=10)\n",
        "plt.xticks(fontsize= 10)\n",
        "plt.yticks(fontsize= 10)\n",
        "plt.show()"
      ],
      "execution_count": 155,
      "outputs": [
        {
          "output_type": "display_data",
          "data": {
            "image/png": "[encoded data removed]",
            "text/plain": [
              "<Figure size 1008x432 with 1 Axes>"
            ]
          },
          "metadata": {
            "tags": []
          }
        }
      ]
    },
    {
      "cell_type": "code",
      "metadata": {
        "colab": {
          "base_uri": "https://localhost:8080/",
          "height": 431
        },
        "id": "H_yplPbw8j4x",
        "outputId": "3d0d0ef8-97f5-4971-b840-c644a6913231"
      },
      "source": [
        "valid"
      ],
      "execution_count": 156,
      "outputs": [
        {
          "output_type": "execute_result",
          "data": {
            "text/html": [
              "<div>\n",
              "<style scoped>\n",
              "    .dataframe tbody tr th:only-of-type {\n",
              "        vertical-align: middle;\n",
              "    }\n",
              "\n",
              "    .dataframe tbody tr th {\n",
              "        vertical-align: top;\n",
              "    }\n",
              "\n",
              "    .dataframe thead th {\n",
              "        text-align: right;\n",
              "    }\n",
              "</style>\n",
              "<table border=\"1\" class=\"dataframe\">\n",
              "  <thead>\n",
              "    <tr style=\"text-align: right;\">\n",
              "      <th></th>\n",
              "      <th>Close</th>\n",
              "      <th>compound</th>\n",
              "      <th>negative</th>\n",
              "      <th>neutral</th>\n",
              "      <th>positive</th>\n",
              "      <th>Open</th>\n",
              "      <th>High</th>\n",
              "      <th>Low</th>\n",
              "      <th>Volume</th>\n",
              "      <th>Predictions</th>\n",
              "    </tr>\n",
              "    <tr>\n",
              "      <th>Date</th>\n",
              "      <th></th>\n",
              "      <th></th>\n",
              "      <th></th>\n",
              "      <th></th>\n",
              "      <th></th>\n",
              "      <th></th>\n",
              "      <th></th>\n",
              "      <th></th>\n",
              "      <th></th>\n",
              "      <th></th>\n",
              "    </tr>\n",
              "  </thead>\n",
              "  <tbody>\n",
              "    <tr>\n",
              "      <th>2020-12-04</th>\n",
              "      <td>3162.5800</td>\n",
              "      <td>0.1531</td>\n",
              "      <td>0.044</td>\n",
              "      <td>0.915</td>\n",
              "      <td>0.041</td>\n",
              "      <td>3198.210000</td>\n",
              "      <td>3198.210000</td>\n",
              "      <td>3158.760000</td>\n",
              "      <td>2.913611e+06</td>\n",
              "      <td>2235.386719</td>\n",
              "    </tr>\n",
              "    <tr>\n",
              "      <th>2020-12-05</th>\n",
              "      <td>1073.5905</td>\n",
              "      <td>0.9978</td>\n",
              "      <td>0.011</td>\n",
              "      <td>0.864</td>\n",
              "      <td>0.125</td>\n",
              "      <td>1074.084557</td>\n",
              "      <td>1085.290177</td>\n",
              "      <td>1061.333931</td>\n",
              "      <td>4.202192e+06</td>\n",
              "      <td>2227.047119</td>\n",
              "    </tr>\n",
              "    <tr>\n",
              "      <th>2020-12-06</th>\n",
              "      <td>1073.5905</td>\n",
              "      <td>0.9930</td>\n",
              "      <td>0.058</td>\n",
              "      <td>0.801</td>\n",
              "      <td>0.140</td>\n",
              "      <td>1074.084557</td>\n",
              "      <td>1085.290177</td>\n",
              "      <td>1061.333931</td>\n",
              "      <td>4.202192e+06</td>\n",
              "      <td>2243.113037</td>\n",
              "    </tr>\n",
              "    <tr>\n",
              "      <th>2020-12-07</th>\n",
              "      <td>3158.0000</td>\n",
              "      <td>0.8555</td>\n",
              "      <td>0.010</td>\n",
              "      <td>0.900</td>\n",
              "      <td>0.090</td>\n",
              "      <td>3156.480000</td>\n",
              "      <td>3180.760000</td>\n",
              "      <td>3141.690000</td>\n",
              "      <td>2.751316e+06</td>\n",
              "      <td>2172.082764</td>\n",
              "    </tr>\n",
              "    <tr>\n",
              "      <th>2020-12-12</th>\n",
              "      <td>1073.5905</td>\n",
              "      <td>0.9892</td>\n",
              "      <td>0.036</td>\n",
              "      <td>0.861</td>\n",
              "      <td>0.102</td>\n",
              "      <td>1074.084557</td>\n",
              "      <td>1085.290177</td>\n",
              "      <td>1061.333931</td>\n",
              "      <td>4.202192e+06</td>\n",
              "      <td>2187.305420</td>\n",
              "    </tr>\n",
              "    <tr>\n",
              "      <th>...</th>\n",
              "      <td>...</td>\n",
              "      <td>...</td>\n",
              "      <td>...</td>\n",
              "      <td>...</td>\n",
              "      <td>...</td>\n",
              "      <td>...</td>\n",
              "      <td>...</td>\n",
              "      <td>...</td>\n",
              "      <td>...</td>\n",
              "      <td>...</td>\n",
              "    </tr>\n",
              "    <tr>\n",
              "      <th>2021-12-03</th>\n",
              "      <td>1073.5905</td>\n",
              "      <td>0.9964</td>\n",
              "      <td>0.035</td>\n",
              "      <td>0.847</td>\n",
              "      <td>0.117</td>\n",
              "      <td>1074.084557</td>\n",
              "      <td>1085.290177</td>\n",
              "      <td>1061.333931</td>\n",
              "      <td>4.202192e+06</td>\n",
              "      <td>1103.264526</td>\n",
              "    </tr>\n",
              "    <tr>\n",
              "      <th>2021-12-03</th>\n",
              "      <td>1073.5905</td>\n",
              "      <td>0.9964</td>\n",
              "      <td>0.035</td>\n",
              "      <td>0.847</td>\n",
              "      <td>0.117</td>\n",
              "      <td>1074.084557</td>\n",
              "      <td>1085.290177</td>\n",
              "      <td>1061.333931</td>\n",
              "      <td>4.202192e+06</td>\n",
              "      <td>1103.264526</td>\n",
              "    </tr>\n",
              "    <tr>\n",
              "      <th>2021-12-04</th>\n",
              "      <td>1073.5905</td>\n",
              "      <td>0.9792</td>\n",
              "      <td>0.055</td>\n",
              "      <td>0.866</td>\n",
              "      <td>0.079</td>\n",
              "      <td>1074.084557</td>\n",
              "      <td>1085.290177</td>\n",
              "      <td>1061.333931</td>\n",
              "      <td>4.202192e+06</td>\n",
              "      <td>1103.264526</td>\n",
              "    </tr>\n",
              "    <tr>\n",
              "      <th>2021-12-05</th>\n",
              "      <td>1073.5905</td>\n",
              "      <td>0.9923</td>\n",
              "      <td>0.067</td>\n",
              "      <td>0.822</td>\n",
              "      <td>0.111</td>\n",
              "      <td>1074.084557</td>\n",
              "      <td>1085.290177</td>\n",
              "      <td>1061.333931</td>\n",
              "      <td>4.202192e+06</td>\n",
              "      <td>1103.264526</td>\n",
              "    </tr>\n",
              "    <tr>\n",
              "      <th>2021-12-06</th>\n",
              "      <td>1073.5905</td>\n",
              "      <td>0.9869</td>\n",
              "      <td>0.035</td>\n",
              "      <td>0.858</td>\n",
              "      <td>0.107</td>\n",
              "      <td>1074.084557</td>\n",
              "      <td>1085.290177</td>\n",
              "      <td>1061.333931</td>\n",
              "      <td>4.202192e+06</td>\n",
              "      <td>1103.264526</td>\n",
              "    </tr>\n",
              "  </tbody>\n",
              "</table>\n",
              "<p>138 rows × 10 columns</p>\n",
              "</div>"
            ],
            "text/plain": [
              "                Close  compound  ...        Volume  Predictions\n",
              "Date                             ...                           \n",
              "2020-12-04  3162.5800    0.1531  ...  2.913611e+06  2235.386719\n",
              "2020-12-05  1073.5905    0.9978  ...  4.202192e+06  2227.047119\n",
              "2020-12-06  1073.5905    0.9930  ...  4.202192e+06  2243.113037\n",
              "2020-12-07  3158.0000    0.8555  ...  2.751316e+06  2172.082764\n",
              "2020-12-12  1073.5905    0.9892  ...  4.202192e+06  2187.305420\n",
              "...               ...       ...  ...           ...          ...\n",
              "2021-12-03  1073.5905    0.9964  ...  4.202192e+06  1103.264526\n",
              "2021-12-03  1073.5905    0.9964  ...  4.202192e+06  1103.264526\n",
              "2021-12-04  1073.5905    0.9792  ...  4.202192e+06  1103.264526\n",
              "2021-12-05  1073.5905    0.9923  ...  4.202192e+06  1103.264526\n",
              "2021-12-06  1073.5905    0.9869  ...  4.202192e+06  1103.264526\n",
              "\n",
              "[138 rows x 10 columns]"
            ]
          },
          "metadata": {
            "tags": []
          },
          "execution_count": 156
        }
      ]
    }
  ]
}